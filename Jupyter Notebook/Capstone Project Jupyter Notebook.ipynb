{
 "cells": [
  {
   "cell_type": "markdown",
   "id": "96e5192e-02c9-4aec-9c5c-2e466bcde10d",
   "metadata": {},
   "source": [
    "# Imports"
   ]
  },
  {
   "cell_type": "code",
   "execution_count": 1,
   "id": "13b8fca8",
   "metadata": {},
   "outputs": [],
   "source": [
    "# install this library if not present \n",
    "# !pip install wordcloud\n"
   ]
  },
  {
   "cell_type": "code",
   "execution_count": 3,
   "id": "254c3c00-4266-4d17-b9c3-443723db2ed0",
   "metadata": {},
   "outputs": [],
   "source": [
    "import pandas as pd\n",
    "import numpy as np\n",
    "import matplotlib.pyplot as plt\n",
    "from matplotlib import pyplot \n",
    "import seaborn as sns\n",
    "from wordcloud import WordCloud\n",
    "\n",
    "# Importing necessary modules for model evaluation and preprocessing \n",
    "from sklearn.model_selection import train_test_split\n",
    "from sklearn.model_selection import cross_val_score\n",
    "from sklearn.model_selection import StratifiedKFold\n",
    "from sklearn.preprocessing import StandardScaler\n",
    "\n",
    "# Models\n",
    "from sklearn.tree import DecisionTreeRegressor\n",
    "from sklearn.ensemble import RandomForestClassifier\n",
    "from sklearn.discriminant_analysis import LinearDiscriminantAnalysis\n",
    "from sklearn.naive_bayes import GaussianNB\n",
    "\n",
    "# Importing GridSearchCV for hyperparameter tuning and mean_squared_error for model evaluation\n",
    "from sklearn.model_selection import GridSearchCV\n",
    "from sklearn.metrics import mean_squared_error\n",
    "\n",
    "# package that will help us to save tough models, this will allow us to run all notebook quickly \n",
    "import pickle as pk\n",
    "import pickle\n",
    "from math import sqrt\n",
    "import json\n",
    "from sklearn.metrics import mean_squared_error\n",
    "from sklearn.metrics.pairwise import cosine_similarity\n",
    "\n",
    "# GUI\n",
    "import tkinter as tk\n",
    "from tkinter import ttk"
   ]
  },
  {
   "cell_type": "code",
   "execution_count": null,
   "id": "194a3cc5-ecdc-4f80-b76e-2790a87052d2",
   "metadata": {},
   "outputs": [],
   "source": []
  },
  {
   "cell_type": "markdown",
   "id": "60fae75d-5e14-478e-aacb-6e4b70664109",
   "metadata": {},
   "source": [
    "# Read CSVs\n",
    "\n",
    "Datasets are available on the link in readME. Change the paths as needed."
   ]
  },
  {
   "cell_type": "code",
   "execution_count": 4,
   "id": "3e098fcd-34f2-4984-9034-4d9caa9b5c7f",
   "metadata": {},
   "outputs": [],
   "source": [
    "path_movies ='../Datasets/movies.csv'\n",
    "path_ratings = '../Datasets/ratings.csv' \n",
    "\n",
    "movies = pd.read_csv(path_movies)\n",
    "ratings = pd.read_csv(path_ratings)"
   ]
  },
  {
   "cell_type": "markdown",
   "id": "1d3ca647-0e73-4d22-bcf6-1da48a07d802",
   "metadata": {},
   "source": [
    "# Data Understanding and Preparation\n",
    "\n",
    "In this phase, we will do the basic first exploration of what the data comprises. As this is an interactive project, some data preparation is also done along with data understanding. But as a way to organise this second and third phase we organised this way:\n",
    "\n",
    "- Data Understanding and Prep of the Movies dataset, with further data understanding about genres and data visualisations of genres and year.\n",
    "- Data Understanding and Prep of the Ratings dataset.\n",
    "- Merging of both datasets.\n",
    "- Data preparation for Modelling."
   ]
  },
  {
   "cell_type": "markdown",
   "id": "e85f4a47-df9f-48d4-9629-380ba6391d5e",
   "metadata": {},
   "source": [
    "## Data Understanding for Movies Dataset\n",
    "\n",
    "- ‘Movies’ dataset contains 62.423 rows and 3 columns;\n",
    "- Columns are: ‘movieId’ (int64), ‘title’ (object) and ‘genres’ (object);\n",
    "- No duplicated values;\n",
    "- No Null values;\n",
    "- No NA values;"
   ]
  },
  {
   "cell_type": "code",
   "execution_count": 4,
   "id": "5bfb2dab-764b-40ae-8ec6-b944da69ac64",
   "metadata": {},
   "outputs": [
    {
     "data": {
      "text/html": [
       "<div>\n",
       "<style scoped>\n",
       "    .dataframe tbody tr th:only-of-type {\n",
       "        vertical-align: middle;\n",
       "    }\n",
       "\n",
       "    .dataframe tbody tr th {\n",
       "        vertical-align: top;\n",
       "    }\n",
       "\n",
       "    .dataframe thead th {\n",
       "        text-align: right;\n",
       "    }\n",
       "</style>\n",
       "<table border=\"1\" class=\"dataframe\">\n",
       "  <thead>\n",
       "    <tr style=\"text-align: right;\">\n",
       "      <th></th>\n",
       "      <th>movieId</th>\n",
       "      <th>title</th>\n",
       "      <th>genres</th>\n",
       "    </tr>\n",
       "  </thead>\n",
       "  <tbody>\n",
       "    <tr>\n",
       "      <th>0</th>\n",
       "      <td>1</td>\n",
       "      <td>Toy Story (1995)</td>\n",
       "      <td>Adventure|Animation|Children|Comedy|Fantasy</td>\n",
       "    </tr>\n",
       "    <tr>\n",
       "      <th>1</th>\n",
       "      <td>2</td>\n",
       "      <td>Jumanji (1995)</td>\n",
       "      <td>Adventure|Children|Fantasy</td>\n",
       "    </tr>\n",
       "    <tr>\n",
       "      <th>2</th>\n",
       "      <td>3</td>\n",
       "      <td>Grumpier Old Men (1995)</td>\n",
       "      <td>Comedy|Romance</td>\n",
       "    </tr>\n",
       "    <tr>\n",
       "      <th>3</th>\n",
       "      <td>4</td>\n",
       "      <td>Waiting to Exhale (1995)</td>\n",
       "      <td>Comedy|Drama|Romance</td>\n",
       "    </tr>\n",
       "    <tr>\n",
       "      <th>4</th>\n",
       "      <td>5</td>\n",
       "      <td>Father of the Bride Part II (1995)</td>\n",
       "      <td>Comedy</td>\n",
       "    </tr>\n",
       "  </tbody>\n",
       "</table>\n",
       "</div>"
      ],
      "text/plain": [
       "   movieId                               title  \\\n",
       "0        1                    Toy Story (1995)   \n",
       "1        2                      Jumanji (1995)   \n",
       "2        3             Grumpier Old Men (1995)   \n",
       "3        4            Waiting to Exhale (1995)   \n",
       "4        5  Father of the Bride Part II (1995)   \n",
       "\n",
       "                                        genres  \n",
       "0  Adventure|Animation|Children|Comedy|Fantasy  \n",
       "1                   Adventure|Children|Fantasy  \n",
       "2                               Comedy|Romance  \n",
       "3                         Comedy|Drama|Romance  \n",
       "4                                       Comedy  "
      ]
     },
     "execution_count": 4,
     "metadata": {},
     "output_type": "execute_result"
    }
   ],
   "source": [
    "movies.head()"
   ]
  },
  {
   "cell_type": "code",
   "execution_count": 5,
   "id": "79aaaa94-d2df-43f7-ad3d-ba40496e18e3",
   "metadata": {},
   "outputs": [
    {
     "data": {
      "text/plain": [
       "movieId     int64\n",
       "title      object\n",
       "genres     object\n",
       "dtype: object"
      ]
     },
     "execution_count": 5,
     "metadata": {},
     "output_type": "execute_result"
    }
   ],
   "source": [
    "movies.dtypes"
   ]
  },
  {
   "cell_type": "code",
   "execution_count": 6,
   "id": "5615d14d-1df1-4dcf-b975-c755acc6c13c",
   "metadata": {},
   "outputs": [
    {
     "data": {
      "text/plain": [
       "(62423, 3)"
      ]
     },
     "execution_count": 6,
     "metadata": {},
     "output_type": "execute_result"
    }
   ],
   "source": [
    "movies.shape"
   ]
  },
  {
   "cell_type": "code",
   "execution_count": 7,
   "id": "e2613309-6b25-4128-b36d-5ed622a76a81",
   "metadata": {},
   "outputs": [
    {
     "data": {
      "text/html": [
       "<div>\n",
       "<style scoped>\n",
       "    .dataframe tbody tr th:only-of-type {\n",
       "        vertical-align: middle;\n",
       "    }\n",
       "\n",
       "    .dataframe tbody tr th {\n",
       "        vertical-align: top;\n",
       "    }\n",
       "\n",
       "    .dataframe thead th {\n",
       "        text-align: right;\n",
       "    }\n",
       "</style>\n",
       "<table border=\"1\" class=\"dataframe\">\n",
       "  <thead>\n",
       "    <tr style=\"text-align: right;\">\n",
       "      <th></th>\n",
       "      <th>movieId</th>\n",
       "    </tr>\n",
       "  </thead>\n",
       "  <tbody>\n",
       "    <tr>\n",
       "      <th>count</th>\n",
       "      <td>62423.000000</td>\n",
       "    </tr>\n",
       "    <tr>\n",
       "      <th>mean</th>\n",
       "      <td>122220.387646</td>\n",
       "    </tr>\n",
       "    <tr>\n",
       "      <th>std</th>\n",
       "      <td>63264.744844</td>\n",
       "    </tr>\n",
       "    <tr>\n",
       "      <th>min</th>\n",
       "      <td>1.000000</td>\n",
       "    </tr>\n",
       "    <tr>\n",
       "      <th>25%</th>\n",
       "      <td>82146.500000</td>\n",
       "    </tr>\n",
       "    <tr>\n",
       "      <th>50%</th>\n",
       "      <td>138022.000000</td>\n",
       "    </tr>\n",
       "    <tr>\n",
       "      <th>75%</th>\n",
       "      <td>173222.000000</td>\n",
       "    </tr>\n",
       "    <tr>\n",
       "      <th>max</th>\n",
       "      <td>209171.000000</td>\n",
       "    </tr>\n",
       "  </tbody>\n",
       "</table>\n",
       "</div>"
      ],
      "text/plain": [
       "             movieId\n",
       "count   62423.000000\n",
       "mean   122220.387646\n",
       "std     63264.744844\n",
       "min         1.000000\n",
       "25%     82146.500000\n",
       "50%    138022.000000\n",
       "75%    173222.000000\n",
       "max    209171.000000"
      ]
     },
     "execution_count": 7,
     "metadata": {},
     "output_type": "execute_result"
    }
   ],
   "source": [
    "movies.describe()"
   ]
  },
  {
   "cell_type": "code",
   "execution_count": 8,
   "id": "b75435c9-de29-4158-860c-9aaf771a5643",
   "metadata": {},
   "outputs": [
    {
     "name": "stdout",
     "output_type": "stream",
     "text": [
      "<class 'pandas.core.frame.DataFrame'>\n",
      "RangeIndex: 62423 entries, 0 to 62422\n",
      "Data columns (total 3 columns):\n",
      " #   Column   Non-Null Count  Dtype \n",
      "---  ------   --------------  ----- \n",
      " 0   movieId  62423 non-null  int64 \n",
      " 1   title    62423 non-null  object\n",
      " 2   genres   62423 non-null  object\n",
      "dtypes: int64(1), object(2)\n",
      "memory usage: 1.4+ MB\n"
     ]
    }
   ],
   "source": [
    "movies.info()"
   ]
  },
  {
   "cell_type": "code",
   "execution_count": 9,
   "id": "a61a52e2-4c83-41c7-ad1b-2f253a3ef167",
   "metadata": {},
   "outputs": [
    {
     "data": {
      "text/plain": [
       "movieId    62423\n",
       "title      62325\n",
       "genres      1639\n",
       "dtype: int64"
      ]
     },
     "execution_count": 9,
     "metadata": {},
     "output_type": "execute_result"
    }
   ],
   "source": [
    "movies.nunique()"
   ]
  },
  {
   "cell_type": "code",
   "execution_count": 10,
   "id": "995d3882-792c-45db-95f4-ba74b8c2fecd",
   "metadata": {},
   "outputs": [
    {
     "data": {
      "text/plain": [
       "0"
      ]
     },
     "execution_count": 10,
     "metadata": {},
     "output_type": "execute_result"
    }
   ],
   "source": [
    "movies.duplicated().sum()"
   ]
  },
  {
   "cell_type": "code",
   "execution_count": 11,
   "id": "61f1d2f8-cb95-433e-8ad7-d1653591f1be",
   "metadata": {},
   "outputs": [
    {
     "data": {
      "text/plain": [
       "title\n",
       "The Void (2016)                                2\n",
       "Seven Years Bad Luck (1921)                    2\n",
       "Clear History (2013)                           2\n",
       "Enron: The Smartest Guys in the Room (2005)    2\n",
       "Deranged (2012)                                2\n",
       "                                              ..\n",
       "$ellebrity (Sellebrity) (2012)                 1\n",
       "Macabre (Macabro) (1980)                       1\n",
       "Punk's Dead: SLC Punk! 2 (2014)                1\n",
       "Chinese Hercules (1973)                        1\n",
       "Women of Devil's Island (1962)                 1\n",
       "Name: count, Length: 62325, dtype: int64"
      ]
     },
     "execution_count": 11,
     "metadata": {},
     "output_type": "execute_result"
    }
   ],
   "source": [
    "movies['title'].value_counts()"
   ]
  },
  {
   "cell_type": "code",
   "execution_count": 12,
   "id": "94b2dab8-814e-44fb-9186-c38276abf0cd",
   "metadata": {},
   "outputs": [
    {
     "data": {
      "text/plain": [
       "movieId    0\n",
       "title      0\n",
       "genres     0\n",
       "dtype: int64"
      ]
     },
     "execution_count": 12,
     "metadata": {},
     "output_type": "execute_result"
    }
   ],
   "source": [
    "movies.isnull().sum()"
   ]
  },
  {
   "cell_type": "code",
   "execution_count": 13,
   "id": "6a5dfe81-4ac6-4a92-9e0d-462d31089c5e",
   "metadata": {},
   "outputs": [
    {
     "data": {
      "text/plain": [
       "movieId    0\n",
       "title      0\n",
       "genres     0\n",
       "dtype: int64"
      ]
     },
     "execution_count": 13,
     "metadata": {},
     "output_type": "execute_result"
    }
   ],
   "source": [
    "movies.isna().sum()"
   ]
  },
  {
   "cell_type": "code",
   "execution_count": 14,
   "id": "6a84289d-6665-4c76-957e-388359475381",
   "metadata": {},
   "outputs": [
    {
     "data": {
      "image/png": "[encoded data removed]",
      "text/plain": [
       "<Figure size 1000x600 with 1 Axes>"
      ]
     },
     "metadata": {},
     "output_type": "display_data"
    }
   ],
   "source": [
    "# this data visualisation gives us the main words in movie titles\n",
    "\n",
    "text = ' '.join(movies['title'])\n",
    "wordcloud = WordCloud(width=800, height=400, background_color='white').generate(text)\n",
    "plt.figure(figsize=(10, 6))\n",
    "plt.imshow(wordcloud, interpolation='bilinear')\n",
    "plt.axis('off')\n",
    "plt.title('Word Cloud of Movie Titles')\n",
    "plt.show()"
   ]
  },
  {
   "cell_type": "code",
   "execution_count": 15,
   "id": "4caacdfa-8365-4286-ad9c-1d0435369dfc",
   "metadata": {},
   "outputs": [
    {
     "data": {
      "image/png": "[encoded data removed]",
      "text/plain": [
       "<Figure size 1000x800 with 1 Axes>"
      ]
     },
     "metadata": {},
     "output_type": "display_data"
    }
   ],
   "source": [
    "# this visualisation slices genres and give us percentages of each genres\n",
    "genres_count = movies['genres'].str.split('|', expand=True).stack().value_counts()\n",
    "\n",
    "plt.figure(figsize=(10, 8))\n",
    "genres_count.plot(kind='pie', autopct='%1.1f%%')\n",
    "plt.legend(genres_count.index, loc=\"center left\", bbox_to_anchor=(1.1, 0, 0.5, 1))\n",
    "plt.title('Proportion of Movies by Genres')\n",
    "plt.ylabel('')\n",
    "plt.show()"
   ]
  },
  {
   "cell_type": "markdown",
   "id": "a77101e6-d334-4b04-8c37-649dd304a1de",
   "metadata": {},
   "source": [
    "## Data Preparation for Movies Dataset"
   ]
  },
  {
   "cell_type": "markdown",
   "id": "6cd4c0e1-f055-46f1-9a05-3e6651027198",
   "metadata": {},
   "source": [
    "### Genre splitting\n",
    "\n",
    "In this process we will slice the genre column and do dummy encoding in it. This will enable us to work with the genres as if those are numerical values. \n",
    "\n",
    "In the code below 3 actions were done:\n",
    "- Slicing of genres and encoding of it;\n",
    "- Creation of genre_count column;\n",
    "- Moving genre_count to the front of the new section."
   ]
  },
  {
   "cell_type": "code",
   "execution_count": 16,
   "id": "2205b14e-fa91-44af-9f99-a537644dd3b2",
   "metadata": {},
   "outputs": [
    {
     "data": {
      "text/html": [
       "<div>\n",
       "<style scoped>\n",
       "    .dataframe tbody tr th:only-of-type {\n",
       "        vertical-align: middle;\n",
       "    }\n",
       "\n",
       "    .dataframe tbody tr th {\n",
       "        vertical-align: top;\n",
       "    }\n",
       "\n",
       "    .dataframe thead th {\n",
       "        text-align: right;\n",
       "    }\n",
       "</style>\n",
       "<table border=\"1\" class=\"dataframe\">\n",
       "  <thead>\n",
       "    <tr style=\"text-align: right;\">\n",
       "      <th></th>\n",
       "      <th>genre_count</th>\n",
       "      <th>Action</th>\n",
       "      <th>Adventure</th>\n",
       "      <th>Animation</th>\n",
       "      <th>Children</th>\n",
       "      <th>Comedy</th>\n",
       "      <th>Crime</th>\n",
       "      <th>Documentary</th>\n",
       "      <th>Drama</th>\n",
       "      <th>Fantasy</th>\n",
       "      <th>Film-Noir</th>\n",
       "      <th>Horror</th>\n",
       "      <th>IMAX</th>\n",
       "      <th>Musical</th>\n",
       "      <th>Mystery</th>\n",
       "      <th>Romance</th>\n",
       "      <th>Sci-Fi</th>\n",
       "      <th>Thriller</th>\n",
       "      <th>War</th>\n",
       "      <th>Western</th>\n",
       "    </tr>\n",
       "  </thead>\n",
       "  <tbody>\n",
       "    <tr>\n",
       "      <th>0</th>\n",
       "      <td>5</td>\n",
       "      <td>0</td>\n",
       "      <td>1</td>\n",
       "      <td>1</td>\n",
       "      <td>1</td>\n",
       "      <td>1</td>\n",
       "      <td>0</td>\n",
       "      <td>0</td>\n",
       "      <td>0</td>\n",
       "      <td>1</td>\n",
       "      <td>0</td>\n",
       "      <td>0</td>\n",
       "      <td>0</td>\n",
       "      <td>0</td>\n",
       "      <td>0</td>\n",
       "      <td>0</td>\n",
       "      <td>0</td>\n",
       "      <td>0</td>\n",
       "      <td>0</td>\n",
       "      <td>0</td>\n",
       "    </tr>\n",
       "    <tr>\n",
       "      <th>1</th>\n",
       "      <td>3</td>\n",
       "      <td>0</td>\n",
       "      <td>1</td>\n",
       "      <td>0</td>\n",
       "      <td>1</td>\n",
       "      <td>0</td>\n",
       "      <td>0</td>\n",
       "      <td>0</td>\n",
       "      <td>0</td>\n",
       "      <td>1</td>\n",
       "      <td>0</td>\n",
       "      <td>0</td>\n",
       "      <td>0</td>\n",
       "      <td>0</td>\n",
       "      <td>0</td>\n",
       "      <td>0</td>\n",
       "      <td>0</td>\n",
       "      <td>0</td>\n",
       "      <td>0</td>\n",
       "      <td>0</td>\n",
       "    </tr>\n",
       "    <tr>\n",
       "      <th>2</th>\n",
       "      <td>2</td>\n",
       "      <td>0</td>\n",
       "      <td>0</td>\n",
       "      <td>0</td>\n",
       "      <td>0</td>\n",
       "      <td>1</td>\n",
       "      <td>0</td>\n",
       "      <td>0</td>\n",
       "      <td>0</td>\n",
       "      <td>0</td>\n",
       "      <td>0</td>\n",
       "      <td>0</td>\n",
       "      <td>0</td>\n",
       "      <td>0</td>\n",
       "      <td>0</td>\n",
       "      <td>1</td>\n",
       "      <td>0</td>\n",
       "      <td>0</td>\n",
       "      <td>0</td>\n",
       "      <td>0</td>\n",
       "    </tr>\n",
       "    <tr>\n",
       "      <th>3</th>\n",
       "      <td>3</td>\n",
       "      <td>0</td>\n",
       "      <td>0</td>\n",
       "      <td>0</td>\n",
       "      <td>0</td>\n",
       "      <td>1</td>\n",
       "      <td>0</td>\n",
       "      <td>0</td>\n",
       "      <td>1</td>\n",
       "      <td>0</td>\n",
       "      <td>0</td>\n",
       "      <td>0</td>\n",
       "      <td>0</td>\n",
       "      <td>0</td>\n",
       "      <td>0</td>\n",
       "      <td>1</td>\n",
       "      <td>0</td>\n",
       "      <td>0</td>\n",
       "      <td>0</td>\n",
       "      <td>0</td>\n",
       "    </tr>\n",
       "    <tr>\n",
       "      <th>4</th>\n",
       "      <td>1</td>\n",
       "      <td>0</td>\n",
       "      <td>0</td>\n",
       "      <td>0</td>\n",
       "      <td>0</td>\n",
       "      <td>1</td>\n",
       "      <td>0</td>\n",
       "      <td>0</td>\n",
       "      <td>0</td>\n",
       "      <td>0</td>\n",
       "      <td>0</td>\n",
       "      <td>0</td>\n",
       "      <td>0</td>\n",
       "      <td>0</td>\n",
       "      <td>0</td>\n",
       "      <td>0</td>\n",
       "      <td>0</td>\n",
       "      <td>0</td>\n",
       "      <td>0</td>\n",
       "      <td>0</td>\n",
       "    </tr>\n",
       "  </tbody>\n",
       "</table>\n",
       "</div>"
      ],
      "text/plain": [
       "   genre_count  Action  Adventure  Animation  Children  Comedy  Crime  \\\n",
       "0            5       0          1          1         1       1      0   \n",
       "1            3       0          1          0         1       0      0   \n",
       "2            2       0          0          0         0       1      0   \n",
       "3            3       0          0          0         0       1      0   \n",
       "4            1       0          0          0         0       1      0   \n",
       "\n",
       "   Documentary  Drama  Fantasy  Film-Noir  Horror  IMAX  Musical  Mystery  \\\n",
       "0            0      0        1          0       0     0        0        0   \n",
       "1            0      0        1          0       0     0        0        0   \n",
       "2            0      0        0          0       0     0        0        0   \n",
       "3            0      1        0          0       0     0        0        0   \n",
       "4            0      0        0          0       0     0        0        0   \n",
       "\n",
       "   Romance  Sci-Fi  Thriller  War  Western  \n",
       "0        0       0         0    0        0  \n",
       "1        0       0         0    0        0  \n",
       "2        1       0         0    0        0  \n",
       "3        1       0         0    0        0  \n",
       "4        0       0         0    0        0  "
      ]
     },
     "execution_count": 16,
     "metadata": {},
     "output_type": "execute_result"
    }
   ],
   "source": [
    "# Separating genres to count them.\n",
    "movie_genres = movies['genres'].str.get_dummies('|')\n",
    "movie_genres.drop(columns=[\"(no genres listed)\"], inplace=True)\n",
    "\n",
    "# Creating the genre_count column, that calculate how many genres the movie has and gives a numerical value.\n",
    "movie_genres['genre_count'] = movie_genres.iloc[:, 0:19].astype(bool).sum(axis=1)\n",
    "\n",
    "# Moving the column to the front.\n",
    "genre_count_column = movie_genres.pop('genre_count')\n",
    "movie_genres.insert(0, 'genre_count', genre_count_column)\n",
    "movie_genres.head()"
   ]
  },
  {
   "cell_type": "markdown",
   "id": "fdda3ac6-530c-47bf-ba6d-7fec8c242432",
   "metadata": {},
   "source": [
    "Below we just are going to merge these new columns to the main dataset:"
   ]
  },
  {
   "cell_type": "code",
   "execution_count": 17,
   "id": "130a054e-acef-4c11-b87c-996e96e6aa4f",
   "metadata": {},
   "outputs": [
    {
     "data": {
      "text/html": [
       "<div>\n",
       "<style scoped>\n",
       "    .dataframe tbody tr th:only-of-type {\n",
       "        vertical-align: middle;\n",
       "    }\n",
       "\n",
       "    .dataframe tbody tr th {\n",
       "        vertical-align: top;\n",
       "    }\n",
       "\n",
       "    .dataframe thead th {\n",
       "        text-align: right;\n",
       "    }\n",
       "</style>\n",
       "<table border=\"1\" class=\"dataframe\">\n",
       "  <thead>\n",
       "    <tr style=\"text-align: right;\">\n",
       "      <th></th>\n",
       "      <th>movieId</th>\n",
       "      <th>title</th>\n",
       "      <th>genres</th>\n",
       "      <th>genre_count</th>\n",
       "      <th>Action</th>\n",
       "      <th>Adventure</th>\n",
       "      <th>Animation</th>\n",
       "      <th>Children</th>\n",
       "      <th>Comedy</th>\n",
       "      <th>Crime</th>\n",
       "      <th>...</th>\n",
       "      <th>Film-Noir</th>\n",
       "      <th>Horror</th>\n",
       "      <th>IMAX</th>\n",
       "      <th>Musical</th>\n",
       "      <th>Mystery</th>\n",
       "      <th>Romance</th>\n",
       "      <th>Sci-Fi</th>\n",
       "      <th>Thriller</th>\n",
       "      <th>War</th>\n",
       "      <th>Western</th>\n",
       "    </tr>\n",
       "  </thead>\n",
       "  <tbody>\n",
       "    <tr>\n",
       "      <th>0</th>\n",
       "      <td>1</td>\n",
       "      <td>Toy Story (1995)</td>\n",
       "      <td>Adventure|Animation|Children|Comedy|Fantasy</td>\n",
       "      <td>5</td>\n",
       "      <td>0</td>\n",
       "      <td>1</td>\n",
       "      <td>1</td>\n",
       "      <td>1</td>\n",
       "      <td>1</td>\n",
       "      <td>0</td>\n",
       "      <td>...</td>\n",
       "      <td>0</td>\n",
       "      <td>0</td>\n",
       "      <td>0</td>\n",
       "      <td>0</td>\n",
       "      <td>0</td>\n",
       "      <td>0</td>\n",
       "      <td>0</td>\n",
       "      <td>0</td>\n",
       "      <td>0</td>\n",
       "      <td>0</td>\n",
       "    </tr>\n",
       "    <tr>\n",
       "      <th>1</th>\n",
       "      <td>2</td>\n",
       "      <td>Jumanji (1995)</td>\n",
       "      <td>Adventure|Children|Fantasy</td>\n",
       "      <td>3</td>\n",
       "      <td>0</td>\n",
       "      <td>1</td>\n",
       "      <td>0</td>\n",
       "      <td>1</td>\n",
       "      <td>0</td>\n",
       "      <td>0</td>\n",
       "      <td>...</td>\n",
       "      <td>0</td>\n",
       "      <td>0</td>\n",
       "      <td>0</td>\n",
       "      <td>0</td>\n",
       "      <td>0</td>\n",
       "      <td>0</td>\n",
       "      <td>0</td>\n",
       "      <td>0</td>\n",
       "      <td>0</td>\n",
       "      <td>0</td>\n",
       "    </tr>\n",
       "    <tr>\n",
       "      <th>2</th>\n",
       "      <td>3</td>\n",
       "      <td>Grumpier Old Men (1995)</td>\n",
       "      <td>Comedy|Romance</td>\n",
       "      <td>2</td>\n",
       "      <td>0</td>\n",
       "      <td>0</td>\n",
       "      <td>0</td>\n",
       "      <td>0</td>\n",
       "      <td>1</td>\n",
       "      <td>0</td>\n",
       "      <td>...</td>\n",
       "      <td>0</td>\n",
       "      <td>0</td>\n",
       "      <td>0</td>\n",
       "      <td>0</td>\n",
       "      <td>0</td>\n",
       "      <td>1</td>\n",
       "      <td>0</td>\n",
       "      <td>0</td>\n",
       "      <td>0</td>\n",
       "      <td>0</td>\n",
       "    </tr>\n",
       "    <tr>\n",
       "      <th>3</th>\n",
       "      <td>4</td>\n",
       "      <td>Waiting to Exhale (1995)</td>\n",
       "      <td>Comedy|Drama|Romance</td>\n",
       "      <td>3</td>\n",
       "      <td>0</td>\n",
       "      <td>0</td>\n",
       "      <td>0</td>\n",
       "      <td>0</td>\n",
       "      <td>1</td>\n",
       "      <td>0</td>\n",
       "      <td>...</td>\n",
       "      <td>0</td>\n",
       "      <td>0</td>\n",
       "      <td>0</td>\n",
       "      <td>0</td>\n",
       "      <td>0</td>\n",
       "      <td>1</td>\n",
       "      <td>0</td>\n",
       "      <td>0</td>\n",
       "      <td>0</td>\n",
       "      <td>0</td>\n",
       "    </tr>\n",
       "    <tr>\n",
       "      <th>4</th>\n",
       "      <td>5</td>\n",
       "      <td>Father of the Bride Part II (1995)</td>\n",
       "      <td>Comedy</td>\n",
       "      <td>1</td>\n",
       "      <td>0</td>\n",
       "      <td>0</td>\n",
       "      <td>0</td>\n",
       "      <td>0</td>\n",
       "      <td>1</td>\n",
       "      <td>0</td>\n",
       "      <td>...</td>\n",
       "      <td>0</td>\n",
       "      <td>0</td>\n",
       "      <td>0</td>\n",
       "      <td>0</td>\n",
       "      <td>0</td>\n",
       "      <td>0</td>\n",
       "      <td>0</td>\n",
       "      <td>0</td>\n",
       "      <td>0</td>\n",
       "      <td>0</td>\n",
       "    </tr>\n",
       "  </tbody>\n",
       "</table>\n",
       "<p>5 rows × 23 columns</p>\n",
       "</div>"
      ],
      "text/plain": [
       "   movieId                               title  \\\n",
       "0        1                    Toy Story (1995)   \n",
       "1        2                      Jumanji (1995)   \n",
       "2        3             Grumpier Old Men (1995)   \n",
       "3        4            Waiting to Exhale (1995)   \n",
       "4        5  Father of the Bride Part II (1995)   \n",
       "\n",
       "                                        genres  genre_count  Action  \\\n",
       "0  Adventure|Animation|Children|Comedy|Fantasy            5       0   \n",
       "1                   Adventure|Children|Fantasy            3       0   \n",
       "2                               Comedy|Romance            2       0   \n",
       "3                         Comedy|Drama|Romance            3       0   \n",
       "4                                       Comedy            1       0   \n",
       "\n",
       "   Adventure  Animation  Children  Comedy  Crime  ...  Film-Noir  Horror  \\\n",
       "0          1          1         1       1      0  ...          0       0   \n",
       "1          1          0         1       0      0  ...          0       0   \n",
       "2          0          0         0       1      0  ...          0       0   \n",
       "3          0          0         0       1      0  ...          0       0   \n",
       "4          0          0         0       1      0  ...          0       0   \n",
       "\n",
       "   IMAX  Musical  Mystery  Romance  Sci-Fi  Thriller  War  Western  \n",
       "0     0        0        0        0       0         0    0        0  \n",
       "1     0        0        0        0       0         0    0        0  \n",
       "2     0        0        0        1       0         0    0        0  \n",
       "3     0        0        0        1       0         0    0        0  \n",
       "4     0        0        0        0       0         0    0        0  \n",
       "\n",
       "[5 rows x 23 columns]"
      ]
     },
     "execution_count": 17,
     "metadata": {},
     "output_type": "execute_result"
    }
   ],
   "source": [
    "# merge with original dataset.\n",
    "movies_encoded = pd.concat([movies, movie_genres], axis=1)\n",
    "movies_encoded.head()"
   ]
  },
  {
   "cell_type": "code",
   "execution_count": 18,
   "id": "f47284bb-b27d-4d17-9942-e5e2f754838c",
   "metadata": {},
   "outputs": [
    {
     "data": {
      "text/plain": [
       "movieId         int64\n",
       "title          object\n",
       "genres         object\n",
       "genre_count     int64\n",
       "Action          int64\n",
       "Adventure       int64\n",
       "Animation       int64\n",
       "Children        int64\n",
       "Comedy          int64\n",
       "Crime           int64\n",
       "Documentary     int64\n",
       "Drama           int64\n",
       "Fantasy         int64\n",
       "Film-Noir       int64\n",
       "Horror          int64\n",
       "IMAX            int64\n",
       "Musical         int64\n",
       "Mystery         int64\n",
       "Romance         int64\n",
       "Sci-Fi          int64\n",
       "Thriller        int64\n",
       "War             int64\n",
       "Western         int64\n",
       "dtype: object"
      ]
     },
     "execution_count": 18,
     "metadata": {},
     "output_type": "execute_result"
    }
   ],
   "source": [
    "movies_encoded.dtypes"
   ]
  },
  {
   "cell_type": "markdown",
   "id": "cf22b6cc-c46a-471e-9e17-9c3e3af4ea42",
   "metadata": {},
   "source": [
    "### Year Column addition\n",
    "\n",
    "Another numerical value we can insert in this dataset is the year, because all movie names contain their year in parenthesis. In this code below we:\n",
    "\n",
    "- Extracted year values;\n",
    "- Filled NA values with 0 (in case some movies don't have the Year value in the correct format/ don't have the year value);\n",
    "- Moved the column to the third position."
   ]
  },
  {
   "cell_type": "code",
   "execution_count": 19,
   "id": "d4198080-a0de-457a-9c47-634d5d0c21fc",
   "metadata": {},
   "outputs": [
    {
     "data": {
      "text/html": [
       "<div>\n",
       "<style scoped>\n",
       "    .dataframe tbody tr th:only-of-type {\n",
       "        vertical-align: middle;\n",
       "    }\n",
       "\n",
       "    .dataframe tbody tr th {\n",
       "        vertical-align: top;\n",
       "    }\n",
       "\n",
       "    .dataframe thead th {\n",
       "        text-align: right;\n",
       "    }\n",
       "</style>\n",
       "<table border=\"1\" class=\"dataframe\">\n",
       "  <thead>\n",
       "    <tr style=\"text-align: right;\">\n",
       "      <th></th>\n",
       "      <th>movieId</th>\n",
       "      <th>title</th>\n",
       "      <th>year</th>\n",
       "      <th>genres</th>\n",
       "      <th>genre_count</th>\n",
       "      <th>Action</th>\n",
       "      <th>Adventure</th>\n",
       "      <th>Animation</th>\n",
       "      <th>Children</th>\n",
       "      <th>Comedy</th>\n",
       "      <th>...</th>\n",
       "      <th>Film-Noir</th>\n",
       "      <th>Horror</th>\n",
       "      <th>IMAX</th>\n",
       "      <th>Musical</th>\n",
       "      <th>Mystery</th>\n",
       "      <th>Romance</th>\n",
       "      <th>Sci-Fi</th>\n",
       "      <th>Thriller</th>\n",
       "      <th>War</th>\n",
       "      <th>Western</th>\n",
       "    </tr>\n",
       "  </thead>\n",
       "  <tbody>\n",
       "    <tr>\n",
       "      <th>0</th>\n",
       "      <td>1</td>\n",
       "      <td>Toy Story (1995)</td>\n",
       "      <td>1995</td>\n",
       "      <td>Adventure|Animation|Children|Comedy|Fantasy</td>\n",
       "      <td>5</td>\n",
       "      <td>0</td>\n",
       "      <td>1</td>\n",
       "      <td>1</td>\n",
       "      <td>1</td>\n",
       "      <td>1</td>\n",
       "      <td>...</td>\n",
       "      <td>0</td>\n",
       "      <td>0</td>\n",
       "      <td>0</td>\n",
       "      <td>0</td>\n",
       "      <td>0</td>\n",
       "      <td>0</td>\n",
       "      <td>0</td>\n",
       "      <td>0</td>\n",
       "      <td>0</td>\n",
       "      <td>0</td>\n",
       "    </tr>\n",
       "    <tr>\n",
       "      <th>1</th>\n",
       "      <td>2</td>\n",
       "      <td>Jumanji (1995)</td>\n",
       "      <td>1995</td>\n",
       "      <td>Adventure|Children|Fantasy</td>\n",
       "      <td>3</td>\n",
       "      <td>0</td>\n",
       "      <td>1</td>\n",
       "      <td>0</td>\n",
       "      <td>1</td>\n",
       "      <td>0</td>\n",
       "      <td>...</td>\n",
       "      <td>0</td>\n",
       "      <td>0</td>\n",
       "      <td>0</td>\n",
       "      <td>0</td>\n",
       "      <td>0</td>\n",
       "      <td>0</td>\n",
       "      <td>0</td>\n",
       "      <td>0</td>\n",
       "      <td>0</td>\n",
       "      <td>0</td>\n",
       "    </tr>\n",
       "    <tr>\n",
       "      <th>2</th>\n",
       "      <td>3</td>\n",
       "      <td>Grumpier Old Men (1995)</td>\n",
       "      <td>1995</td>\n",
       "      <td>Comedy|Romance</td>\n",
       "      <td>2</td>\n",
       "      <td>0</td>\n",
       "      <td>0</td>\n",
       "      <td>0</td>\n",
       "      <td>0</td>\n",
       "      <td>1</td>\n",
       "      <td>...</td>\n",
       "      <td>0</td>\n",
       "      <td>0</td>\n",
       "      <td>0</td>\n",
       "      <td>0</td>\n",
       "      <td>0</td>\n",
       "      <td>1</td>\n",
       "      <td>0</td>\n",
       "      <td>0</td>\n",
       "      <td>0</td>\n",
       "      <td>0</td>\n",
       "    </tr>\n",
       "    <tr>\n",
       "      <th>3</th>\n",
       "      <td>4</td>\n",
       "      <td>Waiting to Exhale (1995)</td>\n",
       "      <td>1995</td>\n",
       "      <td>Comedy|Drama|Romance</td>\n",
       "      <td>3</td>\n",
       "      <td>0</td>\n",
       "      <td>0</td>\n",
       "      <td>0</td>\n",
       "      <td>0</td>\n",
       "      <td>1</td>\n",
       "      <td>...</td>\n",
       "      <td>0</td>\n",
       "      <td>0</td>\n",
       "      <td>0</td>\n",
       "      <td>0</td>\n",
       "      <td>0</td>\n",
       "      <td>1</td>\n",
       "      <td>0</td>\n",
       "      <td>0</td>\n",
       "      <td>0</td>\n",
       "      <td>0</td>\n",
       "    </tr>\n",
       "    <tr>\n",
       "      <th>4</th>\n",
       "      <td>5</td>\n",
       "      <td>Father of the Bride Part II (1995)</td>\n",
       "      <td>1995</td>\n",
       "      <td>Comedy</td>\n",
       "      <td>1</td>\n",
       "      <td>0</td>\n",
       "      <td>0</td>\n",
       "      <td>0</td>\n",
       "      <td>0</td>\n",
       "      <td>1</td>\n",
       "      <td>...</td>\n",
       "      <td>0</td>\n",
       "      <td>0</td>\n",
       "      <td>0</td>\n",
       "      <td>0</td>\n",
       "      <td>0</td>\n",
       "      <td>0</td>\n",
       "      <td>0</td>\n",
       "      <td>0</td>\n",
       "      <td>0</td>\n",
       "      <td>0</td>\n",
       "    </tr>\n",
       "  </tbody>\n",
       "</table>\n",
       "<p>5 rows × 24 columns</p>\n",
       "</div>"
      ],
      "text/plain": [
       "   movieId                               title  year  \\\n",
       "0        1                    Toy Story (1995)  1995   \n",
       "1        2                      Jumanji (1995)  1995   \n",
       "2        3             Grumpier Old Men (1995)  1995   \n",
       "3        4            Waiting to Exhale (1995)  1995   \n",
       "4        5  Father of the Bride Part II (1995)  1995   \n",
       "\n",
       "                                        genres  genre_count  Action  \\\n",
       "0  Adventure|Animation|Children|Comedy|Fantasy            5       0   \n",
       "1                   Adventure|Children|Fantasy            3       0   \n",
       "2                               Comedy|Romance            2       0   \n",
       "3                         Comedy|Drama|Romance            3       0   \n",
       "4                                       Comedy            1       0   \n",
       "\n",
       "   Adventure  Animation  Children  Comedy  ...  Film-Noir  Horror  IMAX  \\\n",
       "0          1          1         1       1  ...          0       0     0   \n",
       "1          1          0         1       0  ...          0       0     0   \n",
       "2          0          0         0       1  ...          0       0     0   \n",
       "3          0          0         0       1  ...          0       0     0   \n",
       "4          0          0         0       1  ...          0       0     0   \n",
       "\n",
       "   Musical  Mystery  Romance  Sci-Fi  Thriller  War  Western  \n",
       "0        0        0        0       0         0    0        0  \n",
       "1        0        0        0       0         0    0        0  \n",
       "2        0        0        1       0         0    0        0  \n",
       "3        0        0        1       0         0    0        0  \n",
       "4        0        0        0       0         0    0        0  \n",
       "\n",
       "[5 rows x 24 columns]"
      ]
     },
     "execution_count": 19,
     "metadata": {},
     "output_type": "execute_result"
    }
   ],
   "source": [
    "# Extraction of the year, and na filling\n",
    "movies_encoded['year'] = movies_encoded['title'].str.extract(r'\\((\\d{4})\\)')\n",
    "movies_encoded['year'] = movies_encoded['year'].fillna(0).astype('int64')\n",
    "\n",
    "# moving column around to the front\n",
    "year_column = movies_encoded.pop('year')\n",
    "movies_encoded.insert(2, 'year', year_column)\n",
    "\n",
    "movies_encoded.head()"
   ]
  },
  {
   "cell_type": "markdown",
   "id": "747e9c07-ddac-4ffc-b379-ee8e2f3fe922",
   "metadata": {},
   "source": [
    "## Data Understanding for Movies Dataset: Genres and Year\n",
    "\n",
    "After the process of slicing year off of movie names and encoding  we can do some data understanding about genres. The ones we chose to do were:\n",
    "- Which movie has the most genres: Rubber.\n",
    "- How many genres the movie with most genres has: 10 genres.\n",
    "- What is the average number of genres movies have: 1.72.\n",
    "- The average year of movies in the catalogue: 1978.\n",
    "- The top ten years with most movies entries."
   ]
  },
  {
   "cell_type": "code",
   "execution_count": 20,
   "id": "7d696e70-c2c9-4470-9da5-2dfb1d69bc2a",
   "metadata": {},
   "outputs": [
    {
     "name": "stdout",
     "output_type": "stream",
     "text": [
      "The movie with the most number of genres contains: 10 genres\n",
      "The movie moth most genres is:\n"
     ]
    },
    {
     "data": {
      "text/html": [
       "<div>\n",
       "<style scoped>\n",
       "    .dataframe tbody tr th:only-of-type {\n",
       "        vertical-align: middle;\n",
       "    }\n",
       "\n",
       "    .dataframe tbody tr th {\n",
       "        vertical-align: top;\n",
       "    }\n",
       "\n",
       "    .dataframe thead th {\n",
       "        text-align: right;\n",
       "    }\n",
       "</style>\n",
       "<table border=\"1\" class=\"dataframe\">\n",
       "  <thead>\n",
       "    <tr style=\"text-align: right;\">\n",
       "      <th></th>\n",
       "      <th>movieId</th>\n",
       "      <th>title</th>\n",
       "      <th>year</th>\n",
       "      <th>genres</th>\n",
       "      <th>genre_count</th>\n",
       "      <th>Action</th>\n",
       "      <th>Adventure</th>\n",
       "      <th>Animation</th>\n",
       "      <th>Children</th>\n",
       "      <th>Comedy</th>\n",
       "      <th>...</th>\n",
       "      <th>Film-Noir</th>\n",
       "      <th>Horror</th>\n",
       "      <th>IMAX</th>\n",
       "      <th>Musical</th>\n",
       "      <th>Mystery</th>\n",
       "      <th>Romance</th>\n",
       "      <th>Sci-Fi</th>\n",
       "      <th>Thriller</th>\n",
       "      <th>War</th>\n",
       "      <th>Western</th>\n",
       "    </tr>\n",
       "  </thead>\n",
       "  <tbody>\n",
       "    <tr>\n",
       "      <th>15389</th>\n",
       "      <td>81132</td>\n",
       "      <td>Rubber (2010)</td>\n",
       "      <td>2010</td>\n",
       "      <td>Action|Adventure|Comedy|Crime|Drama|Film-Noir|...</td>\n",
       "      <td>10</td>\n",
       "      <td>1</td>\n",
       "      <td>1</td>\n",
       "      <td>0</td>\n",
       "      <td>0</td>\n",
       "      <td>1</td>\n",
       "      <td>...</td>\n",
       "      <td>1</td>\n",
       "      <td>1</td>\n",
       "      <td>0</td>\n",
       "      <td>0</td>\n",
       "      <td>1</td>\n",
       "      <td>0</td>\n",
       "      <td>0</td>\n",
       "      <td>1</td>\n",
       "      <td>0</td>\n",
       "      <td>1</td>\n",
       "    </tr>\n",
       "  </tbody>\n",
       "</table>\n",
       "<p>1 rows × 24 columns</p>\n",
       "</div>"
      ],
      "text/plain": [
       "       movieId          title  year  \\\n",
       "15389    81132  Rubber (2010)  2010   \n",
       "\n",
       "                                                  genres  genre_count  Action  \\\n",
       "15389  Action|Adventure|Comedy|Crime|Drama|Film-Noir|...           10       1   \n",
       "\n",
       "       Adventure  Animation  Children  Comedy  ...  Film-Noir  Horror  IMAX  \\\n",
       "15389          1          0         0       1  ...          1       1     0   \n",
       "\n",
       "       Musical  Mystery  Romance  Sci-Fi  Thriller  War  Western  \n",
       "15389        0        1        0       0         1    0        1  \n",
       "\n",
       "[1 rows x 24 columns]"
      ]
     },
     "execution_count": 20,
     "metadata": {},
     "output_type": "execute_result"
    }
   ],
   "source": [
    "print(\"The movie with the most number of genres contains:\", movies_encoded.genre_count.max(), \"genres\")\n",
    "print(\"The movie moth most genres is:\")\n",
    "movies_max = movies_encoded[movies_encoded['genre_count'] == 10]\n",
    "movies_max"
   ]
  },
  {
   "cell_type": "code",
   "execution_count": 21,
   "id": "2cfaa1da-35ea-45ef-847e-dcf17aa824b7",
   "metadata": {},
   "outputs": [
    {
     "name": "stdout",
     "output_type": "stream",
     "text": [
      "The average number of genres for each movie is: 1.72\n",
      "The average year is: 1978\n",
      "And these are the top 10 years for movies in our system:\n"
     ]
    },
    {
     "data": {
      "text/html": [
       "<div>\n",
       "<style scoped>\n",
       "    .dataframe tbody tr th:only-of-type {\n",
       "        vertical-align: middle;\n",
       "    }\n",
       "\n",
       "    .dataframe tbody tr th {\n",
       "        vertical-align: top;\n",
       "    }\n",
       "\n",
       "    .dataframe thead th {\n",
       "        text-align: right;\n",
       "    }\n",
       "</style>\n",
       "<table border=\"1\" class=\"dataframe\">\n",
       "  <thead>\n",
       "    <tr style=\"text-align: right;\">\n",
       "      <th></th>\n",
       "      <th>year</th>\n",
       "      <th>count</th>\n",
       "    </tr>\n",
       "  </thead>\n",
       "  <tbody>\n",
       "    <tr>\n",
       "      <th>0</th>\n",
       "      <td>2015</td>\n",
       "      <td>2513</td>\n",
       "    </tr>\n",
       "    <tr>\n",
       "      <th>1</th>\n",
       "      <td>2016</td>\n",
       "      <td>2488</td>\n",
       "    </tr>\n",
       "    <tr>\n",
       "      <th>2</th>\n",
       "      <td>2014</td>\n",
       "      <td>2406</td>\n",
       "    </tr>\n",
       "    <tr>\n",
       "      <th>3</th>\n",
       "      <td>2017</td>\n",
       "      <td>2374</td>\n",
       "    </tr>\n",
       "    <tr>\n",
       "      <th>4</th>\n",
       "      <td>2013</td>\n",
       "      <td>2173</td>\n",
       "    </tr>\n",
       "    <tr>\n",
       "      <th>5</th>\n",
       "      <td>2018</td>\n",
       "      <td>2034</td>\n",
       "    </tr>\n",
       "    <tr>\n",
       "      <th>6</th>\n",
       "      <td>2012</td>\n",
       "      <td>1978</td>\n",
       "    </tr>\n",
       "    <tr>\n",
       "      <th>7</th>\n",
       "      <td>2011</td>\n",
       "      <td>1838</td>\n",
       "    </tr>\n",
       "    <tr>\n",
       "      <th>8</th>\n",
       "      <td>2009</td>\n",
       "      <td>1724</td>\n",
       "    </tr>\n",
       "    <tr>\n",
       "      <th>9</th>\n",
       "      <td>2010</td>\n",
       "      <td>1691</td>\n",
       "    </tr>\n",
       "  </tbody>\n",
       "</table>\n",
       "</div>"
      ],
      "text/plain": [
       "   year  count\n",
       "0  2015   2513\n",
       "1  2016   2488\n",
       "2  2014   2406\n",
       "3  2017   2374\n",
       "4  2013   2173\n",
       "5  2018   2034\n",
       "6  2012   1978\n",
       "7  2011   1838\n",
       "8  2009   1724\n",
       "9  2010   1691"
      ]
     },
     "execution_count": 21,
     "metadata": {},
     "output_type": "execute_result"
    }
   ],
   "source": [
    "average_genre_count = round(movies_encoded['genre_count'].mean(), 2)\n",
    "average_year = int(movies_encoded['year'].mean())\n",
    "year_counts = movies_encoded['year'].value_counts().reset_index().head(10)\n",
    "\n",
    "print(\"The average number of genres for each movie is: {:.2f}\\nThe average year is: {}\\nAnd these are the top 10 years for movies in our system:\".format(average_genre_count, average_year))\n",
    "year_counts"
   ]
  },
  {
   "cell_type": "markdown",
   "id": "f42310d3-961f-40c5-84c5-77d6e5a09d65",
   "metadata": {},
   "source": [
    "### Data visualisations for Movies Dataset\n",
    "\n",
    "We did two visualisations:\n",
    "- Genre: A bar plot with genres and their value_counts.\n",
    "- Year: A line plot with years and the counts of them."
   ]
  },
  {
   "cell_type": "markdown",
   "id": "a02feb51-7f98-4a5e-8846-7219289a6d65",
   "metadata": {},
   "source": [
    "#### Genre"
   ]
  },
  {
   "cell_type": "code",
   "execution_count": 22,
   "id": "1d7aaf95-818e-48fe-a2e6-dcdeb04abc6e",
   "metadata": {},
   "outputs": [
    {
     "data": {
      "image/png": "[encoded data removed]",
      "text/plain": [
       "<Figure size 1000x600 with 1 Axes>"
      ]
     },
     "metadata": {},
     "output_type": "display_data"
    }
   ],
   "source": [
    "genres_count = movies_encoded['genres'].str.split('|', expand=True).stack().value_counts().reset_index()\n",
    "genres_count.columns = ['genres', 'count']\n",
    "\n",
    "plt.figure(figsize=(10, 6))\n",
    "sns.barplot(x='genres', y='count', data=genres_count)\n",
    "plt.title('Genre Counter')\n",
    "plt.xlabel('Genre')\n",
    "plt.ylabel('Count')\n",
    "plt.xticks(rotation=45)\n",
    "plt.tight_layout()\n",
    "plt.show()"
   ]
  },
  {
   "cell_type": "markdown",
   "id": "9f1290e5-3a34-48d7-b038-0b5d735cb69f",
   "metadata": {},
   "source": [
    "#### Year"
   ]
  },
  {
   "cell_type": "code",
   "execution_count": 23,
   "id": "03296b7d-9c63-4c6d-8a4f-1585c51511c9",
   "metadata": {},
   "outputs": [
    {
     "name": "stderr",
     "output_type": "stream",
     "text": [
      "C:\\ProgramData\\anaconda3\\Lib\\site-packages\\seaborn\\_oldcore.py:1119: FutureWarning: use_inf_as_na option is deprecated and will be removed in a future version. Convert inf values to NaN before operating instead.\n",
      "  with pd.option_context('mode.use_inf_as_na', True):\n",
      "C:\\ProgramData\\anaconda3\\Lib\\site-packages\\seaborn\\_oldcore.py:1119: FutureWarning: use_inf_as_na option is deprecated and will be removed in a future version. Convert inf values to NaN before operating instead.\n",
      "  with pd.option_context('mode.use_inf_as_na', True):\n"
     ]
    },
    {
     "data": {
      "image/png": "[encoded data removed]",
      "text/plain": [
       "<Figure size 1000x600 with 1 Axes>"
      ]
     },
     "metadata": {},
     "output_type": "display_data"
    }
   ],
   "source": [
    "year_counts = movies_encoded['year'].replace(0, np.NaN)\n",
    "year_counts = year_counts.dropna()\n",
    "year_counts = year_counts.value_counts().reset_index()\n",
    "year_counts\n",
    "\n",
    "plt.figure(figsize=(10, 6))\n",
    "sns.lineplot(x='year', y='count', data=year_counts)\n",
    "plt.title('Number of movies done per year')\n",
    "plt.xlabel('Year')\n",
    "plt.ylabel('Count')\n",
    "plt.xticks(rotation=45)\n",
    "plt.tight_layout()\n",
    "plt.show();"
   ]
  },
  {
   "cell_type": "markdown",
   "id": "da3c1197-a418-4066-bf6a-508763ad3b01",
   "metadata": {},
   "source": [
    "------------------"
   ]
  },
  {
   "cell_type": "markdown",
   "id": "25ec8708-22a5-4853-b5df-28ec8660f45a",
   "metadata": {},
   "source": [
    "## Data Understanding for Ratings Dataset\n",
    "\n",
    "In this dataset we did the following data understanding:\n",
    "- 'Ratings' dataset contains 25.000.095 rows and 4 columns;\n",
    "- Columns are: 'userId' (int64), 'movieId' (int64), 'rating' (float64), 'timestanmp' (int64);\n",
    "- No duplicate values;\n",
    "- No null values;\n",
    "- No NA values;"
   ]
  },
  {
   "cell_type": "code",
   "execution_count": 24,
   "id": "7d9f4a55-a809-465f-b766-50e1c973c1f1",
   "metadata": {},
   "outputs": [
    {
     "data": {
      "text/html": [
       "<div>\n",
       "<style scoped>\n",
       "    .dataframe tbody tr th:only-of-type {\n",
       "        vertical-align: middle;\n",
       "    }\n",
       "\n",
       "    .dataframe tbody tr th {\n",
       "        vertical-align: top;\n",
       "    }\n",
       "\n",
       "    .dataframe thead th {\n",
       "        text-align: right;\n",
       "    }\n",
       "</style>\n",
       "<table border=\"1\" class=\"dataframe\">\n",
       "  <thead>\n",
       "    <tr style=\"text-align: right;\">\n",
       "      <th></th>\n",
       "      <th>userId</th>\n",
       "      <th>movieId</th>\n",
       "      <th>rating</th>\n",
       "      <th>timestamp</th>\n",
       "    </tr>\n",
       "  </thead>\n",
       "  <tbody>\n",
       "    <tr>\n",
       "      <th>0</th>\n",
       "      <td>1</td>\n",
       "      <td>296</td>\n",
       "      <td>5.0</td>\n",
       "      <td>1147880044</td>\n",
       "    </tr>\n",
       "    <tr>\n",
       "      <th>1</th>\n",
       "      <td>1</td>\n",
       "      <td>306</td>\n",
       "      <td>3.5</td>\n",
       "      <td>1147868817</td>\n",
       "    </tr>\n",
       "    <tr>\n",
       "      <th>2</th>\n",
       "      <td>1</td>\n",
       "      <td>307</td>\n",
       "      <td>5.0</td>\n",
       "      <td>1147868828</td>\n",
       "    </tr>\n",
       "    <tr>\n",
       "      <th>3</th>\n",
       "      <td>1</td>\n",
       "      <td>665</td>\n",
       "      <td>5.0</td>\n",
       "      <td>1147878820</td>\n",
       "    </tr>\n",
       "    <tr>\n",
       "      <th>4</th>\n",
       "      <td>1</td>\n",
       "      <td>899</td>\n",
       "      <td>3.5</td>\n",
       "      <td>1147868510</td>\n",
       "    </tr>\n",
       "  </tbody>\n",
       "</table>\n",
       "</div>"
      ],
      "text/plain": [
       "   userId  movieId  rating   timestamp\n",
       "0       1      296     5.0  1147880044\n",
       "1       1      306     3.5  1147868817\n",
       "2       1      307     5.0  1147868828\n",
       "3       1      665     5.0  1147878820\n",
       "4       1      899     3.5  1147868510"
      ]
     },
     "execution_count": 24,
     "metadata": {},
     "output_type": "execute_result"
    }
   ],
   "source": [
    "ratings.head()"
   ]
  },
  {
   "cell_type": "code",
   "execution_count": 25,
   "id": "0efbc163-e279-4237-b173-c6e9f29495e4",
   "metadata": {},
   "outputs": [
    {
     "data": {
      "text/plain": [
       "userId         int64\n",
       "movieId        int64\n",
       "rating       float64\n",
       "timestamp      int64\n",
       "dtype: object"
      ]
     },
     "execution_count": 25,
     "metadata": {},
     "output_type": "execute_result"
    }
   ],
   "source": [
    "ratings.dtypes"
   ]
  },
  {
   "cell_type": "code",
   "execution_count": 26,
   "id": "10c51994-004a-48ca-8310-0a61b91274ee",
   "metadata": {},
   "outputs": [
    {
     "data": {
      "text/plain": [
       "(25000095, 4)"
      ]
     },
     "execution_count": 26,
     "metadata": {},
     "output_type": "execute_result"
    }
   ],
   "source": [
    "ratings.shape"
   ]
  },
  {
   "cell_type": "code",
   "execution_count": 27,
   "id": "1ce93fbe-56a3-4286-8df1-a7b1f7fc1805",
   "metadata": {},
   "outputs": [
    {
     "data": {
      "text/plain": [
       "0"
      ]
     },
     "execution_count": 27,
     "metadata": {},
     "output_type": "execute_result"
    }
   ],
   "source": [
    "ratings.duplicated().sum()"
   ]
  },
  {
   "cell_type": "code",
   "execution_count": 28,
   "id": "87545654-e162-43e3-949c-f5df115450cf",
   "metadata": {},
   "outputs": [
    {
     "name": "stdout",
     "output_type": "stream",
     "text": [
      "<class 'pandas.core.frame.DataFrame'>\n",
      "RangeIndex: 25000095 entries, 0 to 25000094\n",
      "Data columns (total 4 columns):\n",
      " #   Column     Dtype  \n",
      "---  ------     -----  \n",
      " 0   userId     int64  \n",
      " 1   movieId    int64  \n",
      " 2   rating     float64\n",
      " 3   timestamp  int64  \n",
      "dtypes: float64(1), int64(3)\n",
      "memory usage: 762.9 MB\n"
     ]
    }
   ],
   "source": [
    "ratings.info()"
   ]
  },
  {
   "cell_type": "code",
   "execution_count": 29,
   "id": "3946a209-dc52-4b1b-81a7-606ebde02da7",
   "metadata": {},
   "outputs": [
    {
     "data": {
      "text/plain": [
       "userId       0\n",
       "movieId      0\n",
       "rating       0\n",
       "timestamp    0\n",
       "dtype: int64"
      ]
     },
     "execution_count": 29,
     "metadata": {},
     "output_type": "execute_result"
    }
   ],
   "source": [
    "ratings.isnull().sum()"
   ]
  },
  {
   "cell_type": "code",
   "execution_count": 30,
   "id": "492afb19-26a4-4d87-abde-2144802cb017",
   "metadata": {},
   "outputs": [
    {
     "data": {
      "text/plain": [
       "userId       0\n",
       "movieId      0\n",
       "rating       0\n",
       "timestamp    0\n",
       "dtype: int64"
      ]
     },
     "execution_count": 30,
     "metadata": {},
     "output_type": "execute_result"
    }
   ],
   "source": [
    "ratings.isna().sum()"
   ]
  },
  {
   "cell_type": "code",
   "execution_count": 31,
   "id": "46b3eee9-fc14-4289-bc32-8fd5e81eaf5b",
   "metadata": {},
   "outputs": [
    {
     "data": {
      "text/plain": [
       "array([[<Axes: title={'center': 'userId'}>,\n",
       "        <Axes: title={'center': 'movieId'}>],\n",
       "       [<Axes: title={'center': 'rating'}>,\n",
       "        <Axes: title={'center': 'timestamp'}>]], dtype=object)"
      ]
     },
     "execution_count": 31,
     "metadata": {},
     "output_type": "execute_result"
    },
    {
     "data": {
      "image/png": "[encoded data removed]",
      "text/plain": [
       "<Figure size 1000x1000 with 4 Axes>"
      ]
     },
     "metadata": {},
     "output_type": "display_data"
    }
   ],
   "source": [
    "ratings.hist(figsize = (10,10), color=\"#800080\")"
   ]
  },
  {
   "cell_type": "code",
   "execution_count": 32,
   "id": "a7f2d80f-1e56-4714-b59c-949646fef385",
   "metadata": {},
   "outputs": [
    {
     "data": {
      "image/png": "[encoded data removed]",
      "text/plain": [
       "<Figure size 500x300 with 2 Axes>"
      ]
     },
     "metadata": {},
     "output_type": "display_data"
    }
   ],
   "source": [
    "plt.figure(figsize=(5,3))\n",
    "sns.heatmap(ratings.corr(), annot=True, cmap='PiYG')\n",
    "plt.title(\"Feature Correlation Matrix\",fontsize=14)\n",
    "plt.show()"
   ]
  },
  {
   "cell_type": "markdown",
   "id": "d1efb1e7-257d-41e9-acf2-158e03b8d4a7",
   "metadata": {},
   "source": [
    "# Data preparation for Ratings\n",
    "\n",
    "Since there are no missing values or duplicates, we can go on excluding the 'timestamp' column (it is not necessary for what we need)."
   ]
  },
  {
   "cell_type": "code",
   "execution_count": 33,
   "id": "0c94d505-592c-439e-a483-6663a172df78",
   "metadata": {},
   "outputs": [],
   "source": [
    "ratings.drop(columns=\"timestamp\",inplace = True)"
   ]
  },
  {
   "cell_type": "markdown",
   "id": "b1ff3e1e-3eca-428f-a9b1-d27b2982613d",
   "metadata": {},
   "source": [
    "# Merging datasets and dropping genres column\n",
    "\n",
    "To move forward we will use one dataset only, so we need to merge Movies_Encoded and Ratings. We will name this Merged, as in a merged dataframe and exclude the genres column."
   ]
  },
  {
   "cell_type": "code",
   "execution_count": 34,
   "id": "02eac8d2-7c0a-4923-bf0f-a822e5274a20",
   "metadata": {},
   "outputs": [
    {
     "data": {
      "text/html": [
       "<div>\n",
       "<style scoped>\n",
       "    .dataframe tbody tr th:only-of-type {\n",
       "        vertical-align: middle;\n",
       "    }\n",
       "\n",
       "    .dataframe tbody tr th {\n",
       "        vertical-align: top;\n",
       "    }\n",
       "\n",
       "    .dataframe thead th {\n",
       "        text-align: right;\n",
       "    }\n",
       "</style>\n",
       "<table border=\"1\" class=\"dataframe\">\n",
       "  <thead>\n",
       "    <tr style=\"text-align: right;\">\n",
       "      <th></th>\n",
       "      <th>userId</th>\n",
       "      <th>movieId</th>\n",
       "      <th>rating</th>\n",
       "      <th>title</th>\n",
       "      <th>year</th>\n",
       "      <th>genre_count</th>\n",
       "      <th>Action</th>\n",
       "      <th>Adventure</th>\n",
       "      <th>Animation</th>\n",
       "      <th>Children</th>\n",
       "      <th>...</th>\n",
       "      <th>Film-Noir</th>\n",
       "      <th>Horror</th>\n",
       "      <th>IMAX</th>\n",
       "      <th>Musical</th>\n",
       "      <th>Mystery</th>\n",
       "      <th>Romance</th>\n",
       "      <th>Sci-Fi</th>\n",
       "      <th>Thriller</th>\n",
       "      <th>War</th>\n",
       "      <th>Western</th>\n",
       "    </tr>\n",
       "  </thead>\n",
       "  <tbody>\n",
       "    <tr>\n",
       "      <th>0</th>\n",
       "      <td>1</td>\n",
       "      <td>296</td>\n",
       "      <td>5.0</td>\n",
       "      <td>Pulp Fiction (1994)</td>\n",
       "      <td>1994</td>\n",
       "      <td>4</td>\n",
       "      <td>0</td>\n",
       "      <td>0</td>\n",
       "      <td>0</td>\n",
       "      <td>0</td>\n",
       "      <td>...</td>\n",
       "      <td>0</td>\n",
       "      <td>0</td>\n",
       "      <td>0</td>\n",
       "      <td>0</td>\n",
       "      <td>0</td>\n",
       "      <td>0</td>\n",
       "      <td>0</td>\n",
       "      <td>1</td>\n",
       "      <td>0</td>\n",
       "      <td>0</td>\n",
       "    </tr>\n",
       "    <tr>\n",
       "      <th>1</th>\n",
       "      <td>3</td>\n",
       "      <td>296</td>\n",
       "      <td>5.0</td>\n",
       "      <td>Pulp Fiction (1994)</td>\n",
       "      <td>1994</td>\n",
       "      <td>4</td>\n",
       "      <td>0</td>\n",
       "      <td>0</td>\n",
       "      <td>0</td>\n",
       "      <td>0</td>\n",
       "      <td>...</td>\n",
       "      <td>0</td>\n",
       "      <td>0</td>\n",
       "      <td>0</td>\n",
       "      <td>0</td>\n",
       "      <td>0</td>\n",
       "      <td>0</td>\n",
       "      <td>0</td>\n",
       "      <td>1</td>\n",
       "      <td>0</td>\n",
       "      <td>0</td>\n",
       "    </tr>\n",
       "    <tr>\n",
       "      <th>2</th>\n",
       "      <td>4</td>\n",
       "      <td>296</td>\n",
       "      <td>4.0</td>\n",
       "      <td>Pulp Fiction (1994)</td>\n",
       "      <td>1994</td>\n",
       "      <td>4</td>\n",
       "      <td>0</td>\n",
       "      <td>0</td>\n",
       "      <td>0</td>\n",
       "      <td>0</td>\n",
       "      <td>...</td>\n",
       "      <td>0</td>\n",
       "      <td>0</td>\n",
       "      <td>0</td>\n",
       "      <td>0</td>\n",
       "      <td>0</td>\n",
       "      <td>0</td>\n",
       "      <td>0</td>\n",
       "      <td>1</td>\n",
       "      <td>0</td>\n",
       "      <td>0</td>\n",
       "    </tr>\n",
       "    <tr>\n",
       "      <th>3</th>\n",
       "      <td>5</td>\n",
       "      <td>296</td>\n",
       "      <td>4.0</td>\n",
       "      <td>Pulp Fiction (1994)</td>\n",
       "      <td>1994</td>\n",
       "      <td>4</td>\n",
       "      <td>0</td>\n",
       "      <td>0</td>\n",
       "      <td>0</td>\n",
       "      <td>0</td>\n",
       "      <td>...</td>\n",
       "      <td>0</td>\n",
       "      <td>0</td>\n",
       "      <td>0</td>\n",
       "      <td>0</td>\n",
       "      <td>0</td>\n",
       "      <td>0</td>\n",
       "      <td>0</td>\n",
       "      <td>1</td>\n",
       "      <td>0</td>\n",
       "      <td>0</td>\n",
       "    </tr>\n",
       "    <tr>\n",
       "      <th>4</th>\n",
       "      <td>7</td>\n",
       "      <td>296</td>\n",
       "      <td>4.0</td>\n",
       "      <td>Pulp Fiction (1994)</td>\n",
       "      <td>1994</td>\n",
       "      <td>4</td>\n",
       "      <td>0</td>\n",
       "      <td>0</td>\n",
       "      <td>0</td>\n",
       "      <td>0</td>\n",
       "      <td>...</td>\n",
       "      <td>0</td>\n",
       "      <td>0</td>\n",
       "      <td>0</td>\n",
       "      <td>0</td>\n",
       "      <td>0</td>\n",
       "      <td>0</td>\n",
       "      <td>0</td>\n",
       "      <td>1</td>\n",
       "      <td>0</td>\n",
       "      <td>0</td>\n",
       "    </tr>\n",
       "  </tbody>\n",
       "</table>\n",
       "<p>5 rows × 25 columns</p>\n",
       "</div>"
      ],
      "text/plain": [
       "   userId  movieId  rating                title  year  genre_count  Action  \\\n",
       "0       1      296     5.0  Pulp Fiction (1994)  1994            4       0   \n",
       "1       3      296     5.0  Pulp Fiction (1994)  1994            4       0   \n",
       "2       4      296     4.0  Pulp Fiction (1994)  1994            4       0   \n",
       "3       5      296     4.0  Pulp Fiction (1994)  1994            4       0   \n",
       "4       7      296     4.0  Pulp Fiction (1994)  1994            4       0   \n",
       "\n",
       "   Adventure  Animation  Children  ...  Film-Noir  Horror  IMAX  Musical  \\\n",
       "0          0          0         0  ...          0       0     0        0   \n",
       "1          0          0         0  ...          0       0     0        0   \n",
       "2          0          0         0  ...          0       0     0        0   \n",
       "3          0          0         0  ...          0       0     0        0   \n",
       "4          0          0         0  ...          0       0     0        0   \n",
       "\n",
       "   Mystery  Romance  Sci-Fi  Thriller  War  Western  \n",
       "0        0        0       0         1    0        0  \n",
       "1        0        0       0         1    0        0  \n",
       "2        0        0       0         1    0        0  \n",
       "3        0        0       0         1    0        0  \n",
       "4        0        0       0         1    0        0  \n",
       "\n",
       "[5 rows x 25 columns]"
      ]
     },
     "execution_count": 34,
     "metadata": {},
     "output_type": "execute_result"
    }
   ],
   "source": [
    "# Merging movies_encoded and ratings dataframes \n",
    "merged = ratings.merge(movies_encoded,on=\"movieId\")\n",
    "\n",
    "# Dropping genres because we will not need it further\n",
    "merged.drop(columns=\"genres\",inplace = True)\n",
    "\n",
    "# display dataset\n",
    "merged.head()"
   ]
  },
  {
   "cell_type": "code",
   "execution_count": 35,
   "id": "9a24c521-ba52-436f-8b2a-c1ce392cba83",
   "metadata": {},
   "outputs": [
    {
     "data": {
      "text/plain": [
       "(25000095, 25)"
      ]
     },
     "execution_count": 35,
     "metadata": {},
     "output_type": "execute_result"
    }
   ],
   "source": [
    "merged.shape"
   ]
  },
  {
   "cell_type": "code",
   "execution_count": 36,
   "id": "6eb28a50-611f-4eab-89f9-202be5ce49f7",
   "metadata": {},
   "outputs": [
    {
     "data": {
      "text/plain": [
       "userId         0\n",
       "movieId        0\n",
       "rating         0\n",
       "title          0\n",
       "year           0\n",
       "genre_count    0\n",
       "Action         0\n",
       "Adventure      0\n",
       "Animation      0\n",
       "Children       0\n",
       "Comedy         0\n",
       "Crime          0\n",
       "Documentary    0\n",
       "Drama          0\n",
       "Fantasy        0\n",
       "Film-Noir      0\n",
       "Horror         0\n",
       "IMAX           0\n",
       "Musical        0\n",
       "Mystery        0\n",
       "Romance        0\n",
       "Sci-Fi         0\n",
       "Thriller       0\n",
       "War            0\n",
       "Western        0\n",
       "dtype: int64"
      ]
     },
     "execution_count": 36,
     "metadata": {},
     "output_type": "execute_result"
    }
   ],
   "source": [
    "merged.isnull().sum()"
   ]
  },
  {
   "cell_type": "code",
   "execution_count": 37,
   "id": "5641233c-148a-4f99-b495-cd710b79964b",
   "metadata": {},
   "outputs": [
    {
     "data": {
      "text/plain": [
       "userId         0\n",
       "movieId        0\n",
       "rating         0\n",
       "title          0\n",
       "year           0\n",
       "genre_count    0\n",
       "Action         0\n",
       "Adventure      0\n",
       "Animation      0\n",
       "Children       0\n",
       "Comedy         0\n",
       "Crime          0\n",
       "Documentary    0\n",
       "Drama          0\n",
       "Fantasy        0\n",
       "Film-Noir      0\n",
       "Horror         0\n",
       "IMAX           0\n",
       "Musical        0\n",
       "Mystery        0\n",
       "Romance        0\n",
       "Sci-Fi         0\n",
       "Thriller       0\n",
       "War            0\n",
       "Western        0\n",
       "dtype: int64"
      ]
     },
     "execution_count": 37,
     "metadata": {},
     "output_type": "execute_result"
    }
   ],
   "source": [
    "merged.isna().sum()"
   ]
  },
  {
   "cell_type": "code",
   "execution_count": 38,
   "id": "6159c7d7-1e2d-4134-964a-fef68e4214fe",
   "metadata": {},
   "outputs": [
    {
     "data": {
      "text/plain": [
       "0"
      ]
     },
     "execution_count": 38,
     "metadata": {},
     "output_type": "execute_result"
    }
   ],
   "source": [
    "merged.duplicated().sum()"
   ]
  },
  {
   "cell_type": "markdown",
   "id": "df0b4b0f-4877-415c-9ea3-2236e53941db",
   "metadata": {},
   "source": [
    "# Data preparation for Modelling\n",
    "\n",
    "For the data preparation for modelling we need to do some actions to make data proper for model usage. We did this data prep:\n",
    "\n",
    "- Sampled the data: we took a sample of 100 thousand rows from the merged dataset.\n",
    "- Encoded rating values: because the values were float, we encoded the numbers to be integers, not going from 0.5-5, but instead, 1-10.\n",
    "- Selected columns for independent variable X: columns \"rating\" and \"title\" were removed.\n",
    "- Declared X and Y: We declared the dependent (y) and independent variables (X).\n",
    "- Split the data: we split the data into testing and training, with test sizing being 30%.\n",
    "- Scaled data: we scaled the train and test data with the StandardScaler()."
   ]
  },
  {
   "cell_type": "code",
   "execution_count": 39,
   "id": "eae9b489-6b4d-4ea5-9f83-8b6ff3ccf6f4",
   "metadata": {},
   "outputs": [],
   "source": [
    "# take sample of 100k records from merged dataset\n",
    "merged_sample = merged.sample(100000)"
   ]
  },
  {
   "cell_type": "code",
   "execution_count": 40,
   "id": "693ee78b-15b6-4edb-8ca4-193d70602e33",
   "metadata": {},
   "outputs": [],
   "source": [
    "# rating is a float number, to pass it to model, we need integer value\n",
    "encoder = {\n",
    "          0.5: 1,\n",
    "          1 : 2,\n",
    "          1.5: 3,\n",
    "          2:4,\n",
    "          2.5 : 5,\n",
    "          3:6,\n",
    "          3.5:7,\n",
    "          4:8,\n",
    "          4.5:9,\n",
    "          5:10\n",
    "           }\n",
    "merged_sample[\"rating\"] = merged_sample[\"rating\"].map(encoder)"
   ]
  },
  {
   "cell_type": "markdown",
   "id": "2d5459b5",
   "metadata": {},
   "source": [
    "# Modeling "
   ]
  },
  {
   "cell_type": "code",
   "execution_count": 41,
   "id": "34d77cdc-7c55-4d7a-a5c0-bd3c05f33b26",
   "metadata": {},
   "outputs": [
    {
     "data": {
      "text/plain": [
       "['userId',\n",
       " 'movieId',\n",
       " 'year',\n",
       " 'genre_count',\n",
       " 'Action',\n",
       " 'Adventure',\n",
       " 'Animation',\n",
       " 'Children',\n",
       " 'Comedy',\n",
       " 'Crime',\n",
       " 'Documentary',\n",
       " 'Drama',\n",
       " 'Fantasy',\n",
       " 'Film-Noir',\n",
       " 'Horror',\n",
       " 'IMAX',\n",
       " 'Musical',\n",
       " 'Mystery',\n",
       " 'Romance',\n",
       " 'Sci-Fi',\n",
       " 'Thriller',\n",
       " 'War',\n",
       " 'Western']"
      ]
     },
     "execution_count": 41,
     "metadata": {},
     "output_type": "execute_result"
    }
   ],
   "source": [
    "# select predictor columns\n",
    "columns_X = merged_sample.columns.to_list()\n",
    "columns_X.remove(\"rating\")\n",
    "columns_X.remove(\"title\")\n",
    "columns_X  "
   ]
  },
  {
   "cell_type": "code",
   "execution_count": 42,
   "id": "0ac0cf19-3226-4aed-9338-4e235f882a35",
   "metadata": {},
   "outputs": [],
   "source": [
    "# declare X and y values \n",
    "X = merged_sample[columns_X]\n",
    "y = merged_sample[\"rating\"]"
   ]
  },
  {
   "cell_type": "code",
   "execution_count": 43,
   "id": "38fb3e18-a773-488f-aa0c-32f141fa7faa",
   "metadata": {},
   "outputs": [],
   "source": [
    "# split data into training and testing set\n",
    "X_train, X_test, y_train, y_test = train_test_split(X,y , \n",
    "                                   random_state=104,  \n",
    "                                   test_size=0.3,  \n",
    "                                   shuffle=True) "
   ]
  },
  {
   "cell_type": "code",
   "execution_count": 44,
   "id": "39f6d9fc-29a0-4e08-861d-f0652c742d81",
   "metadata": {},
   "outputs": [],
   "source": [
    "# scale training ans testing set \n",
    "scaler = StandardScaler()  \n",
    "scaler.fit(X_train)  \n",
    "X_train_scaled = scaler.transform(X_train)  \n",
    "X_test_scaled = scaler.transform(X_test) "
   ]
  },
  {
   "cell_type": "markdown",
   "id": "e05bd1f8-f931-4b0c-ba5a-db69c16f5f9f",
   "metadata": {},
   "source": [
    "# Models Cross Validation\n",
    "\n",
    "Here we will perform Stratified K-Fold Cross Validation to see which model performs the best. This allows us to measure and compare how accurate each model is and make it onto a graph to show the compared performance."
   ]
  },
  {
   "cell_type": "code",
   "execution_count": 45,
   "id": "d653a5ef-d43d-46da-9e07-29148f1f1e1f",
   "metadata": {},
   "outputs": [],
   "source": [
    "# select few algorithms for comparison \n",
    "models = []\n",
    "models.append(('LDA', LinearDiscriminantAnalysis()))\n",
    "models.append(('DT', DecisionTreeRegressor()))\n",
    "models.append((\"RF\", RandomForestClassifier()))\n",
    "models.append(('NB', GaussianNB()))"
   ]
  },
  {
   "cell_type": "code",
   "execution_count": 46,
   "id": "22ade292-1264-4df3-9bd2-a80bfcc0f0ef",
   "metadata": {},
   "outputs": [
    {
     "name": "stdout",
     "output_type": "stream",
     "text": [
      "LDA: 2.264933 (0.006099)\n",
      "DT: 2.787244 (0.011955)\n",
      "RF: 2.698788 (0.020076)\n",
      "NB: 2.282014 (0.029004)\n"
     ]
    }
   ],
   "source": [
    "results = []\n",
    "names = []\n",
    "for name, model in models:\n",
    "  kfold = StratifiedKFold(n_splits=5, random_state=104, shuffle=True)\n",
    "  cv_results = cross_val_score(model, X_train, y_train, cv=kfold, scoring='neg_root_mean_squared_error')\n",
    "  results.append(cv_results)\n",
    "  names.append(name)\n",
    "  print('%s: %f (%f)' % (name, (cv_results.mean() * -1), cv_results.std())) "
   ]
  },
  {
   "cell_type": "markdown",
   "id": "9e871e98-d3be-4d15-9308-507a6d740941",
   "metadata": {},
   "source": [
    "## Comparison Box Plot\n",
    "\n",
    "Performance comparison for all models."
   ]
  },
  {
   "cell_type": "code",
   "execution_count": 47,
   "id": "8f74f6ba-e290-49a7-80c1-71551c70f9f5",
   "metadata": {},
   "outputs": [
    {
     "data": {
      "image/png": "[encoded data removed]",
      "text/plain": [
       "<Figure size 640x480 with 1 Axes>"
      ]
     },
     "metadata": {},
     "output_type": "display_data"
    }
   ],
   "source": [
    "pyplot.boxplot(results, labels=names)\n",
    "pyplot.title('Algorithm Comparison')\n",
    "pyplot.show() "
   ]
  },
  {
   "cell_type": "code",
   "execution_count": 48,
   "id": "d031119b-1c92-46f0-9514-de697ebcb130",
   "metadata": {},
   "outputs": [],
   "source": [
    "# free up memory \n",
    "models = None"
   ]
  },
  {
   "cell_type": "markdown",
   "id": "b8977bfb-e657-4370-901c-e485df1f2f93",
   "metadata": {},
   "source": [
    "### Model Optimization\n",
    "\n",
    "To optimise, we can use Grid Search, that is a technique to tune hyperparameters of a ML model."
   ]
  },
  {
   "cell_type": "code",
   "execution_count": 49,
   "id": "42dcafbb-0e75-415b-b52e-5bf50bf5c57c",
   "metadata": {},
   "outputs": [
    {
     "data": {
      "text/html": [
       "<style>#sk-container-id-1 {color: black;background-color: white;}#sk-container-id-1 pre{padding: 0;}#sk-container-id-1 div.sk-toggleable {background-color: white;}#sk-container-id-1 label.sk-toggleable__label {cursor: pointer;display: block;width: 100%;margin-bottom: 0;padding: 0.3em;box-sizing: border-box;text-align: center;}#sk-container-id-1 label.sk-toggleable__label-arrow:before {content: \"▸\";float: left;margin-right: 0.25em;color: #696969;}#sk-container-id-1 label.sk-toggleable__label-arrow:hover:before {color: black;}#sk-container-id-1 div.sk-estimator:hover label.sk-toggleable__label-arrow:before {color: black;}#sk-container-id-1 div.sk-toggleable__content {max-height: 0;max-width: 0;overflow: hidden;text-align: left;background-color: #f0f8ff;}#sk-container-id-1 div.sk-toggleable__content pre {margin: 0.2em;color: black;border-radius: 0.25em;background-color: #f0f8ff;}#sk-container-id-1 input.sk-toggleable__control:checked~div.sk-toggleable__content {max-height: 200px;max-width: 100%;overflow: auto;}#sk-container-id-1 input.sk-toggleable__control:checked~label.sk-toggleable__label-arrow:before {content: \"▾\";}#sk-container-id-1 div.sk-estimator input.sk-toggleable__control:checked~label.sk-toggleable__label {background-color: #d4ebff;}#sk-container-id-1 div.sk-label input.sk-toggleable__control:checked~label.sk-toggleable__label {background-color: #d4ebff;}#sk-container-id-1 input.sk-hidden--visually {border: 0;clip: rect(1px 1px 1px 1px);clip: rect(1px, 1px, 1px, 1px);height: 1px;margin: -1px;overflow: hidden;padding: 0;position: absolute;width: 1px;}#sk-container-id-1 div.sk-estimator {font-family: monospace;background-color: #f0f8ff;border: 1px dotted black;border-radius: 0.25em;box-sizing: border-box;margin-bottom: 0.5em;}#sk-container-id-1 div.sk-estimator:hover {background-color: #d4ebff;}#sk-container-id-1 div.sk-parallel-item::after {content: \"\";width: 100%;border-bottom: 1px solid gray;flex-grow: 1;}#sk-container-id-1 div.sk-label:hover label.sk-toggleable__label {background-color: #d4ebff;}#sk-container-id-1 div.sk-serial::before {content: \"\";position: absolute;border-left: 1px solid gray;box-sizing: border-box;top: 0;bottom: 0;left: 50%;z-index: 0;}#sk-container-id-1 div.sk-serial {display: flex;flex-direction: column;align-items: center;background-color: white;padding-right: 0.2em;padding-left: 0.2em;position: relative;}#sk-container-id-1 div.sk-item {position: relative;z-index: 1;}#sk-container-id-1 div.sk-parallel {display: flex;align-items: stretch;justify-content: center;background-color: white;position: relative;}#sk-container-id-1 div.sk-item::before, #sk-container-id-1 div.sk-parallel-item::before {content: \"\";position: absolute;border-left: 1px solid gray;box-sizing: border-box;top: 0;bottom: 0;left: 50%;z-index: -1;}#sk-container-id-1 div.sk-parallel-item {display: flex;flex-direction: column;z-index: 1;position: relative;background-color: white;}#sk-container-id-1 div.sk-parallel-item:first-child::after {align-self: flex-end;width: 50%;}#sk-container-id-1 div.sk-parallel-item:last-child::after {align-self: flex-start;width: 50%;}#sk-container-id-1 div.sk-parallel-item:only-child::after {width: 0;}#sk-container-id-1 div.sk-dashed-wrapped {border: 1px dashed gray;margin: 0 0.4em 0.5em 0.4em;box-sizing: border-box;padding-bottom: 0.4em;background-color: white;}#sk-container-id-1 div.sk-label label {font-family: monospace;font-weight: bold;display: inline-block;line-height: 1.2em;}#sk-container-id-1 div.sk-label-container {text-align: center;}#sk-container-id-1 div.sk-container {/* jupyter's `normalize.less` sets `[hidden] { display: none; }` but bootstrap.min.css set `[hidden] { display: none !important; }` so we also need the `!important` here to be able to override the default hidden behavior on the sphinx rendered scikit-learn.org. See: https://github.com/scikit-learn/scikit-learn/issues/21755 */display: inline-block !important;position: relative;}#sk-container-id-1 div.sk-text-repr-fallback {display: none;}</style><div id=\"sk-container-id-1\" class=\"sk-top-container\"><div class=\"sk-text-repr-fallback\"><pre>GridSearchCV(cv=3, estimator=LinearDiscriminantAnalysis(), n_jobs=-1,\n",
       "             param_grid={&#x27;n_components&#x27;: [None, 1, 2, 3],\n",
       "                         &#x27;store_covariance&#x27;: [True, False],\n",
       "                         &#x27;tol&#x27;: [0.0001, 0.001, 0.01]})</pre><b>In a Jupyter environment, please rerun this cell to show the HTML representation or trust the notebook. <br />On GitHub, the HTML representation is unable to render, please try loading this page with nbviewer.org.</b></div><div class=\"sk-container\" hidden><div class=\"sk-item sk-dashed-wrapped\"><div class=\"sk-label-container\"><div class=\"sk-label sk-toggleable\"><input class=\"sk-toggleable__control sk-hidden--visually\" id=\"sk-estimator-id-1\" type=\"checkbox\" ><label for=\"sk-estimator-id-1\" class=\"sk-toggleable__label sk-toggleable__label-arrow\">GridSearchCV</label><div class=\"sk-toggleable__content\"><pre>GridSearchCV(cv=3, estimator=LinearDiscriminantAnalysis(), n_jobs=-1,\n",
       "             param_grid={&#x27;n_components&#x27;: [None, 1, 2, 3],\n",
       "                         &#x27;store_covariance&#x27;: [True, False],\n",
       "                         &#x27;tol&#x27;: [0.0001, 0.001, 0.01]})</pre></div></div></div><div class=\"sk-parallel\"><div class=\"sk-parallel-item\"><div class=\"sk-item\"><div class=\"sk-label-container\"><div class=\"sk-label sk-toggleable\"><input class=\"sk-toggleable__control sk-hidden--visually\" id=\"sk-estimator-id-2\" type=\"checkbox\" ><label for=\"sk-estimator-id-2\" class=\"sk-toggleable__label sk-toggleable__label-arrow\">estimator: LinearDiscriminantAnalysis</label><div class=\"sk-toggleable__content\"><pre>LinearDiscriminantAnalysis()</pre></div></div></div><div class=\"sk-serial\"><div class=\"sk-item\"><div class=\"sk-estimator sk-toggleable\"><input class=\"sk-toggleable__control sk-hidden--visually\" id=\"sk-estimator-id-3\" type=\"checkbox\" ><label for=\"sk-estimator-id-3\" class=\"sk-toggleable__label sk-toggleable__label-arrow\">LinearDiscriminantAnalysis</label><div class=\"sk-toggleable__content\"><pre>LinearDiscriminantAnalysis()</pre></div></div></div></div></div></div></div></div></div></div>"
      ],
      "text/plain": [
       "GridSearchCV(cv=3, estimator=LinearDiscriminantAnalysis(), n_jobs=-1,\n",
       "             param_grid={'n_components': [None, 1, 2, 3],\n",
       "                         'store_covariance': [True, False],\n",
       "                         'tol': [0.0001, 0.001, 0.01]})"
      ]
     },
     "execution_count": 49,
     "metadata": {},
     "output_type": "execute_result"
    }
   ],
   "source": [
    "# We can see that LDA performed the best, we can now try to optimise it with grid search\n",
    "parameters = {\n",
    "    'n_components': [None, 1, 2, 3],\n",
    "    'tol': [1e-4, 1e-3, 1e-2],\n",
    "    'store_covariance': [True, False],\n",
    "}\n",
    "\n",
    "# Here we initialize LDA\n",
    "lda = LinearDiscriminantAnalysis()\n",
    "\n",
    "# And perform grid search\n",
    "grid_search = GridSearchCV(lda, parameters, cv=3, n_jobs=-1)\n",
    "grid_search.fit(X_train, y_train)"
   ]
  },
  {
   "cell_type": "markdown",
   "id": "035ff72b-6ab3-40df-a4e8-3efcc8f9d6bc",
   "metadata": {},
   "source": [
    "At this point, we have chosen and optimised one of models available in sklearn package. In the next part, we will compare it to algorithm obtained from the Suprise package, which was influenced by SVD algorithm."
   ]
  },
  {
   "cell_type": "markdown",
   "id": "71693670-e8ec-4c7f-a9a8-09f8395b2ff2",
   "metadata": {},
   "source": [
    "# SVD Algorithm\n",
    "\n",
    "SVD, or Singular Value Decomposition, is a dimensionality reduction algorithm, similar to PCA, which aims to obtain a single value from the user item matrix. This algorithm will enable us to calculate user and item biases and calculate general error for each. Then, it adjusts scores and biases, finally merging them together. When making a prediction, estimated score is calculated by adjusting obtained item and user biases.\n",
    "\n",
    "This is the source code by Nicolas Hug (Hug, 2015a)."
   ]
  },
  {
   "cell_type": "code",
   "execution_count": 50,
   "id": "253751c4-98f9-4e7d-9f8d-f44d3019b97e",
   "metadata": {},
   "outputs": [],
   "source": [
    "class SVD():\n",
    "\n",
    "    def __init__(self, n_factors=100, n_epochs=20, biased=True, init_mean=0,\n",
    "                 init_std_dev=.1, lr_all=.005,\n",
    "                 reg_all=.02, lr_bu=None, lr_bi=None, lr_pu=None, lr_qi=None,\n",
    "                 reg_bu=None, reg_bi=None, reg_pu=None, reg_qi=None,\n",
    "                 random_state=None, verbose=False):\n",
    "\n",
    "        # initilise variables \n",
    "        self.n_factors = n_factors\n",
    "        self.n_epochs = n_epochs\n",
    "        self.biased = biased\n",
    "        self.init_mean = init_mean\n",
    "        self.init_std_dev = init_std_dev\n",
    "        self.lr_bu = lr_bu if lr_bu is not None else lr_all\n",
    "        self.lr_bi = lr_bi if lr_bi is not None else lr_all\n",
    "        self.lr_pu = lr_pu if lr_pu is not None else lr_all\n",
    "        self.lr_qi = lr_qi if lr_qi is not None else lr_all\n",
    "        self.reg_bu = reg_bu if reg_bu is not None else reg_all\n",
    "        self.reg_bi = reg_bi if reg_bi is not None else reg_all\n",
    "        self.reg_pu = reg_pu if reg_pu is not None else reg_all\n",
    "        self.reg_qi = reg_qi if reg_qi is not None else reg_all\n",
    "        self.random_state = random_state\n",
    "        self.verbose = verbose\n",
    "\n",
    "\n",
    "    def fit(self, X, y):\n",
    "      \n",
    "        # define parameters, datasets, number of users and movies\n",
    "        data = X.join(y)\n",
    "        self.n_users = data[\"userId\"].unique().max() + 1\n",
    "        self.n_items = data[\"movieId\"].unique().max() + 1\n",
    "        self.global_mean = y.mean()\n",
    "        self.dataset = data\n",
    "        self.train_data = data.to_numpy()\n",
    "\n",
    "        self.sgd(data)\n",
    "\n",
    "        return self\n",
    "\n",
    "    def sgd(self, data):\n",
    "      \n",
    "        rng =  np.random.RandomState()\n",
    "\n",
    "        # user biases\n",
    "        bu = np.zeros(self.n_users, dtype=np.double)\n",
    "        # item biases\n",
    "        bi = np.zeros(self.n_items, dtype=np.double)\n",
    "        # user factors\n",
    "        pu = rng.normal(self.init_mean, self.init_std_dev, size=(self.n_users, self.n_factors))\n",
    "        # item factors\n",
    "        qi = rng.normal(self.init_mean, self.init_std_dev, size=(self.n_items, self.n_factors))\n",
    "\n",
    "\n",
    "        n_factors = self.n_factors\n",
    "        biased = self.biased\n",
    "\n",
    "\n",
    "        global_mean = self.global_mean\n",
    "        \n",
    "        # initialise learning rates  \n",
    "        lr_bu = self.lr_bu\n",
    "        lr_bi = self.lr_bi\n",
    "        lr_pu = self.lr_pu\n",
    "        lr_qi = self.lr_qi\n",
    "\n",
    "        reg_bu = self.reg_bu\n",
    "        reg_bi = self.reg_bi\n",
    "        reg_pu = self.reg_pu\n",
    "        reg_qi = self.reg_qi\n",
    "\n",
    "        if not biased:\n",
    "            global_mean = 0\n",
    "\n",
    "        for current_epoch in range(self.n_epochs):\n",
    "            if self.verbose:\n",
    "                print(\"Processing epoch {}\".format(current_epoch))\n",
    "\n",
    "            for  u, i, r in self.train_data:\n",
    "                # compute current error\n",
    "                u = int(u)\n",
    "                i = int(i)\n",
    "                r = int(r)\n",
    "                dot = 0  # <q_i, p_u>\n",
    "                # adjust factors \n",
    "                for f in range(n_factors):\n",
    "                    dot += qi[i, f] * pu[u, f]\n",
    "                err = r - (global_mean + bu[u] + bi[i] + dot)\n",
    "\n",
    "                # update biases\n",
    "                if biased:\n",
    "                    bu[u] += lr_bu * (err - reg_bu * bu[u])\n",
    "                    bi[i] += lr_bi * (err - reg_bi * bi[i])\n",
    "\n",
    "                # update factors\n",
    "                for f in range(n_factors):\n",
    "                    puf = pu[u, f]\n",
    "                    qif = qi[i, f]\n",
    "                    pu[u, f] += lr_pu * (err * qif - reg_pu * puf)\n",
    "                    qi[i, f] += lr_qi * (err * puf - reg_qi * qif)\n",
    "\n",
    "        # save results \n",
    "        self.bu = np.asarray(bu)\n",
    "        self.bi = np.asarray(bi)\n",
    "        self.pu = np.asarray(pu)\n",
    "        self.qi = np.asarray(qi)\n",
    "    \n",
    "    def predict(self,X):\n",
    "      \n",
    "        y= []\n",
    "        X = X.to_numpy()\n",
    "        for u, i in X:\n",
    "            y.append(self.estimate(u,i))\n",
    "        return y\n",
    "\n",
    "        \n",
    "\n",
    "    def estimate(self, u, i):\n",
    "        \n",
    "        known_user = False\n",
    "        known_item = False\n",
    "        try: \n",
    "            known_user = self.bu[u] != None\n",
    "        except: \n",
    "            pass\n",
    "        try:\n",
    "            known_item = self.bi[i] != None\n",
    "        except:\n",
    "            pass\n",
    "        \n",
    "        if self.biased:\n",
    "            est = self.global_mean\n",
    "\n",
    "            if known_user:\n",
    "                est += self.bu[u]\n",
    "\n",
    "            if known_item:\n",
    "                est += self.bi[i]\n",
    "\n",
    "            if known_user and known_item:\n",
    "                est += np.dot(self.qi[i], self.pu[u])\n",
    "\n",
    "        else:\n",
    "            if known_user and known_item:\n",
    "                est = np.dot(self.qi[i], self.pu[u])\n",
    "            else:\n",
    "                raise KeyError('User and item are unknown.')\n",
    "\n",
    "        return est"
   ]
  },
  {
   "cell_type": "markdown",
   "id": "a7e2dea4-c42f-4a1b-b39f-3a878d76c065",
   "metadata": {},
   "source": [
    "# Test and Validation\n",
    "\n",
    "For Test and Validation we:\n",
    "- Defined sample sizes;\n",
    "- Saved the Results onto a text file;\n",
    "- Prepped the data to fit into the model (split, train, test);\n",
    "- Compared the results of LDA and SVD;"
   ]
  },
  {
   "cell_type": "code",
   "execution_count": 51,
   "id": "99305618-4dd2-4f27-b089-b594d5fa9acd",
   "metadata": {},
   "outputs": [],
   "source": [
    "# defining number of users for test comparison between custom svd and from sklearn\n",
    "sample_size = [10000, 15000, 30000, 45000, 60000]"
   ]
  },
  {
   "cell_type": "code",
   "execution_count": 52,
   "id": "e9c9c416-263e-45ce-a935-758ab13f23ca",
   "metadata": {},
   "outputs": [],
   "source": [
    "# results\n",
    "algo_sklearn_rmse = []\n",
    "algo_svd_rmse = []"
   ]
  },
  {
   "cell_type": "code",
   "execution_count": 53,
   "id": "7081a896-ef80-4286-80fb-19fd3d07bb07",
   "metadata": {},
   "outputs": [
    {
     "data": {
      "text/plain": [
       "[]"
      ]
     },
     "execution_count": 53,
     "metadata": {},
     "output_type": "execute_result"
    }
   ],
   "source": [
    "# try and see if sklearn-algo test results are available \n",
    "try: \n",
    "  with open('../results/algo_sklearn_rmse.txt', 'r') as file:\n",
    "    results = file.readline()\n",
    "    algo_sklearn_rmse = json.loads(results)\n",
    "except:\n",
    "  pass\n",
    "\n",
    "algo_sklearn_rmse"
   ]
  },
  {
   "cell_type": "code",
   "execution_count": 54,
   "id": "43159b98-1eef-41c1-a36c-5d6a0d185ac4",
   "metadata": {},
   "outputs": [
    {
     "data": {
      "text/plain": [
       "[]"
      ]
     },
     "execution_count": 54,
     "metadata": {},
     "output_type": "execute_result"
    }
   ],
   "source": [
    "# try and see if svd-algo test results are available \n",
    "try: \n",
    "  with open('../results/algo_svd_rmse.txt', 'r') as file:\n",
    "    results = file.readline()\n",
    "    algo_svd_rmse = json.loads(results)\n",
    "except:\n",
    "  pass\n",
    "\n",
    "algo_svd_rmse"
   ]
  },
  {
   "cell_type": "markdown",
   "id": "eff4690a-738d-49d3-984e-01ff895b31b0",
   "metadata": {},
   "source": [
    "### Data Preparation to fit the model\n",
    "\n",
    "Here we:\n",
    "- Chose the test size to be 30% and training 70%.\n",
    "- Obtained results for both LDA and SVD algorithms."
   ]
  },
  {
   "cell_type": "code",
   "execution_count": 55,
   "id": "0b6a1eb0-9d2c-48cf-b1d4-83624f0db600",
   "metadata": {},
   "outputs": [],
   "source": [
    "if len(algo_sklearn_rmse) == 0 and len(algo_sklearn_rmse) == 0:\n",
    "    for size in sample_size:\n",
    "        sample_data = merged_sample[:size]\n",
    "        X = sample_data[columns_X]\n",
    "        y = sample_data[\"rating\"]\n",
    "        X_train, X_test, y_train, y_test = train_test_split(X,y , \n",
    "                                    random_state=104,  \n",
    "                                    test_size=0.3,  \n",
    "                                    shuffle=True) \n",
    "\n",
    "\n",
    "        model_sklearn = LinearDiscriminantAnalysis(**grid_search.best_params_)\n",
    "        m1_pred = model_sklearn.fit(X_train,y_train).predict(X_test)\n",
    "        mse_1 = mean_squared_error(y_test, m1_pred)\n",
    "        algo_sklearn_rmse.append(sqrt(mse_1))\n",
    "\n",
    "        X_test = X_test[[\"userId\",\"movieId\"]]\n",
    "        X_train = X_train[[\"userId\",\"movieId\"]]\n",
    "        model_svd = SVD()\n",
    "        m2_pred = model_svd.fit(X_train,y_train).predict(X_test)\n",
    "        mse_2 = mean_squared_error(y_test, m2_pred)\n",
    "        algo_svd_rmse.append(sqrt(mse_2))"
   ]
  },
  {
   "cell_type": "markdown",
   "id": "7a6658b9-a7be-4992-8bd3-a15a184c5253",
   "metadata": {},
   "source": [
    "Saving results:"
   ]
  },
  {
   "cell_type": "code",
   "execution_count": 56,
   "id": "85a13bd0-72ae-4c41-b141-c7f17f9d906b",
   "metadata": {},
   "outputs": [],
   "source": [
    "with open('../results/algo_svd_rmse.txt', 'w') as file:\n",
    "    file.write(\"\")\n",
    "    json.dump(algo_svd_rmse, file)\n",
    "with open('../results/algo_sklearn_rmse.txt', 'w') as file:\n",
    "    file.write(\"\")\n",
    "    json.dump(algo_sklearn_rmse, file)"
   ]
  },
  {
   "cell_type": "code",
   "execution_count": 57,
   "id": "1495cec6-a1a0-4061-be7b-13005c03bd05",
   "metadata": {},
   "outputs": [
    {
     "name": "stdout",
     "output_type": "stream",
     "text": [
      "[2.2595722309027138, 2.240585241007854, 2.260408026097157, 2.268985741756941, 2.2590312574690556]\n",
      "[2.0831634723083297, 2.04613875065041, 2.028145385977751, 2.0113066347026582, 1.9951402338325104]\n"
     ]
    }
   ],
   "source": [
    "print(algo_sklearn_rmse)\n",
    "print(algo_svd_rmse)"
   ]
  },
  {
   "cell_type": "markdown",
   "id": "277e3b82-a245-4059-aa76-18a37ea99544",
   "metadata": {},
   "source": [
    "### Data visualisation of LDA and SVD performance"
   ]
  },
  {
   "cell_type": "code",
   "execution_count": 58,
   "id": "e82f1ab7-1119-4f06-83b2-b9c7031074bf",
   "metadata": {
    "scrolled": true
   },
   "outputs": [
    {
     "data": {
      "image/png": "[encoded data removed]",
      "text/plain": [
       "<Figure size 1000x600 with 1 Axes>"
      ]
     },
     "metadata": {},
     "output_type": "display_data"
    }
   ],
   "source": [
    "plt.figure(figsize=(10, 6))\n",
    "\n",
    "plt.plot(sample_size, algo_sklearn_rmse, marker='o', label='Algorithm LDA')\n",
    "plt.plot(sample_size, algo_svd_rmse, marker='o', label='Algorithm SVD')\n",
    "\n",
    "plt.xlabel('Data Size')\n",
    "plt.ylabel('Root Mean Squared Error (RMSE)')\n",
    "plt.title('Comparison of Root Mean Squared Error between Algorithms across Different Data Sizes')\n",
    "plt.legend()\n",
    "plt.grid(True)\n",
    "\n",
    "plt.show()"
   ]
  },
  {
   "cell_type": "code",
   "execution_count": 59,
   "id": "d1bea7bb-6c66-4f71-94bd-20085a9527cd",
   "metadata": {},
   "outputs": [],
   "source": [
    "#debug\n",
    "# print(len(sample_size), len(algo_sklearn_rmse), len(algo_svd_rmse))"
   ]
  },
  {
   "cell_type": "markdown",
   "id": "23130419-51b5-4011-a7ac-202e952c1a00",
   "metadata": {},
   "source": [
    "## Further testing with Custom SVD Algorithm\n",
    "\n",
    "As observed in the graph above, the bigger the sample, the better the results for the SVD algorithm, so we needed to do further testing to see if the RMSE rate would drop if we feed the momdel with a bigger data sample. This way we:\n",
    "\n",
    "- Created bigger samples;\n",
    "- Set and empty list to save the results;\n",
    "- Checked for the existence of result files;\n",
    "- Prepped and fitted data on model;\n",
    "- Saved results;\n",
    "- Generated a data visualisation of SVD Performance in different data sample sizes;"
   ]
  },
  {
   "cell_type": "code",
   "execution_count": 60,
   "id": "f6e5b1b0-57d7-4b08-867b-948d2d0d8eef",
   "metadata": {},
   "outputs": [],
   "source": [
    "svd_test_sample_sizes = [100000, 150000, 200000, 250000, 300000]"
   ]
  },
  {
   "cell_type": "code",
   "execution_count": 61,
   "id": "b521daec-c93f-44da-9145-3e2cda6956c6",
   "metadata": {},
   "outputs": [],
   "source": [
    "svd_test_results = []"
   ]
  },
  {
   "cell_type": "code",
   "execution_count": 62,
   "id": "b47d9ac3-b0f8-4c39-9547-7911767f4aa9",
   "metadata": {},
   "outputs": [
    {
     "data": {
      "text/plain": [
       "[]"
      ]
     },
     "execution_count": 62,
     "metadata": {},
     "output_type": "execute_result"
    }
   ],
   "source": [
    "# check if svd test results are available \n",
    "try: \n",
    "  with open('../results/svd_test_results.txt', 'r') as file:\n",
    "    results = file.readline()\n",
    "    svd_test_results = json.loads(results)\n",
    "except:\n",
    "  pass\n",
    "\n",
    "svd_test_results"
   ]
  },
  {
   "cell_type": "markdown",
   "id": "bc47b867-1702-49df-a466-403aacb0a464",
   "metadata": {},
   "source": [
    "#### Data Preparation and model fitting\n",
    "\n",
    "Here we: \n",
    "- Set test size to 30% and training to 70%;\n",
    "- checked if we had the trained model available;\n",
    "- If not, we fitted the model with their train and test slices;\n",
    "- Saved it onto our Models folder;"
   ]
  },
  {
   "cell_type": "code",
   "execution_count": 63,
   "id": "0ca6e7e6-92d9-4da5-8d67-15215becda4e",
   "metadata": {},
   "outputs": [
    {
     "name": "stdout",
     "output_type": "stream",
     "text": [
      "Pretrained model not found: model_test_100000\n"
     ]
    },
    {
     "ename": "FileNotFoundError",
     "evalue": "[Errno 2] No such file or directory: '../models/model_test_100000.sav'",
     "output_type": "error",
     "traceback": [
      "\u001b[1;31m---------------------------------------------------------------------------\u001b[0m",
      "\u001b[1;31mFileNotFoundError\u001b[0m                         Traceback (most recent call last)",
      "Cell \u001b[1;32mIn[63], line 29\u001b[0m\n\u001b[0;32m     27\u001b[0m svd_test_results\u001b[38;5;241m.\u001b[39mappend(sqrt(mse_svd))\n\u001b[0;32m     28\u001b[0m \u001b[38;5;66;03m# save model \u001b[39;00m\n\u001b[1;32m---> 29\u001b[0m pickle\u001b[38;5;241m.\u001b[39mdump(model, \u001b[38;5;28mopen\u001b[39m(filename, \u001b[38;5;124m'\u001b[39m\u001b[38;5;124mwb\u001b[39m\u001b[38;5;124m'\u001b[39m))\n",
      "File \u001b[1;32mC:\\ProgramData\\anaconda3\\Lib\\site-packages\\IPython\\core\\interactiveshell.py:310\u001b[0m, in \u001b[0;36m_modified_open\u001b[1;34m(file, *args, **kwargs)\u001b[0m\n\u001b[0;32m    303\u001b[0m \u001b[38;5;28;01mif\u001b[39;00m file \u001b[38;5;129;01min\u001b[39;00m {\u001b[38;5;241m0\u001b[39m, \u001b[38;5;241m1\u001b[39m, \u001b[38;5;241m2\u001b[39m}:\n\u001b[0;32m    304\u001b[0m     \u001b[38;5;28;01mraise\u001b[39;00m \u001b[38;5;167;01mValueError\u001b[39;00m(\n\u001b[0;32m    305\u001b[0m         \u001b[38;5;124mf\u001b[39m\u001b[38;5;124m\"\u001b[39m\u001b[38;5;124mIPython won\u001b[39m\u001b[38;5;124m'\u001b[39m\u001b[38;5;124mt let you open fd=\u001b[39m\u001b[38;5;132;01m{\u001b[39;00mfile\u001b[38;5;132;01m}\u001b[39;00m\u001b[38;5;124m by default \u001b[39m\u001b[38;5;124m\"\u001b[39m\n\u001b[0;32m    306\u001b[0m         \u001b[38;5;124m\"\u001b[39m\u001b[38;5;124mas it is likely to crash IPython. If you know what you are doing, \u001b[39m\u001b[38;5;124m\"\u001b[39m\n\u001b[0;32m    307\u001b[0m         \u001b[38;5;124m\"\u001b[39m\u001b[38;5;124myou can use builtins\u001b[39m\u001b[38;5;124m'\u001b[39m\u001b[38;5;124m open.\u001b[39m\u001b[38;5;124m\"\u001b[39m\n\u001b[0;32m    308\u001b[0m     )\n\u001b[1;32m--> 310\u001b[0m \u001b[38;5;28;01mreturn\u001b[39;00m io_open(file, \u001b[38;5;241m*\u001b[39margs, \u001b[38;5;241m*\u001b[39m\u001b[38;5;241m*\u001b[39mkwargs)\n",
      "\u001b[1;31mFileNotFoundError\u001b[0m: [Errno 2] No such file or directory: '../models/model_test_100000.sav'"
     ]
    }
   ],
   "source": [
    "#run tests only if results are not available \n",
    "if len(svd_test_results) == 0:\n",
    "  for n in svd_test_sample_sizes:\n",
    "    sample = ratings[:n]\n",
    "    X = sample[[\"userId\",\"movieId\"]]\n",
    "    y = sample[\"rating\"]\n",
    "    X_train, X_test, y_train, y_test = train_test_split(X,y , \n",
    "                                    random_state=104,  \n",
    "                                    test_size=0.3,  \n",
    "                                    shuffle=True) \n",
    "    \n",
    "    # try to load pre-trained model, random state will assure that model  is trained and tested on the same data \n",
    "    filename = '../models/model_test_' + str(n) + '.sav'\n",
    "    model = None\n",
    "    try:\n",
    "      model = pickle.load(open(filename, 'rb'))\n",
    "    except:\n",
    "      print(\"Pretrained model not found: \" + 'model_test_' + str(n))\n",
    "      pass\n",
    "    # only train model if not available\n",
    "    if model == None:\n",
    "      model = SVD()\n",
    "      model = model.fit(X_train,y_train)\n",
    "      \n",
    "    y_pred_svd = model.predict(X_test)\n",
    "    mse_svd = mean_squared_error(y_test, y_pred_svd)\n",
    "    svd_test_results.append(sqrt(mse_svd))\n",
    "    # save model \n",
    "    pickle.dump(model, open(filename, 'wb'))"
   ]
  },
  {
   "cell_type": "code",
   "execution_count": null,
   "id": "23330de0-177f-441a-8e4b-bc17c265b424",
   "metadata": {},
   "outputs": [],
   "source": [
    "# save results from svd test  \n",
    "with open('../results/svd_test_results.txt', 'w') as file:\n",
    "    json.dump(svd_test_results, file)"
   ]
  },
  {
   "cell_type": "markdown",
   "id": "425e20d4-4ba2-490e-80cf-178e11785cac",
   "metadata": {},
   "source": [
    "#### Data Visualisation of performance in different sample sizes\n",
    "\n",
    "Here are the results of the RMSE perfomance in different sample sizes."
   ]
  },
  {
   "cell_type": "code",
   "execution_count": null,
   "id": "c0c7c381-9034-4dbe-ac98-71b60a8dfac9",
   "metadata": {},
   "outputs": [],
   "source": [
    "plt.figure(figsize=(10, 6))\n",
    "\n",
    "plt.plot(svd_test_sample_sizes, svd_test_results, marker='o', label='SVD Custom Algorithm')\n",
    "\n",
    "plt.xlabel('Sample Size')\n",
    "plt.ylabel('Root Mean Squared Error (RMSE)')\n",
    "plt.title('Performance of SVD algorithm with increasing data sample size')\n",
    "plt.legend()\n",
    "plt.grid(True)\n",
    "\n",
    "plt.show()"
   ]
  },
  {
   "cell_type": "markdown",
   "id": "7078bb01-e3b6-4117-a235-71dedb911d4a",
   "metadata": {},
   "source": [
    "--------------"
   ]
  },
  {
   "cell_type": "markdown",
   "id": "d0804b18-361a-4d81-a33d-fc0008b0590a",
   "metadata": {},
   "source": [
    "# Training Final Model\n",
    "\n",
    "With this algorithm the more Movie and User data we provide, e.g. rating score, the better it will perform. This happens because it adjusts biases from user and movie and let us filter the dataframe for movies that were rated more than 10000 times. This will help with time required to train the model and will assure that model has enough data to perform well."
   ]
  },
  {
   "cell_type": "markdown",
   "id": "20726f91-3e37-4168-b6e4-4acbe03cfb39",
   "metadata": {},
   "source": [
    "## Data Preparation\n",
    "\n",
    "This is the last data understanding and preparation we will have before the data preparation for modelling and it consisted of:\n",
    "- Filtering movies rated more than 10k times: This step will allow us to prep the data do provide better predictions;\n",
    "- Create another dataset: this filtered dataset is called 'ratings_final' and has 588 movies in it."
   ]
  },
  {
   "cell_type": "code",
   "execution_count": 5,
   "id": "2145f3cf-f0d3-4643-9d0d-37d1f87ba44e",
   "metadata": {},
   "outputs": [
    {
     "name": "stdout",
     "output_type": "stream",
     "text": [
      "<class 'pandas.core.frame.DataFrame'>\n",
      "Index: 588 entries, 0 to 587\n",
      "Data columns (total 2 columns):\n",
      " #   Column   Non-Null Count  Dtype\n",
      "---  ------   --------------  -----\n",
      " 0   movieId  588 non-null    int64\n",
      " 1   count    588 non-null    int64\n",
      "dtypes: int64(2)\n",
      "memory usage: 13.8 KB\n"
     ]
    }
   ],
   "source": [
    "#filter for movies that were rated more than 10k times \n",
    "movie_ratings_count = ratings['movieId'].value_counts().reset_index()\n",
    "ids_10k = movie_ratings_count[movie_ratings_count[\"count\"] > 10000]\n",
    "ids_10k.info()\n",
    "ids = ids_10k[\"movieId\"].values"
   ]
  },
  {
   "cell_type": "code",
   "execution_count": 6,
   "id": "9446fa3c-82bd-430f-9293-59da264819bb",
   "metadata": {},
   "outputs": [],
   "source": [
    "# filter original dataframe for rows that contain selected movieIds \n",
    "ratings_final = ratings[ratings['movieId'].isin(ids)]"
   ]
  },
  {
   "cell_type": "markdown",
   "id": "1a63c3e0-69e8-49e5-a633-d4bca8057fc4",
   "metadata": {},
   "source": [
    "After filtering we have 588 movies in our final dataset."
   ]
  },
  {
   "cell_type": "code",
   "execution_count": 7,
   "id": "f2a8b526-6a58-457f-8e64-bdb349ddeb77",
   "metadata": {},
   "outputs": [
    {
     "data": {
      "text/plain": [
       "588"
      ]
     },
     "execution_count": 7,
     "metadata": {},
     "output_type": "execute_result"
    }
   ],
   "source": [
    "ratings_final[\"movieId\"].nunique()"
   ]
  },
  {
   "cell_type": "code",
   "execution_count": null,
   "id": "b05bf57a-5757-4260-9eb1-5d36bfd54b2c",
   "metadata": {},
   "outputs": [],
   "source": [
    "movies = None\n",
    "ratings = None"
   ]
  },
  {
   "cell_type": "markdown",
   "id": "f7c1da9c-6bdc-4a8b-9c65-78483a4cf707",
   "metadata": {},
   "source": [
    "We have reduced size of the dataframe by half."
   ]
  },
  {
   "cell_type": "code",
   "execution_count": null,
   "id": "d55ff3f0-9f09-48e0-8f8e-43bdeece7106",
   "metadata": {},
   "outputs": [],
   "source": [
    "ratings_final.info()"
   ]
  },
  {
   "cell_type": "code",
   "execution_count": 8,
   "id": "164961f5-4166-464d-b315-7f190df61f83",
   "metadata": {},
   "outputs": [],
   "source": [
    "filename = \"../Datasets/ratings_final.csv\"\n",
    "pd.DataFrame(data=ratings_final).to_csv(filename, sep=',', index=False, encoding='utf-8')"
   ]
  },
  {
   "cell_type": "markdown",
   "id": "7ee8efbb-8853-4abf-9db7-784b1c2affb5",
   "metadata": {},
   "source": [
    "## Data Preparation for Final Modeling\n",
    "\n",
    "This is the last data preparation done in this project and it does:\n",
    "- X and Y variables are established: here we chose which columns are part of the independent values and which is the dependent one for the dataset 'ratings_final'.\n",
    "- Slices Train and Test: We set it to defaul values: 75% for training and 25% for testing."
   ]
  },
  {
   "cell_type": "code",
   "execution_count": 9,
   "id": "11d6b8a0",
   "metadata": {},
   "outputs": [],
   "source": [
    "ratings_final = pd.read_csv(\"../Datasets/ratings_final.csv\")"
   ]
  },
  {
   "cell_type": "code",
   "execution_count": null,
   "id": "ec0331b3-9448-42c3-99f0-d5355d925e4b",
   "metadata": {},
   "outputs": [],
   "source": [
    "X = ratings_final[[\"userId\", \"movieId\"]]\n",
    "y = ratings_final[\"rating\"]"
   ]
  },
  {
   "cell_type": "code",
   "execution_count": null,
   "id": "8fc44704-0e87-4bb6-a9e6-22e0fdfe09cb",
   "metadata": {},
   "outputs": [],
   "source": [
    "X_train, X_test, y_train, y_test = train_test_split(X, y, random_state=42)"
   ]
  },
  {
   "cell_type": "code",
   "execution_count": null,
   "id": "2bd039e2-2eeb-44d7-81e8-41020e6d4234",
   "metadata": {},
   "outputs": [],
   "source": [
    "X = None\n",
    "y = None"
   ]
  },
  {
   "cell_type": "markdown",
   "id": "4632d37f-d3cc-4196-9e51-05442caff778",
   "metadata": {},
   "source": [
    "Checking if trained model exists:"
   ]
  },
  {
   "cell_type": "code",
   "execution_count": null,
   "id": "85c6896b-d4d4-49fc-89e4-0ec922328c2a",
   "metadata": {},
   "outputs": [],
   "source": [
    "filename = '../models/final_model.sav'\n",
    "final_model = None\n",
    "try:\n",
    "  final_model = pickle.load(open(filename, 'rb'))\n",
    "except:\n",
    "  print(\"Final model not found\")"
   ]
  },
  {
   "cell_type": "markdown",
   "id": "d32730f9",
   "metadata": {},
   "source": [
    "# Validation "
   ]
  },
  {
   "cell_type": "markdown",
   "id": "c33639d9-5489-4ebb-babe-d1095864d52d",
   "metadata": {},
   "source": [
    "## Training and Validating Final Model\n",
    "\n",
    "In here test and training sets had their RMSE scores below 0.90."
   ]
  },
  {
   "cell_type": "code",
   "execution_count": null,
   "id": "accd32d1-e7f5-481e-8ebf-5c7f65567c2c",
   "metadata": {},
   "outputs": [],
   "source": [
    "filename = '../models/final_model.sav'\n",
    "if final_model is None:\n",
    "  final_model = SVD(n_factors=1, n_epochs=1)\n",
    "  final_model.fit(X_train, y_train)\n",
    "# after trained, save final model \n",
    "pickle.dump(final_model, open(filename, 'wb'))"
   ]
  },
  {
   "cell_type": "code",
   "execution_count": null,
   "id": "6a71ffea-a738-4b3e-98b6-f108f1f9cc26",
   "metadata": {},
   "outputs": [],
   "source": [
    "y_pred_final = None\n",
    "y_train_predict_final = None"
   ]
  },
  {
   "cell_type": "markdown",
   "id": "64bc0a1f-481f-4845-952f-8a9fc1ec71c0",
   "metadata": {},
   "source": [
    "Test prediction against testing set"
   ]
  },
  {
   "cell_type": "code",
   "execution_count": null,
   "id": "45cb9ddd-fb45-4edd-81e2-8db3cf5a05a8",
   "metadata": {},
   "outputs": [],
   "source": [
    "# import X_test prediction results if available \n",
    "try: \n",
    "  with open('../results/final_results_test.txt', 'r') as file:\n",
    "    results = file.readline()\n",
    "    y_pred_final = json.loads(results)\n",
    "except:\n",
    "  print(\"Results not found\")\n",
    "  pass"
   ]
  },
  {
   "cell_type": "code",
   "execution_count": null,
   "id": "6f61f42e-f25a-43cd-b908-eb60d0efe43d",
   "metadata": {},
   "outputs": [],
   "source": [
    "if y_pred_final == None:\n",
    "  y_pred_final = final_model.predict(X_test)"
   ]
  },
  {
   "cell_type": "code",
   "execution_count": null,
   "id": "baa42996-b372-4370-9106-44b49722a957",
   "metadata": {},
   "outputs": [],
   "source": [
    "with open('../results/final_results_test.txt', 'w') as file:\n",
    "    json.dump(y_pred_final, file)"
   ]
  },
  {
   "cell_type": "markdown",
   "id": "678041ec-469a-42dd-ad7f-eb5afeebbf7f",
   "metadata": {},
   "source": [
    "Test against training set"
   ]
  },
  {
   "cell_type": "code",
   "execution_count": null,
   "id": "db945e6c-dc1f-48f1-9c74-ea4cd62d9675",
   "metadata": {},
   "outputs": [],
   "source": [
    "# import X_train prediction results if available\n",
    "try: \n",
    "  with open('../results/final_results_train.txt', 'r') as file:\n",
    "    results = file.readline()\n",
    "    y_train_predict_final = json.loads(results)\n",
    "except:\n",
    "  print(\"Results not found\")\n",
    "  pass"
   ]
  },
  {
   "cell_type": "code",
   "execution_count": null,
   "id": "92655b34-3fe4-480a-afdb-067d60f124ed",
   "metadata": {},
   "outputs": [],
   "source": [
    "if y_train_predict_final == None:\n",
    "  y_train_predict_final = final_model.predict(X_train)"
   ]
  },
  {
   "cell_type": "code",
   "execution_count": null,
   "id": "cee2bc32-9dce-4272-b22a-81c2887f1a12",
   "metadata": {},
   "outputs": [],
   "source": [
    "with open('../results/final_results_train.txt', 'w') as file:\n",
    "    json.dump(y_train_predict_final, file)"
   ]
  },
  {
   "cell_type": "code",
   "execution_count": null,
   "id": "7e0cba9c-1e00-4e4f-b5ea-00949911aed1",
   "metadata": {},
   "outputs": [],
   "source": [
    "mrse_final = sqrt(mean_squared_error(y_test, y_pred_final))\n",
    "print(\"Final MRSE for the model is: {n}\".format(n = str(mrse_final)))"
   ]
  },
  {
   "cell_type": "code",
   "execution_count": null,
   "id": "5a7a46a4-423e-4a28-86cc-777a20f58de2",
   "metadata": {},
   "outputs": [],
   "source": [
    "mrse_final_train = sqrt(mean_squared_error(y_train, y_train_predict_final))\n",
    "print(\"Final MRSE for training data the model is: {n}\".format(n = str(mrse_final_train)))"
   ]
  },
  {
   "cell_type": "markdown",
   "id": "b777edd1-fe50-4ce3-a90f-c77298f28661",
   "metadata": {},
   "source": [
    "# Deployment"
   ]
  },
  {
   "cell_type": "markdown",
   "id": "2c490304-01ab-404b-99d0-073847e37ea6",
   "metadata": {},
   "source": [
    "### Estimated rating dataframe preprocessing \n",
    "\n",
    "In this step we generated a dataset named 'final_estimated_rating' and renamed it as 'df_estimated' that contains 588 unique movies, 162.109 unique users and 95MI estimated predictions. This works in a way to pre process and generate rating predictions in advance, so when we need to generate a prediction, we have it all trained and done. "
   ]
  },
  {
   "cell_type": "code",
   "execution_count": null,
   "id": "96278839-e786-488d-8aa9-5bb0e5b45c9a",
   "metadata": {},
   "outputs": [],
   "source": [
    "userId = []\n",
    "movieId = []\n",
    "rating = []"
   ]
  },
  {
   "cell_type": "code",
   "execution_count": null,
   "id": "f49bdbf8-10e3-4b84-93ae-d914be739a53",
   "metadata": {},
   "outputs": [],
   "source": [
    "unique_user_id = ratings_final[\"userId\"].unique()\n",
    "unique_movie_id = ratings_final[\"movieId\"].unique()"
   ]
  },
  {
   "cell_type": "code",
   "execution_count": null,
   "id": "e23d4268",
   "metadata": {},
   "outputs": [],
   "source": [
    "df_estimated = None\n",
    "try: \n",
    "  df_estimated = pd.read_csv(\"../datasets/final-estimated-rating.csv\")\n",
    "except:\n",
    "  pass"
   ]
  },
  {
   "cell_type": "code",
   "execution_count": 17,
   "id": "54e68acf-1a2b-44b3-965a-e9852d8a51d6",
   "metadata": {},
   "outputs": [],
   "source": [
    "if df_estimated is None: \n",
    "  for u_id in unique_user_id:\n",
    "    for m_id in unique_movie_id:\n",
    "      userId.append(u_id)\n",
    "      movieId.append(m_id)\n",
    "      rating.append(final_model.estimate(u_id, m_id))"
   ]
  },
  {
   "cell_type": "code",
   "execution_count": null,
   "id": "77c9e7e0-e52e-4d13-9fac-167c96b3eecd",
   "metadata": {},
   "outputs": [],
   "source": [
    "if df_estimated is None: \n",
    "  data = {\n",
    "    \"userId\": userId,\n",
    "    \"movieId\": movieId,\n",
    "    \"rating\" : rating\n",
    "  }\n",
    "  filename = \"../datasets/final-estimated-rating.csv\"\n",
    "  df_estimated = pd.DataFrame(data=data)\n",
    "  df_estimated.to_csv(filename, sep=',', index=False, encoding='utf-8')"
   ]
  },
  {
   "cell_type": "code",
   "execution_count": 18,
   "id": "082f52b2-b5af-456e-811a-aea117cfe2e7",
   "metadata": {},
   "outputs": [
    {
     "data": {
      "text/plain": [
       "588"
      ]
     },
     "execution_count": 18,
     "metadata": {},
     "output_type": "execute_result"
    }
   ],
   "source": [
    "df_estimated[\"movieId\"].nunique()"
   ]
  },
  {
   "cell_type": "code",
   "execution_count": null,
   "id": "d1a8c4e1-3ada-4850-8883-2677b12c501d",
   "metadata": {},
   "outputs": [],
   "source": [
    "df_estimated[\"userId\"].nunique()"
   ]
  },
  {
   "cell_type": "code",
   "execution_count": null,
   "id": "6e9b1565-76f3-474c-87b9-104f091fbb76",
   "metadata": {},
   "outputs": [],
   "source": [
    "df_estimated.shape"
   ]
  },
  {
   "cell_type": "markdown",
   "id": "866c96c6-e1a8-476f-927a-3a4a0c85adb3",
   "metadata": {},
   "source": [
    "## Cosine Similarity\n",
    "\n",
    "This Cosine Similarity function works in a way that it finds users that rated the movies similarly to the way you rated movies on our GUI. This allows us to access the ratings these users gave to others titles on our catalogue and give movies recommendations back at our user using an estimative."
   ]
  },
  {
   "cell_type": "code",
   "execution_count": 19,
   "id": "5524102a-d241-4866-ace7-68116cf10e13",
   "metadata": {},
   "outputs": [],
   "source": [
    "def find_similar_users(target_user_df, rating_df):\n",
    "  user_rated = target_user_df[\"movieId\"].values\n",
    "  ratings = rating_df[rating_df[\"movieId\"].isin(user_rated)]\n",
    "  similar_users = []\n",
    "  while len(similar_users) < 5:\n",
    "    s = ratings.sample(50000)\n",
    "    df_merged = pd.concat([target_user_df,s])\n",
    "    pivot_df = df_merged.pivot_table(index='userId', columns='movieId', values='rating', aggfunc='mean').fillna(0)\n",
    "    similarity_matrix = cosine_similarity(pivot_df)\n",
    "    similarity_matrix_df = pd.DataFrame(similarity_matrix, index=pivot_df.index, columns=pivot_df.index)\n",
    "    select_user_id = target_user_df[\"userId\"].min()\n",
    "    n = 10 \n",
    "      \n",
    "    #set a threshold for similarity\n",
    "    user_similarity_threshold =  0.8\n",
    "      \n",
    "    similar_users = similarity_matrix_df[similarity_matrix_df[select_user_id]>user_similarity_threshold][select_user_id].sort_values(ascending=False)[:n]\n",
    "  return similar_users "
   ]
  },
  {
   "cell_type": "markdown",
   "id": "08fe038e-e950-4aa8-8686-8284bc3c1890",
   "metadata": {},
   "source": [
    "## Create a Random User as Proof of Concept\n",
    "\n",
    "Here we are doing a simulation with a hypothetical user that rated a random selection of movies in a random selection of ratings and identify this user as user 0. Then we use our function 'find_similar_users' (Cosine Similarity) based on our 'ratings_final' dataset and find a group of 10 users with similar ratings (user 0 + 9 users). We then calculate the average rating and merge with the movie dataset generating 'merged_final' that when sorted becomes 'sorted_df'.\n",
    "\n",
    "'Sorted_df' contains movies sorted in a descending way from highest to smallest estimated ratings for our user 0, meaning those are the estimated ratings that our user 0 would probably give to those 578 movies based on this user similarity with other users that rated 0.8 for more or less equally to that estimated rating."
   ]
  },
  {
   "cell_type": "code",
   "execution_count": null,
   "id": "bc88b613",
   "metadata": {},
   "outputs": [],
   "source": [
    "movies_ingrid = [2571,1,1206,1387,912,920]"
   ]
  },
  {
   "cell_type": "code",
   "execution_count": null,
   "id": "6d6c1628",
   "metadata": {},
   "outputs": [],
   "source": [
    "ratings_ingrid = [5,5,2,1.5,0.5,4.5]"
   ]
  },
  {
   "cell_type": "code",
   "execution_count": 12,
   "id": "029cdff9-2a95-4329-84d2-0642b4d160e3",
   "metadata": {},
   "outputs": [
    {
     "name": "stdout",
     "output_type": "stream",
     "text": [
      "[5995, 5989, 593, 1617, 1101, 3996, 923, 5902, 58559, 6874]\n",
      "[5.0, 1.0, 4.0, 1.5, 2.0, 3.5, 2.5, 3.5, 4.5, 1.5]\n"
     ]
    }
   ],
   "source": [
    "# select 10 random movie ids to rate\n",
    "r = np.random.default_rng()\n",
    "ids = ratings_final[\"movieId\"].values\n",
    "m_ids = []\n",
    "ratings = []\n",
    "for i in range(1,11):\n",
    "  m_ids.append(ids[r.integers(0,(len(ids) -1 ))])\n",
    "  ratings.append(r.integers(1,11) / 2)\n",
    "\n",
    "print(m_ids)\n",
    "print(ratings)"
   ]
  },
  {
   "cell_type": "code",
   "execution_count": 13,
   "id": "8f179191-424b-4615-94d9-efba4eec72b9",
   "metadata": {},
   "outputs": [
    {
     "data": {
      "text/html": [
       "<div>\n",
       "<style scoped>\n",
       "    .dataframe tbody tr th:only-of-type {\n",
       "        vertical-align: middle;\n",
       "    }\n",
       "\n",
       "    .dataframe tbody tr th {\n",
       "        vertical-align: top;\n",
       "    }\n",
       "\n",
       "    .dataframe thead th {\n",
       "        text-align: right;\n",
       "    }\n",
       "</style>\n",
       "<table border=\"1\" class=\"dataframe\">\n",
       "  <thead>\n",
       "    <tr style=\"text-align: right;\">\n",
       "      <th></th>\n",
       "      <th>userId</th>\n",
       "      <th>movieId</th>\n",
       "      <th>rating</th>\n",
       "    </tr>\n",
       "  </thead>\n",
       "  <tbody>\n",
       "    <tr>\n",
       "      <th>0</th>\n",
       "      <td>0</td>\n",
       "      <td>5995</td>\n",
       "      <td>5.0</td>\n",
       "    </tr>\n",
       "    <tr>\n",
       "      <th>1</th>\n",
       "      <td>0</td>\n",
       "      <td>5989</td>\n",
       "      <td>1.0</td>\n",
       "    </tr>\n",
       "    <tr>\n",
       "      <th>2</th>\n",
       "      <td>0</td>\n",
       "      <td>593</td>\n",
       "      <td>4.0</td>\n",
       "    </tr>\n",
       "    <tr>\n",
       "      <th>3</th>\n",
       "      <td>0</td>\n",
       "      <td>1617</td>\n",
       "      <td>1.5</td>\n",
       "    </tr>\n",
       "    <tr>\n",
       "      <th>4</th>\n",
       "      <td>0</td>\n",
       "      <td>1101</td>\n",
       "      <td>2.0</td>\n",
       "    </tr>\n",
       "    <tr>\n",
       "      <th>5</th>\n",
       "      <td>0</td>\n",
       "      <td>3996</td>\n",
       "      <td>3.5</td>\n",
       "    </tr>\n",
       "    <tr>\n",
       "      <th>6</th>\n",
       "      <td>0</td>\n",
       "      <td>923</td>\n",
       "      <td>2.5</td>\n",
       "    </tr>\n",
       "    <tr>\n",
       "      <th>7</th>\n",
       "      <td>0</td>\n",
       "      <td>5902</td>\n",
       "      <td>3.5</td>\n",
       "    </tr>\n",
       "    <tr>\n",
       "      <th>8</th>\n",
       "      <td>0</td>\n",
       "      <td>58559</td>\n",
       "      <td>4.5</td>\n",
       "    </tr>\n",
       "    <tr>\n",
       "      <th>9</th>\n",
       "      <td>0</td>\n",
       "      <td>6874</td>\n",
       "      <td>1.5</td>\n",
       "    </tr>\n",
       "  </tbody>\n",
       "</table>\n",
       "</div>"
      ],
      "text/plain": [
       "   userId  movieId  rating\n",
       "0       0     5995     5.0\n",
       "1       0     5989     1.0\n",
       "2       0      593     4.0\n",
       "3       0     1617     1.5\n",
       "4       0     1101     2.0\n",
       "5       0     3996     3.5\n",
       "6       0      923     2.5\n",
       "7       0     5902     3.5\n",
       "8       0    58559     4.5\n",
       "9       0     6874     1.5"
      ]
     },
     "execution_count": 13,
     "metadata": {},
     "output_type": "execute_result"
    }
   ],
   "source": [
    "# set target user id to 0 and create user dataframe\n",
    "user_id = 0\n",
    "dict = {\n",
    "  \"userId\" : [user_id,user_id,user_id,user_id,user_id,user_id,user_id,user_id,user_id,user_id],\n",
    "  \"movieId\" : m_ids,\n",
    "  \"rating\" : ratings\n",
    "} \n",
    "df_user_0 = pd.DataFrame(dict)\n",
    "df_user_0"
   ]
  },
  {
   "cell_type": "code",
   "execution_count": 14,
   "id": "cf2f583b-796c-4dba-92d2-0edc7ceba3f7",
   "metadata": {},
   "outputs": [
    {
     "name": "stdout",
     "output_type": "stream",
     "text": [
      "userId\n",
      "0         1.000000\n",
      "104339    0.892273\n",
      "45601     0.846601\n",
      "135478    0.845122\n",
      "69751     0.843333\n",
      "85859     0.820876\n",
      "128957    0.814066\n",
      "39448     0.810834\n",
      "43368     0.804639\n",
      "Name: 0, dtype: float64\n"
     ]
    }
   ],
   "source": [
    "users = find_similar_users(df_user_0,ratings_final )\n",
    "print(users)"
   ]
  },
  {
   "cell_type": "code",
   "execution_count": 20,
   "id": "48bba97c-acb0-4e19-830a-4947e0b6300d",
   "metadata": {},
   "outputs": [
    {
     "name": "stdout",
     "output_type": "stream",
     "text": [
      "104339 0.892273258660385\n",
      "45601 0.8466012389023664\n",
      "135478 0.8451215497002765\n",
      "69751 0.8433325485598161\n",
      "85859 0.820876488871979\n",
      "128957 0.8140662421649975\n",
      "39448 0.8108337156262104\n",
      "43368 0.8046387510053817\n"
     ]
    }
   ],
   "source": [
    "ids = [] \n",
    "for id, score in users.items():\n",
    "  if id == 0: \n",
    "    continue\n",
    "  ids.append(id)\n",
    "  print(id, score)"
   ]
  },
  {
   "cell_type": "code",
   "execution_count": 21,
   "id": "4a68efde-e765-4b8a-873b-0ff1070845b8",
   "metadata": {},
   "outputs": [
    {
     "name": "stdout",
     "output_type": "stream",
     "text": [
      "     movieId  Estimated Rating\n",
      "0          1          3.619658\n",
      "1          2          3.045028\n",
      "2          3          2.924095\n",
      "3          5          2.880635\n",
      "4          6          3.622763\n",
      "..       ...               ...\n",
      "573   122886          3.306880\n",
      "574   122904          3.438900\n",
      "575   134130          3.768543\n",
      "576   134853          3.641068\n",
      "577   164179          3.708956\n",
      "\n",
      "[578 rows x 2 columns]\n"
     ]
    }
   ],
   "source": [
    "filtered_df = df_estimated[df_estimated['userId'].isin(ids) & ~df_estimated['movieId'].isin(df_user_0['movieId'])]\n",
    "\n",
    "# Group by 'movieId' and calculate average rating\n",
    "average_rating = filtered_df.groupby('movieId')['rating'].mean().reset_index()\n",
    "\n",
    "average_rating.columns = ['movieId', 'Estimated Rating']\n",
    "\n",
    "print(average_rating)"
   ]
  },
  {
   "cell_type": "code",
   "execution_count": 22,
   "id": "c68f2098-dd41-44f7-aebd-2f369b9ceecf",
   "metadata": {},
   "outputs": [],
   "source": [
    "path_movies ='../Datasets/movies.csv'\n",
    "movies = pd.read_csv(path_movies)"
   ]
  },
  {
   "cell_type": "markdown",
   "id": "0c4e83fb",
   "metadata": {},
   "source": [
    "Account for genre bias "
   ]
  },
  {
   "cell_type": "code",
   "execution_count": 23,
   "id": "e9b2dfdb",
   "metadata": {},
   "outputs": [],
   "source": [
    "# account for user bias \n",
    "user_0_movies = movies[movies[\"movieId\"].isin(df_user_0[\"movieId\"].values)]\n",
    "# create a dataframe to extract genres from moves that user has rated \n",
    "user_0_movies = pd.merge(user_0_movies, df_user_0, on=\"movieId\", how=\"left\")\n",
    "\n"
   ]
  },
  {
   "cell_type": "code",
   "execution_count": 24,
   "id": "80647231",
   "metadata": {},
   "outputs": [
    {
     "data": {
      "text/plain": [
       "{'Crime': 0.9,\n",
       " 'Horror': 1.1,\n",
       " 'Thriller': 0.9,\n",
       " 'Drama': 1.1,\n",
       " 'Mystery': 0.9,\n",
       " 'Action': 1.0,\n",
       " 'Romance': 1,\n",
       " 'Film-Noir': 0.9,\n",
       " 'Comedy': 1,\n",
       " 'War': 1.1,\n",
       " 'IMAX': 1.1}"
      ]
     },
     "execution_count": 24,
     "metadata": {},
     "output_type": "execute_result"
    }
   ],
   "source": [
    "# extract genres \n",
    "biases = {}\n",
    "\n",
    "for i in range(len(user_0_movies)):\n",
    "  # extract columns from df \n",
    "  rating = user_0_movies.iloc[i, 4]\n",
    "  genres = user_0_movies.iloc[i, 2].split(\"|\")\n",
    "  # update factor \n",
    "  factor = 0\n",
    "  if rating < 2:\n",
    "    factor = -0.1\n",
    "  if rating > 3.5 :\n",
    "    factor = 0.1\n",
    "  # update biases \n",
    "  for genre in genres:\n",
    "    if genre not in biases:\n",
    "      biases[genre] = factor\n",
    "    else :  \n",
    "      biases[genre] += factor\n",
    "      \n",
    "for k, v in biases.items():\n",
    "    biases[k] = v + 1\n",
    "    \n",
    "biases"
   ]
  },
  {
   "cell_type": "code",
   "execution_count": 30,
   "id": "ffc43e46-5b68-40a7-88ef-da1a789aba0b",
   "metadata": {},
   "outputs": [],
   "source": [
    "merged_final = pd.merge(average_rating, movies, on='movieId', how='left')"
   ]
  },
  {
   "cell_type": "markdown",
   "id": "ad17e141",
   "metadata": {},
   "source": [
    "Apply genre bias for the final recommendation"
   ]
  },
  {
   "cell_type": "code",
   "execution_count": 26,
   "id": "8b5f2f97",
   "metadata": {},
   "outputs": [],
   "source": [
    "def alter_ratings(row):\n",
    "    rating = row['Estimated Rating']\n",
    "    genres = row['genres'].split(\"|\")\n",
    "    # apply biases \n",
    "    for genre in genres:\n",
    "      if genre in biases:\n",
    "        rating *= biases[genre]\n",
    "    row['Estimated Rating'] = rating \n",
    "    return row"
   ]
  },
  {
   "cell_type": "code",
   "execution_count": 33,
   "id": "9b875a9e",
   "metadata": {},
   "outputs": [],
   "source": [
    "merged_final = merged_final.apply(alter_ratings, axis=1)"
   ]
  },
  {
   "cell_type": "code",
   "execution_count": 34,
   "id": "2c72bea5-4599-44f1-a541-495309fa8dd5",
   "metadata": {},
   "outputs": [
    {
     "data": {
      "text/html": [
       "<div>\n",
       "<style scoped>\n",
       "    .dataframe tbody tr th:only-of-type {\n",
       "        vertical-align: middle;\n",
       "    }\n",
       "\n",
       "    .dataframe tbody tr th {\n",
       "        vertical-align: top;\n",
       "    }\n",
       "\n",
       "    .dataframe thead th {\n",
       "        text-align: right;\n",
       "    }\n",
       "</style>\n",
       "<table border=\"1\" class=\"dataframe\">\n",
       "  <thead>\n",
       "    <tr style=\"text-align: right;\">\n",
       "      <th></th>\n",
       "      <th>movieId</th>\n",
       "      <th>Estimated Rating</th>\n",
       "      <th>title</th>\n",
       "      <th>genres</th>\n",
       "    </tr>\n",
       "  </thead>\n",
       "  <tbody>\n",
       "    <tr>\n",
       "      <th>0</th>\n",
       "      <td>1</td>\n",
       "      <td>3.619658</td>\n",
       "      <td>Toy Story (1995)</td>\n",
       "      <td>Adventure|Animation|Children|Comedy|Fantasy</td>\n",
       "    </tr>\n",
       "    <tr>\n",
       "      <th>1</th>\n",
       "      <td>2</td>\n",
       "      <td>3.045028</td>\n",
       "      <td>Jumanji (1995)</td>\n",
       "      <td>Adventure|Children|Fantasy</td>\n",
       "    </tr>\n",
       "    <tr>\n",
       "      <th>2</th>\n",
       "      <td>3</td>\n",
       "      <td>2.924095</td>\n",
       "      <td>Grumpier Old Men (1995)</td>\n",
       "      <td>Comedy|Romance</td>\n",
       "    </tr>\n",
       "    <tr>\n",
       "      <th>3</th>\n",
       "      <td>5</td>\n",
       "      <td>2.880635</td>\n",
       "      <td>Father of the Bride Part II (1995)</td>\n",
       "      <td>Comedy</td>\n",
       "    </tr>\n",
       "    <tr>\n",
       "      <th>4</th>\n",
       "      <td>6</td>\n",
       "      <td>2.934438</td>\n",
       "      <td>Heat (1995)</td>\n",
       "      <td>Action|Crime|Thriller</td>\n",
       "    </tr>\n",
       "  </tbody>\n",
       "</table>\n",
       "</div>"
      ],
      "text/plain": [
       "   movieId  Estimated Rating                               title  \\\n",
       "0        1          3.619658                    Toy Story (1995)   \n",
       "1        2          3.045028                      Jumanji (1995)   \n",
       "2        3          2.924095             Grumpier Old Men (1995)   \n",
       "3        5          2.880635  Father of the Bride Part II (1995)   \n",
       "4        6          2.934438                         Heat (1995)   \n",
       "\n",
       "                                        genres  \n",
       "0  Adventure|Animation|Children|Comedy|Fantasy  \n",
       "1                   Adventure|Children|Fantasy  \n",
       "2                               Comedy|Romance  \n",
       "3                                       Comedy  \n",
       "4                        Action|Crime|Thriller  "
      ]
     },
     "execution_count": 34,
     "metadata": {},
     "output_type": "execute_result"
    }
   ],
   "source": [
    "merged_final.head()"
   ]
  },
  {
   "cell_type": "code",
   "execution_count": 35,
   "id": "814b8212-5428-43a1-b2a3-531d18bd9504",
   "metadata": {},
   "outputs": [
    {
     "data": {
      "text/html": [
       "<div>\n",
       "<style scoped>\n",
       "    .dataframe tbody tr th:only-of-type {\n",
       "        vertical-align: middle;\n",
       "    }\n",
       "\n",
       "    .dataframe tbody tr th {\n",
       "        vertical-align: top;\n",
       "    }\n",
       "\n",
       "    .dataframe thead th {\n",
       "        text-align: right;\n",
       "    }\n",
       "</style>\n",
       "<table border=\"1\" class=\"dataframe\">\n",
       "  <thead>\n",
       "    <tr style=\"text-align: right;\">\n",
       "      <th></th>\n",
       "      <th>movieId</th>\n",
       "      <th>Estimated Rating</th>\n",
       "      <th>title</th>\n",
       "      <th>genres</th>\n",
       "    </tr>\n",
       "  </thead>\n",
       "  <tbody>\n",
       "    <tr>\n",
       "      <th>103</th>\n",
       "      <td>527</td>\n",
       "      <td>4.842384</td>\n",
       "      <td>Schindler's List (1993)</td>\n",
       "      <td>Drama|War</td>\n",
       "    </tr>\n",
       "    <tr>\n",
       "      <th>181</th>\n",
       "      <td>1204</td>\n",
       "      <td>4.716503</td>\n",
       "      <td>Lawrence of Arabia (1962)</td>\n",
       "      <td>Adventure|Drama|War</td>\n",
       "    </tr>\n",
       "    <tr>\n",
       "      <th>311</th>\n",
       "      <td>2324</td>\n",
       "      <td>4.674585</td>\n",
       "      <td>Life Is Beautiful (La Vita è bella) (1997)</td>\n",
       "      <td>Comedy|Drama|Romance|War</td>\n",
       "    </tr>\n",
       "    <tr>\n",
       "      <th>196</th>\n",
       "      <td>1233</td>\n",
       "      <td>4.625339</td>\n",
       "      <td>Boot, Das (Boat, The) (1981)</td>\n",
       "      <td>Action|Drama|War</td>\n",
       "    </tr>\n",
       "    <tr>\n",
       "      <th>184</th>\n",
       "      <td>1208</td>\n",
       "      <td>4.622924</td>\n",
       "      <td>Apocalypse Now (1979)</td>\n",
       "      <td>Action|Drama|War</td>\n",
       "    </tr>\n",
       "    <tr>\n",
       "      <th>206</th>\n",
       "      <td>1262</td>\n",
       "      <td>4.616805</td>\n",
       "      <td>Great Escape, The (1963)</td>\n",
       "      <td>Action|Adventure|Drama|War</td>\n",
       "    </tr>\n",
       "    <tr>\n",
       "      <th>202</th>\n",
       "      <td>1250</td>\n",
       "      <td>4.593717</td>\n",
       "      <td>Bridge on the River Kwai, The (1957)</td>\n",
       "      <td>Adventure|Drama|War</td>\n",
       "    </tr>\n",
       "    <tr>\n",
       "      <th>291</th>\n",
       "      <td>2028</td>\n",
       "      <td>4.582403</td>\n",
       "      <td>Saving Private Ryan (1998)</td>\n",
       "      <td>Action|Drama|War</td>\n",
       "    </tr>\n",
       "    <tr>\n",
       "      <th>26</th>\n",
       "      <td>110</td>\n",
       "      <td>4.571132</td>\n",
       "      <td>Braveheart (1995)</td>\n",
       "      <td>Action|Drama|War</td>\n",
       "    </tr>\n",
       "    <tr>\n",
       "      <th>192</th>\n",
       "      <td>1222</td>\n",
       "      <td>4.563705</td>\n",
       "      <td>Full Metal Jacket (1987)</td>\n",
       "      <td>Drama|War</td>\n",
       "    </tr>\n",
       "    <tr>\n",
       "      <th>74</th>\n",
       "      <td>356</td>\n",
       "      <td>4.544003</td>\n",
       "      <td>Forrest Gump (1994)</td>\n",
       "      <td>Comedy|Drama|Romance|War</td>\n",
       "    </tr>\n",
       "    <tr>\n",
       "      <th>207</th>\n",
       "      <td>1263</td>\n",
       "      <td>4.527283</td>\n",
       "      <td>Deer Hunter, The (1978)</td>\n",
       "      <td>Drama|War</td>\n",
       "    </tr>\n",
       "    <tr>\n",
       "      <th>199</th>\n",
       "      <td>1242</td>\n",
       "      <td>4.427442</td>\n",
       "      <td>Glory (1989)</td>\n",
       "      <td>Drama|War</td>\n",
       "    </tr>\n",
       "    <tr>\n",
       "      <th>528</th>\n",
       "      <td>68157</td>\n",
       "      <td>4.406457</td>\n",
       "      <td>Inglourious Basterds (2009)</td>\n",
       "      <td>Action|Drama|War</td>\n",
       "    </tr>\n",
       "    <tr>\n",
       "      <th>165</th>\n",
       "      <td>1090</td>\n",
       "      <td>4.381804</td>\n",
       "      <td>Platoon (1986)</td>\n",
       "      <td>Drama|War</td>\n",
       "    </tr>\n",
       "    <tr>\n",
       "      <th>480</th>\n",
       "      <td>30749</td>\n",
       "      <td>4.377307</td>\n",
       "      <td>Hotel Rwanda (2004)</td>\n",
       "      <td>Drama|War</td>\n",
       "    </tr>\n",
       "    <tr>\n",
       "      <th>289</th>\n",
       "      <td>2019</td>\n",
       "      <td>4.375047</td>\n",
       "      <td>Seven Samurai (Shichinin no samurai) (1954)</td>\n",
       "      <td>Action|Adventure|Drama</td>\n",
       "    </tr>\n",
       "    <tr>\n",
       "      <th>131</th>\n",
       "      <td>750</td>\n",
       "      <td>4.349655</td>\n",
       "      <td>Dr. Strangelove or: How I Learned to Stop Worr...</td>\n",
       "      <td>Comedy|War</td>\n",
       "    </tr>\n",
       "    <tr>\n",
       "      <th>180</th>\n",
       "      <td>1203</td>\n",
       "      <td>4.341111</td>\n",
       "      <td>12 Angry Men (1957)</td>\n",
       "      <td>Drama</td>\n",
       "    </tr>\n",
       "    <tr>\n",
       "      <th>424</th>\n",
       "      <td>5060</td>\n",
       "      <td>4.309195</td>\n",
       "      <td>M*A*S*H (a.k.a. MASH) (1970)</td>\n",
       "      <td>Comedy|Drama|War</td>\n",
       "    </tr>\n",
       "    <tr>\n",
       "      <th>31</th>\n",
       "      <td>150</td>\n",
       "      <td>4.302153</td>\n",
       "      <td>Apollo 13 (1995)</td>\n",
       "      <td>Adventure|Drama|IMAX</td>\n",
       "    </tr>\n",
       "    <tr>\n",
       "      <th>152</th>\n",
       "      <td>920</td>\n",
       "      <td>4.287690</td>\n",
       "      <td>Gone with the Wind (1939)</td>\n",
       "      <td>Drama|Romance|War</td>\n",
       "    </tr>\n",
       "    <tr>\n",
       "      <th>149</th>\n",
       "      <td>912</td>\n",
       "      <td>4.286438</td>\n",
       "      <td>Casablanca (1942)</td>\n",
       "      <td>Drama|Romance</td>\n",
       "    </tr>\n",
       "    <tr>\n",
       "      <th>347</th>\n",
       "      <td>2858</td>\n",
       "      <td>4.283982</td>\n",
       "      <td>American Beauty (1999)</td>\n",
       "      <td>Drama|Romance</td>\n",
       "    </tr>\n",
       "    <tr>\n",
       "      <th>173</th>\n",
       "      <td>1193</td>\n",
       "      <td>4.277195</td>\n",
       "      <td>One Flew Over the Cuckoo's Nest (1975)</td>\n",
       "      <td>Drama</td>\n",
       "    </tr>\n",
       "    <tr>\n",
       "      <th>356</th>\n",
       "      <td>3000</td>\n",
       "      <td>4.257854</td>\n",
       "      <td>Princess Mononoke (Mononoke-hime) (1997)</td>\n",
       "      <td>Action|Adventure|Animation|Drama|Fantasy</td>\n",
       "    </tr>\n",
       "    <tr>\n",
       "      <th>183</th>\n",
       "      <td>1207</td>\n",
       "      <td>4.253219</td>\n",
       "      <td>To Kill a Mockingbird (1962)</td>\n",
       "      <td>Drama</td>\n",
       "    </tr>\n",
       "    <tr>\n",
       "      <th>76</th>\n",
       "      <td>364</td>\n",
       "      <td>4.233976</td>\n",
       "      <td>Lion King, The (1994)</td>\n",
       "      <td>Adventure|Animation|Children|Drama|Musical|IMAX</td>\n",
       "    </tr>\n",
       "    <tr>\n",
       "      <th>187</th>\n",
       "      <td>1214</td>\n",
       "      <td>4.212036</td>\n",
       "      <td>Alien (1979)</td>\n",
       "      <td>Horror|Sci-Fi</td>\n",
       "    </tr>\n",
       "    <tr>\n",
       "      <th>566</th>\n",
       "      <td>112552</td>\n",
       "      <td>4.180414</td>\n",
       "      <td>Whiplash (2014)</td>\n",
       "      <td>Drama</td>\n",
       "    </tr>\n",
       "  </tbody>\n",
       "</table>\n",
       "</div>"
      ],
      "text/plain": [
       "     movieId  Estimated Rating  \\\n",
       "103      527          4.842384   \n",
       "181     1204          4.716503   \n",
       "311     2324          4.674585   \n",
       "196     1233          4.625339   \n",
       "184     1208          4.622924   \n",
       "206     1262          4.616805   \n",
       "202     1250          4.593717   \n",
       "291     2028          4.582403   \n",
       "26       110          4.571132   \n",
       "192     1222          4.563705   \n",
       "74       356          4.544003   \n",
       "207     1263          4.527283   \n",
       "199     1242          4.427442   \n",
       "528    68157          4.406457   \n",
       "165     1090          4.381804   \n",
       "480    30749          4.377307   \n",
       "289     2019          4.375047   \n",
       "131      750          4.349655   \n",
       "180     1203          4.341111   \n",
       "424     5060          4.309195   \n",
       "31       150          4.302153   \n",
       "152      920          4.287690   \n",
       "149      912          4.286438   \n",
       "347     2858          4.283982   \n",
       "173     1193          4.277195   \n",
       "356     3000          4.257854   \n",
       "183     1207          4.253219   \n",
       "76       364          4.233976   \n",
       "187     1214          4.212036   \n",
       "566   112552          4.180414   \n",
       "\n",
       "                                                 title  \\\n",
       "103                            Schindler's List (1993)   \n",
       "181                          Lawrence of Arabia (1962)   \n",
       "311         Life Is Beautiful (La Vita è bella) (1997)   \n",
       "196                       Boot, Das (Boat, The) (1981)   \n",
       "184                              Apocalypse Now (1979)   \n",
       "206                           Great Escape, The (1963)   \n",
       "202               Bridge on the River Kwai, The (1957)   \n",
       "291                         Saving Private Ryan (1998)   \n",
       "26                                   Braveheart (1995)   \n",
       "192                           Full Metal Jacket (1987)   \n",
       "74                                 Forrest Gump (1994)   \n",
       "207                            Deer Hunter, The (1978)   \n",
       "199                                       Glory (1989)   \n",
       "528                        Inglourious Basterds (2009)   \n",
       "165                                     Platoon (1986)   \n",
       "480                                Hotel Rwanda (2004)   \n",
       "289        Seven Samurai (Shichinin no samurai) (1954)   \n",
       "131  Dr. Strangelove or: How I Learned to Stop Worr...   \n",
       "180                                12 Angry Men (1957)   \n",
       "424                       M*A*S*H (a.k.a. MASH) (1970)   \n",
       "31                                    Apollo 13 (1995)   \n",
       "152                          Gone with the Wind (1939)   \n",
       "149                                  Casablanca (1942)   \n",
       "347                             American Beauty (1999)   \n",
       "173             One Flew Over the Cuckoo's Nest (1975)   \n",
       "356           Princess Mononoke (Mononoke-hime) (1997)   \n",
       "183                       To Kill a Mockingbird (1962)   \n",
       "76                               Lion King, The (1994)   \n",
       "187                                       Alien (1979)   \n",
       "566                                    Whiplash (2014)   \n",
       "\n",
       "                                              genres  \n",
       "103                                        Drama|War  \n",
       "181                              Adventure|Drama|War  \n",
       "311                         Comedy|Drama|Romance|War  \n",
       "196                                 Action|Drama|War  \n",
       "184                                 Action|Drama|War  \n",
       "206                       Action|Adventure|Drama|War  \n",
       "202                              Adventure|Drama|War  \n",
       "291                                 Action|Drama|War  \n",
       "26                                  Action|Drama|War  \n",
       "192                                        Drama|War  \n",
       "74                          Comedy|Drama|Romance|War  \n",
       "207                                        Drama|War  \n",
       "199                                        Drama|War  \n",
       "528                                 Action|Drama|War  \n",
       "165                                        Drama|War  \n",
       "480                                        Drama|War  \n",
       "289                           Action|Adventure|Drama  \n",
       "131                                       Comedy|War  \n",
       "180                                            Drama  \n",
       "424                                 Comedy|Drama|War  \n",
       "31                              Adventure|Drama|IMAX  \n",
       "152                                Drama|Romance|War  \n",
       "149                                    Drama|Romance  \n",
       "347                                    Drama|Romance  \n",
       "173                                            Drama  \n",
       "356         Action|Adventure|Animation|Drama|Fantasy  \n",
       "183                                            Drama  \n",
       "76   Adventure|Animation|Children|Drama|Musical|IMAX  \n",
       "187                                    Horror|Sci-Fi  \n",
       "566                                            Drama  "
      ]
     },
     "execution_count": 35,
     "metadata": {},
     "output_type": "execute_result"
    }
   ],
   "source": [
    "sorted_df = merged_final.sort_values(by='Estimated Rating', ascending=False)\n",
    "sorted_df.head(30)"
   ]
  },
  {
   "cell_type": "code",
   "execution_count": null,
   "id": "de978b46-4686-4014-9393-f644264e80e8",
   "metadata": {},
   "outputs": [],
   "source": [
    "sorted_df.info()"
   ]
  },
  {
   "cell_type": "code",
   "execution_count": null,
   "id": "c1c9ade4-03e5-43d9-ab68-0c7c0830b304",
   "metadata": {},
   "outputs": [],
   "source": [
    "sorted_df.shape"
   ]
  },
  {
   "cell_type": "markdown",
   "id": "f41cb7d2-03ed-4bcb-ae3f-e3a3b397d2cf",
   "metadata": {},
   "source": [
    "## Recommender class\n",
    "\n",
    "This class allows us to use our recommendation system on our GUI."
   ]
  },
  {
   "cell_type": "code",
   "execution_count": null,
   "id": "2a144770-2c60-4ed2-abfc-b9da74470601",
   "metadata": {},
   "outputs": [],
   "source": [
    "class Recommender:\n",
    "  def __init__(self, movies, df_estimated, ratings_final):\n",
    "    self.movies = movies\n",
    "    self.df_estimated = df_estimated\n",
    "    self.ratings_final = ratings_final\n",
    "    self.find_similar_users = find_similar_users\n",
    "  def create_user(self, data):\n",
    "    self.df_user_0 = pd.DataFrame(data)\n",
    "    return self.df_user_0\n",
    "  \n",
    "  def generate_recommendation(self, user_gui):\n",
    "    users = find_similar_users(user_gui,ratings_final )\n",
    "    ids = [] \n",
    "    for id, score in users.items():\n",
    "      if id == 0: \n",
    "        continue\n",
    "      ids.append(id)\n",
    "    filtered_df = self.df_estimated[self.df_estimated['userId'].isin(ids) & ~self.df_estimated['movieId'].isin(user_gui['movieId'])]\n",
    "\n",
    "    # Group by 'movieId' and calculate average rating\n",
    "    average_rating = filtered_df.groupby('movieId')['rating'].mean().reset_index()\n",
    "\n",
    "    average_rating.columns = ['movieId', 'estimated_rating']\n",
    "\n",
    "    average_rating\n",
    "    merged_final = pd.merge(average_rating, self.movies, on='movieId', how='left')\n",
    "    \n",
    "    #get genre biases\n",
    "    self.biases = self.extract_genre_biases(self.df_user_0, self.movies) \n",
    "    \n",
    "    merged_final = merged_final.apply(self.alter_ratings, axis=1)\n",
    "    \n",
    "    sorted_df = merged_final.sort_values(by='estimated_rating', ascending=False)\n",
    "    return sorted_df\n",
    "  \n",
    "  def extract_genre_biases(self, df_user_0, movies):\n",
    "    # account for user bias \n",
    "    user_0_movies = movies[movies[\"movieId\"].isin(df_user_0[\"movieId\"].values)]\n",
    "    # create a dataframe to extract genres from moves that user has rated \n",
    "    user_0_movies = pd.merge(user_0_movies, df_user_0, on=\"movieId\", how=\"left\")\n",
    "    # extract genres \n",
    "    biases = {}\n",
    "\n",
    "    for i in range(len(user_0_movies)):\n",
    "      # extract columns from df \n",
    "      rating = user_0_movies.iloc[i, 4]\n",
    "      genres = user_0_movies.iloc[i, 2].split(\"|\")\n",
    "      # update factor \n",
    "      factor = 0\n",
    "      if rating < 2:\n",
    "        factor = -0.1\n",
    "      if rating > 3.5 :\n",
    "        factor = 0.1\n",
    "      # update biases \n",
    "      for genre in genres:\n",
    "        if genre not in biases:\n",
    "          biases[genre] = factor\n",
    "          # biases.update({genre: factor})\n",
    "        else :  \n",
    "          biases[genre] += factor\n",
    "    # update factor \n",
    "    for k, v in biases.items():\n",
    "        biases[k] = v + 1\n",
    "        \n",
    "    biases\n",
    "  \n",
    "  def alter_ratings(self, row):\n",
    "    rating = row['Estimated Rating']\n",
    "    genres = row['genres'].split(\"|\")\n",
    "    # apply biases \n",
    "    for genre in genres:\n",
    "      if genre in self.biases:\n",
    "        rating *= self.biases[genre]\n",
    "    row['Estimated Rating'] = rating \n",
    "    return row"
   ]
  },
  {
   "cell_type": "code",
   "execution_count": null,
   "id": "7fef2c50-c344-456a-a21b-05888a26175e",
   "metadata": {},
   "outputs": [],
   "source": [
    "ids = ratings_final[\"movieId\"].values\n",
    "titles_df = movies[movies[\"movieId\"].isin(ids)][[\"movieId\",\"title\"]]"
   ]
  },
  {
   "cell_type": "code",
   "execution_count": null,
   "id": "a9295dd8-7c15-4e19-847f-e669d8a68f5b",
   "metadata": {},
   "outputs": [],
   "source": [
    "titles_df.reset_index(inplace=True)\n",
    "       # self.recommender = Recommender(movies, df_estimated, ratings_final)\n"
   ]
  },
  {
   "cell_type": "markdown",
   "id": "8c2045c6-5989-4e65-8496-3b537c0f8332",
   "metadata": {},
   "source": [
    "# GUI\n",
    "\n",
    "This Graphical User Interface implements the Recommender Class and gives the user the possibility of trying our system themselves. As an user you can give rating to some titles and that will enable the system to find users that rated those movies in a similar way, and recommend to you the movies those users would judge as 'highly rated productions'. \n",
    "\n",
    "This is a simple prdone and how the prototype, just to show how the use of the system can be done by a user. It is recommended that 10 ratings are given as a way to tune our system, but less or more can also be done if desired be. "
   ]
  },
  {
   "cell_type": "code",
   "execution_count": null,
   "id": "07f76755-6e21-49e2-b5aa-58efdbd38f2b",
   "metadata": {},
   "outputs": [],
   "source": [
    "class MovieGUI:\n",
    "    def __init__(self, dataset):\n",
    "        self.recommender = Recommender(movies, df_estimated, ratings_final)\n",
    "        self.dataset = dataset\n",
    "        self.root = tk.Tk()\n",
    "        self.root.title(\"Movie Recommender\")\n",
    "        self.root.geometry(\"900x600\")\n",
    "        self.root.configure(bg=\"lightblue\")\n",
    "        self.title_label = tk.Label(self.root, text=\"Movie Recommendation System\", font=(\"Helvetica\", 20), bg=\"lightblue\")\n",
    "        self.title_label.pack()\n",
    "        self.subtitle_label = tk.Label(self.root, text=\"Give a rating between 1-10 to 10 movies to obtain your recommendation:\", font=(\"Helvetica\", 12), bg=\"lightblue\")\n",
    "        self.subtitle_label.pack()\n",
    "        self.main_frame = tk.Frame(self.root, bg=\"white\", borderwidth=2, relief=\"solid\")\n",
    "        self.main_frame.pack(padx=20, pady=20, fill=tk.BOTH, expand=True)\n",
    "        self.main_frame.grid_propagate(False)\n",
    "        self.main_frame.config(width=800)\n",
    "        self.rating_pickers = []  # List to hold rating pickers\n",
    "        self.ratings = {\"userId\": [], \"movieId\": [], \"rating\": []}  # Dictionary to store ratings\n",
    "        self.canvas = tk.Canvas(self.main_frame, bg=\"white\", width=800, height=400)\n",
    "        self.canvas.pack(side=tk.LEFT, fill=tk.BOTH, expand=True)\n",
    "        self.scrollbar = ttk.Scrollbar(self.main_frame, orient=tk.VERTICAL, command=self.canvas.yview)\n",
    "        self.scrollbar.pack(side=tk.RIGHT, fill=tk.Y)\n",
    "        self.canvas.configure(yscrollcommand=self.scrollbar.set)\n",
    "        self.canvas.bind(\"<Configure>\", lambda e: self.canvas.configure(scrollregion=self.canvas.bbox(\"all\")))\n",
    "        self.inner_frame = tk.Frame(self.canvas, bg=\"white\")\n",
    "        self.canvas.create_window((0, 0), window=self.inner_frame, anchor=\"nw\")\n",
    "        for i, row in enumerate(self.dataset.itertuples(), start=1):\n",
    "            title_label = tk.Label(self.inner_frame, text=row.title, bg=\"white\")\n",
    "            title_label.grid(row=i, column=0, padx=(0, 10), pady=5, sticky=\"ns\")\n",
    "            rating_picker = ttk.Combobox(self.inner_frame, values=[\"\"] + [i for i in range(1, 11)], width=3)\n",
    "            rating_picker.grid(row=i, column=1, pady=5, sticky=\"ns\")\n",
    "            self.rating_pickers.append(rating_picker)\n",
    "        self.recommend_button = tk.Button(self.root, text=\"Recommend\", font=(\"Helvetica\", 14), command=self.recommend_movie)\n",
    "        self.recommend_button.pack(pady=10)\n",
    "        self.subtitle_label = tk.Label(self.root, text=\"by Ingrid & Robert\", font=(\"Helvetica\", 10), bg=\"lightblue\")\n",
    "        self.subtitle_label.pack(pady=5)\n",
    "\n",
    "    def recommend_movie(self):\n",
    "        for i, rating_picker in enumerate(self.rating_pickers):\n",
    "            rating = rating_picker.get()\n",
    "            if rating:\n",
    "                self.ratings[\"userId\"].append(\"0\")  # Add placeholder for userId\n",
    "                self.ratings[\"movieId\"].append(self.dataset.iloc[i].movieId)\n",
    "                self.ratings[\"rating\"].append(float(rating)/2)\n",
    "        user = self.recommender.create_user(self.ratings)\n",
    "        # print(user)\n",
    "        self.recommendation_df = self.recommender.generate_recommendation(user)\n",
    "        # print(self.recommendation_df.head(5))\n",
    "        self.display_recommendation(self.recommendation_df)\n",
    "        \n",
    "    def display_recommendation(self, recommendation_df):\n",
    "        # Clear existing content in the inner_frame\n",
    "        for widget in self.inner_frame.winfo_children():\n",
    "            widget.destroy()\n",
    "\n",
    "        # Display loading message\n",
    "        loading_label = tk.Label(self.inner_frame, text=\"Loading recommendations...\", bg=\"white\")\n",
    "        loading_label.grid(row=0, columnspan=2, pady=10)    \n",
    "\n",
    "        # Remove loading message\n",
    "        loading_label.grid_forget()    \n",
    "\n",
    "        # Display recommendation dataframe in main_frame\n",
    "        recommendation_text = tk.Text(self.inner_frame, wrap=\"word\", width=120, height=80, bg=\"white\", font=(\"Helvetica\", 12))\n",
    "        recommendation_text.insert(tk.END, \"Recommended Movies:\\n\\n\")\n",
    "        for row in recommendation_df.itertuples():\n",
    "            recommendation_text.insert(tk.END, f\"\\tTitle: {row.title} \\t Estimated Rating: {round(row.estimated_rating,1)} \\t Genres:{row.genres}\\n\\n\")\n",
    "        recommendation_text.grid(row=1, columnspan=2, pady=5, sticky=\"nsew\")\n",
    "\n",
    "\n",
    "        recommendation_text.tag_configure(\"center\", justify=\"center\")\n",
    "        # Update scroll region\n",
    "        self.canvas.update_idletasks()  # Update widgets to get accurate scroll region\n",
    "        self.canvas.configure(scrollregion=self.canvas.bbox(\"all\"))\n",
    "\n",
    "    def run(self):\n",
    "        self.root.mainloop()\n",
    "\n",
    "# Load the dataset\n",
    "\n",
    "# Create GUI instance with dataset\n",
    "gui = MovieGUI(titles_df)\n",
    "gui.run()"
   ]
  },
  {
   "cell_type": "code",
   "execution_count": null,
   "id": "f4dc184c-85c5-4ca7-bcb1-801812993d58",
   "metadata": {},
   "outputs": [],
   "source": []
  }
 ],
 "metadata": {
  "kernelspec": {
   "display_name": "Python 3 (ipykernel)",
   "language": "python",
   "name": "python3"
  },
  "language_info": {
   "codemirror_mode": {
    "name": "ipython",
    "version": 3
   },
   "file_extension": ".py",
   "mimetype": "text/x-python",
   "name": "python",
   "nbconvert_exporter": "python",
   "pygments_lexer": "ipython3",
   "version": "3.11.7"
  }
 },
 "nbformat": 4,
 "nbformat_minor": 5
}
