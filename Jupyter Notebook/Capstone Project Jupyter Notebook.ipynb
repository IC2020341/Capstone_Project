{
 "cells": [
  {
   "cell_type": "markdown",
   "id": "96e5192e-02c9-4aec-9c5c-2e466bcde10d",
   "metadata": {},
   "source": [
    "# Imports"
   ]
  },
  {
   "cell_type": "code",
   "execution_count": 1,
   "id": "254c3c00-4266-4d17-b9c3-443723db2ed0",
   "metadata": {},
   "outputs": [],
   "source": [
    "import pandas as pd\n",
    "import numpy as np\n",
    "import matplotlib.pyplot as plt\n",
    "from matplotlib import pyplot \n",
    "import seaborn as sns\n",
    "from wordcloud import WordCloud\n",
    "\n",
    "# Importing necessary modules for model evaluation and preprocessing \n",
    "from sklearn.model_selection import train_test_split\n",
    "from sklearn.model_selection import cross_val_score\n",
    "from sklearn.model_selection import StratifiedKFold\n",
    "from sklearn.preprocessing import StandardScaler\n",
    "\n",
    "# Models\n",
    "from sklearn.tree import DecisionTreeRegressor\n",
    "from sklearn.ensemble import RandomForestClassifier\n",
    "from sklearn.discriminant_analysis import LinearDiscriminantAnalysis\n",
    "from sklearn.naive_bayes import GaussianNB\n",
    "\n",
    "# Importing GridSearchCV for hyperparameter tuning and mean_squared_error for model evaluation\n",
    "from sklearn.model_selection import GridSearchCV\n",
    "from sklearn.metrics import mean_squared_error\n",
    "\n",
    "# package that will help us to save tough models, this will allow us to run all notebook quickly \n",
    "import pickle as pk\n",
    "import pickle\n",
    "from math import sqrt\n",
    "import json\n",
    "from sklearn.metrics import mean_squared_error\n",
    "from sklearn.metrics.pairwise import cosine_similarity\n",
    "\n",
    "# GUI\n",
    "import tkinter as tk\n",
    "from tkinter import ttk"
   ]
  },
  {
   "cell_type": "code",
   "execution_count": 2,
   "id": "194a3cc5-ecdc-4f80-b76e-2790a87052d2",
   "metadata": {},
   "outputs": [],
   "source": [
    "#pip install wordcloud"
   ]
  },
  {
   "cell_type": "markdown",
   "id": "60fae75d-5e14-478e-aacb-6e4b70664109",
   "metadata": {},
   "source": [
    "# Read CSVs\n",
    "\n",
    "Datasets are available on the link in readME. Change the paths as needed."
   ]
  },
  {
   "cell_type": "code",
   "execution_count": 3,
   "id": "3e098fcd-34f2-4984-9034-4d9caa9b5c7f",
   "metadata": {},
   "outputs": [],
   "source": [
    "path_movies ='../Datasets/movies.csv'\n",
    "path_ratings = '../Datasets/ratings.csv' \n",
    "\n",
    "movies = pd.read_csv(path_movies)\n",
    "ratings = pd.read_csv(path_ratings)"
   ]
  },
  {
   "cell_type": "markdown",
   "id": "1d3ca647-0e73-4d22-bcf6-1da48a07d802",
   "metadata": {},
   "source": [
    "# Data Understanding and Preparation\n",
    "\n",
    "In this phase, we will do the basic first exploration of what the data comprises. As this is an interactive project, some data preparation is also done along with data understanding. But as a way to organise this second and third phase we organised this way:\n",
    "\n",
    "- Data Understanding and Prep of the Movies dataset, with further data understanding about genres and data visualisations of genres and year.\n",
    "- Data Understanding and Prep of the Ratings dataset.\n",
    "- Merging of both datasets.\n",
    "- Data preparation for Modelling."
   ]
  },
  {
   "cell_type": "markdown",
   "id": "e85f4a47-df9f-48d4-9629-380ba6391d5e",
   "metadata": {},
   "source": [
    "## Data Understanding for Movies Dataset\n",
    "\n",
    "- ‘Movies’ dataset contains 62.423 rows and 3 columns;\n",
    "- Columns are: ‘movieId’ (int64), ‘title’ (object) and ‘genres’ (object);\n",
    "- No duplicated values;\n",
    "- No Null values;\n",
    "- No NA values;"
   ]
  },
  {
   "cell_type": "code",
   "execution_count": 4,
   "id": "5bfb2dab-764b-40ae-8ec6-b944da69ac64",
   "metadata": {},
   "outputs": [
    {
     "data": {
      "text/html": [
       "<div>\n",
       "<style scoped>\n",
       "    .dataframe tbody tr th:only-of-type {\n",
       "        vertical-align: middle;\n",
       "    }\n",
       "\n",
       "    .dataframe tbody tr th {\n",
       "        vertical-align: top;\n",
       "    }\n",
       "\n",
       "    .dataframe thead th {\n",
       "        text-align: right;\n",
       "    }\n",
       "</style>\n",
       "<table border=\"1\" class=\"dataframe\">\n",
       "  <thead>\n",
       "    <tr style=\"text-align: right;\">\n",
       "      <th></th>\n",
       "      <th>movieId</th>\n",
       "      <th>title</th>\n",
       "      <th>genres</th>\n",
       "    </tr>\n",
       "  </thead>\n",
       "  <tbody>\n",
       "    <tr>\n",
       "      <th>0</th>\n",
       "      <td>1</td>\n",
       "      <td>Toy Story (1995)</td>\n",
       "      <td>Adventure|Animation|Children|Comedy|Fantasy</td>\n",
       "    </tr>\n",
       "    <tr>\n",
       "      <th>1</th>\n",
       "      <td>2</td>\n",
       "      <td>Jumanji (1995)</td>\n",
       "      <td>Adventure|Children|Fantasy</td>\n",
       "    </tr>\n",
       "    <tr>\n",
       "      <th>2</th>\n",
       "      <td>3</td>\n",
       "      <td>Grumpier Old Men (1995)</td>\n",
       "      <td>Comedy|Romance</td>\n",
       "    </tr>\n",
       "    <tr>\n",
       "      <th>3</th>\n",
       "      <td>4</td>\n",
       "      <td>Waiting to Exhale (1995)</td>\n",
       "      <td>Comedy|Drama|Romance</td>\n",
       "    </tr>\n",
       "    <tr>\n",
       "      <th>4</th>\n",
       "      <td>5</td>\n",
       "      <td>Father of the Bride Part II (1995)</td>\n",
       "      <td>Comedy</td>\n",
       "    </tr>\n",
       "  </tbody>\n",
       "</table>\n",
       "</div>"
      ],
      "text/plain": [
       "   movieId                               title  \\\n",
       "0        1                    Toy Story (1995)   \n",
       "1        2                      Jumanji (1995)   \n",
       "2        3             Grumpier Old Men (1995)   \n",
       "3        4            Waiting to Exhale (1995)   \n",
       "4        5  Father of the Bride Part II (1995)   \n",
       "\n",
       "                                        genres  \n",
       "0  Adventure|Animation|Children|Comedy|Fantasy  \n",
       "1                   Adventure|Children|Fantasy  \n",
       "2                               Comedy|Romance  \n",
       "3                         Comedy|Drama|Romance  \n",
       "4                                       Comedy  "
      ]
     },
     "execution_count": 4,
     "metadata": {},
     "output_type": "execute_result"
    }
   ],
   "source": [
    "movies.head()"
   ]
  },
  {
   "cell_type": "code",
   "execution_count": 5,
   "id": "79aaaa94-d2df-43f7-ad3d-ba40496e18e3",
   "metadata": {},
   "outputs": [
    {
     "data": {
      "text/plain": [
       "movieId     int64\n",
       "title      object\n",
       "genres     object\n",
       "dtype: object"
      ]
     },
     "execution_count": 5,
     "metadata": {},
     "output_type": "execute_result"
    }
   ],
   "source": [
    "movies.dtypes"
   ]
  },
  {
   "cell_type": "code",
   "execution_count": 6,
   "id": "5615d14d-1df1-4dcf-b975-c755acc6c13c",
   "metadata": {},
   "outputs": [
    {
     "data": {
      "text/plain": [
       "(62423, 3)"
      ]
     },
     "execution_count": 6,
     "metadata": {},
     "output_type": "execute_result"
    }
   ],
   "source": [
    "movies.shape"
   ]
  },
  {
   "cell_type": "code",
   "execution_count": 7,
   "id": "e2613309-6b25-4128-b36d-5ed622a76a81",
   "metadata": {},
   "outputs": [
    {
     "data": {
      "text/html": [
       "<div>\n",
       "<style scoped>\n",
       "    .dataframe tbody tr th:only-of-type {\n",
       "        vertical-align: middle;\n",
       "    }\n",
       "\n",
       "    .dataframe tbody tr th {\n",
       "        vertical-align: top;\n",
       "    }\n",
       "\n",
       "    .dataframe thead th {\n",
       "        text-align: right;\n",
       "    }\n",
       "</style>\n",
       "<table border=\"1\" class=\"dataframe\">\n",
       "  <thead>\n",
       "    <tr style=\"text-align: right;\">\n",
       "      <th></th>\n",
       "      <th>movieId</th>\n",
       "    </tr>\n",
       "  </thead>\n",
       "  <tbody>\n",
       "    <tr>\n",
       "      <th>count</th>\n",
       "      <td>62423.000000</td>\n",
       "    </tr>\n",
       "    <tr>\n",
       "      <th>mean</th>\n",
       "      <td>122220.387646</td>\n",
       "    </tr>\n",
       "    <tr>\n",
       "      <th>std</th>\n",
       "      <td>63264.744844</td>\n",
       "    </tr>\n",
       "    <tr>\n",
       "      <th>min</th>\n",
       "      <td>1.000000</td>\n",
       "    </tr>\n",
       "    <tr>\n",
       "      <th>25%</th>\n",
       "      <td>82146.500000</td>\n",
       "    </tr>\n",
       "    <tr>\n",
       "      <th>50%</th>\n",
       "      <td>138022.000000</td>\n",
       "    </tr>\n",
       "    <tr>\n",
       "      <th>75%</th>\n",
       "      <td>173222.000000</td>\n",
       "    </tr>\n",
       "    <tr>\n",
       "      <th>max</th>\n",
       "      <td>209171.000000</td>\n",
       "    </tr>\n",
       "  </tbody>\n",
       "</table>\n",
       "</div>"
      ],
      "text/plain": [
       "             movieId\n",
       "count   62423.000000\n",
       "mean   122220.387646\n",
       "std     63264.744844\n",
       "min         1.000000\n",
       "25%     82146.500000\n",
       "50%    138022.000000\n",
       "75%    173222.000000\n",
       "max    209171.000000"
      ]
     },
     "execution_count": 7,
     "metadata": {},
     "output_type": "execute_result"
    }
   ],
   "source": [
    "movies.describe()"
   ]
  },
  {
   "cell_type": "code",
   "execution_count": 8,
   "id": "b75435c9-de29-4158-860c-9aaf771a5643",
   "metadata": {},
   "outputs": [
    {
     "name": "stdout",
     "output_type": "stream",
     "text": [
      "<class 'pandas.core.frame.DataFrame'>\n",
      "RangeIndex: 62423 entries, 0 to 62422\n",
      "Data columns (total 3 columns):\n",
      " #   Column   Non-Null Count  Dtype \n",
      "---  ------   --------------  ----- \n",
      " 0   movieId  62423 non-null  int64 \n",
      " 1   title    62423 non-null  object\n",
      " 2   genres   62423 non-null  object\n",
      "dtypes: int64(1), object(2)\n",
      "memory usage: 1.4+ MB\n"
     ]
    }
   ],
   "source": [
    "movies.info()"
   ]
  },
  {
   "cell_type": "code",
   "execution_count": 9,
   "id": "a61a52e2-4c83-41c7-ad1b-2f253a3ef167",
   "metadata": {},
   "outputs": [
    {
     "data": {
      "text/plain": [
       "movieId    62423\n",
       "title      62325\n",
       "genres      1639\n",
       "dtype: int64"
      ]
     },
     "execution_count": 9,
     "metadata": {},
     "output_type": "execute_result"
    }
   ],
   "source": [
    "movies.nunique()"
   ]
  },
  {
   "cell_type": "code",
   "execution_count": 10,
   "id": "995d3882-792c-45db-95f4-ba74b8c2fecd",
   "metadata": {},
   "outputs": [
    {
     "data": {
      "text/plain": [
       "0"
      ]
     },
     "execution_count": 10,
     "metadata": {},
     "output_type": "execute_result"
    }
   ],
   "source": [
    "movies.duplicated().sum()"
   ]
  },
  {
   "cell_type": "code",
   "execution_count": 11,
   "id": "61f1d2f8-cb95-433e-8ad7-d1653591f1be",
   "metadata": {},
   "outputs": [
    {
     "data": {
      "text/plain": [
       "title\n",
       "The Void (2016)                                2\n",
       "Seven Years Bad Luck (1921)                    2\n",
       "Clear History (2013)                           2\n",
       "Enron: The Smartest Guys in the Room (2005)    2\n",
       "Deranged (2012)                                2\n",
       "                                              ..\n",
       "$ellebrity (Sellebrity) (2012)                 1\n",
       "Macabre (Macabro) (1980)                       1\n",
       "Punk's Dead: SLC Punk! 2 (2014)                1\n",
       "Chinese Hercules (1973)                        1\n",
       "Women of Devil's Island (1962)                 1\n",
       "Name: count, Length: 62325, dtype: int64"
      ]
     },
     "execution_count": 11,
     "metadata": {},
     "output_type": "execute_result"
    }
   ],
   "source": [
    "movies['title'].value_counts()"
   ]
  },
  {
   "cell_type": "code",
   "execution_count": 12,
   "id": "94b2dab8-814e-44fb-9186-c38276abf0cd",
   "metadata": {},
   "outputs": [
    {
     "data": {
      "text/plain": [
       "movieId    0\n",
       "title      0\n",
       "genres     0\n",
       "dtype: int64"
      ]
     },
     "execution_count": 12,
     "metadata": {},
     "output_type": "execute_result"
    }
   ],
   "source": [
    "movies.isnull().sum()"
   ]
  },
  {
   "cell_type": "code",
   "execution_count": 13,
   "id": "6a5dfe81-4ac6-4a92-9e0d-462d31089c5e",
   "metadata": {},
   "outputs": [
    {
     "data": {
      "text/plain": [
       "movieId    0\n",
       "title      0\n",
       "genres     0\n",
       "dtype: int64"
      ]
     },
     "execution_count": 13,
     "metadata": {},
     "output_type": "execute_result"
    }
   ],
   "source": [
    "movies.isna().sum()"
   ]
  },
  {
   "cell_type": "code",
   "execution_count": 14,
   "id": "6a84289d-6665-4c76-957e-388359475381",
   "metadata": {},
   "outputs": [
    {
     "data": {
      "image/png": "[encoded data removed]",
      "text/plain": [
       "<Figure size 1000x600 with 1 Axes>"
      ]
     },
     "metadata": {},
     "output_type": "display_data"
    }
   ],
   "source": [
    "# this data visualisation gives us the main words in movie titles\n",
    "\n",
    "text = ' '.join(movies['title'])\n",
    "wordcloud = WordCloud(width=800, height=400, background_color='white').generate(text)\n",
    "plt.figure(figsize=(10, 6))\n",
    "plt.imshow(wordcloud, interpolation='bilinear')\n",
    "plt.axis('off')\n",
    "plt.title('Word Cloud of Movie Titles')\n",
    "plt.show()"
   ]
  },
  {
   "cell_type": "code",
   "execution_count": 15,
   "id": "4caacdfa-8365-4286-ad9c-1d0435369dfc",
   "metadata": {},
   "outputs": [
    {
     "data": {
      "image/png": "[encoded data removed]",
      "text/plain": [
       "<Figure size 1000x800 with 1 Axes>"
      ]
     },
     "metadata": {},
     "output_type": "display_data"
    }
   ],
   "source": [
    "# this visualisation slices genres and give us percentages of each genres\n",
    "genres_count = movies['genres'].str.split('|', expand=True).stack().value_counts()\n",
    "\n",
    "plt.figure(figsize=(10, 8))\n",
    "genres_count.plot(kind='pie', autopct='%1.1f%%')\n",
    "plt.legend(genres_count.index, loc=\"center left\", bbox_to_anchor=(1.1, 0, 0.5, 1))\n",
    "plt.title('Proportion of Movies by Genres')\n",
    "plt.ylabel('')\n",
    "plt.show()"
   ]
  },
  {
   "cell_type": "markdown",
   "id": "a77101e6-d334-4b04-8c37-649dd304a1de",
   "metadata": {},
   "source": [
    "## Data Preparation for Movies Dataset"
   ]
  },
  {
   "cell_type": "markdown",
   "id": "6cd4c0e1-f055-46f1-9a05-3e6651027198",
   "metadata": {},
   "source": [
    "### Genre splitting\n",
    "\n",
    "In this process we will slice the genre column and do dummy encoding in it. This will enable us to work with the genres as if those are numerical values. \n",
    "\n",
    "In the code below 3 actions were done:\n",
    "- Slicing of genres and encoding of it;\n",
    "- Creation of genre_count column;\n",
    "- Moving genre_count to the front of the new section."
   ]
  },
  {
   "cell_type": "code",
   "execution_count": 16,
   "id": "2205b14e-fa91-44af-9f99-a537644dd3b2",
   "metadata": {},
   "outputs": [
    {
     "data": {
      "text/html": [
       "<div>\n",
       "<style scoped>\n",
       "    .dataframe tbody tr th:only-of-type {\n",
       "        vertical-align: middle;\n",
       "    }\n",
       "\n",
       "    .dataframe tbody tr th {\n",
       "        vertical-align: top;\n",
       "    }\n",
       "\n",
       "    .dataframe thead th {\n",
       "        text-align: right;\n",
       "    }\n",
       "</style>\n",
       "<table border=\"1\" class=\"dataframe\">\n",
       "  <thead>\n",
       "    <tr style=\"text-align: right;\">\n",
       "      <th></th>\n",
       "      <th>genre_count</th>\n",
       "      <th>Action</th>\n",
       "      <th>Adventure</th>\n",
       "      <th>Animation</th>\n",
       "      <th>Children</th>\n",
       "      <th>Comedy</th>\n",
       "      <th>Crime</th>\n",
       "      <th>Documentary</th>\n",
       "      <th>Drama</th>\n",
       "      <th>Fantasy</th>\n",
       "      <th>Film-Noir</th>\n",
       "      <th>Horror</th>\n",
       "      <th>IMAX</th>\n",
       "      <th>Musical</th>\n",
       "      <th>Mystery</th>\n",
       "      <th>Romance</th>\n",
       "      <th>Sci-Fi</th>\n",
       "      <th>Thriller</th>\n",
       "      <th>War</th>\n",
       "      <th>Western</th>\n",
       "    </tr>\n",
       "  </thead>\n",
       "  <tbody>\n",
       "    <tr>\n",
       "      <th>0</th>\n",
       "      <td>5</td>\n",
       "      <td>0</td>\n",
       "      <td>1</td>\n",
       "      <td>1</td>\n",
       "      <td>1</td>\n",
       "      <td>1</td>\n",
       "      <td>0</td>\n",
       "      <td>0</td>\n",
       "      <td>0</td>\n",
       "      <td>1</td>\n",
       "      <td>0</td>\n",
       "      <td>0</td>\n",
       "      <td>0</td>\n",
       "      <td>0</td>\n",
       "      <td>0</td>\n",
       "      <td>0</td>\n",
       "      <td>0</td>\n",
       "      <td>0</td>\n",
       "      <td>0</td>\n",
       "      <td>0</td>\n",
       "    </tr>\n",
       "    <tr>\n",
       "      <th>1</th>\n",
       "      <td>3</td>\n",
       "      <td>0</td>\n",
       "      <td>1</td>\n",
       "      <td>0</td>\n",
       "      <td>1</td>\n",
       "      <td>0</td>\n",
       "      <td>0</td>\n",
       "      <td>0</td>\n",
       "      <td>0</td>\n",
       "      <td>1</td>\n",
       "      <td>0</td>\n",
       "      <td>0</td>\n",
       "      <td>0</td>\n",
       "      <td>0</td>\n",
       "      <td>0</td>\n",
       "      <td>0</td>\n",
       "      <td>0</td>\n",
       "      <td>0</td>\n",
       "      <td>0</td>\n",
       "      <td>0</td>\n",
       "    </tr>\n",
       "    <tr>\n",
       "      <th>2</th>\n",
       "      <td>2</td>\n",
       "      <td>0</td>\n",
       "      <td>0</td>\n",
       "      <td>0</td>\n",
       "      <td>0</td>\n",
       "      <td>1</td>\n",
       "      <td>0</td>\n",
       "      <td>0</td>\n",
       "      <td>0</td>\n",
       "      <td>0</td>\n",
       "      <td>0</td>\n",
       "      <td>0</td>\n",
       "      <td>0</td>\n",
       "      <td>0</td>\n",
       "      <td>0</td>\n",
       "      <td>1</td>\n",
       "      <td>0</td>\n",
       "      <td>0</td>\n",
       "      <td>0</td>\n",
       "      <td>0</td>\n",
       "    </tr>\n",
       "    <tr>\n",
       "      <th>3</th>\n",
       "      <td>3</td>\n",
       "      <td>0</td>\n",
       "      <td>0</td>\n",
       "      <td>0</td>\n",
       "      <td>0</td>\n",
       "      <td>1</td>\n",
       "      <td>0</td>\n",
       "      <td>0</td>\n",
       "      <td>1</td>\n",
       "      <td>0</td>\n",
       "      <td>0</td>\n",
       "      <td>0</td>\n",
       "      <td>0</td>\n",
       "      <td>0</td>\n",
       "      <td>0</td>\n",
       "      <td>1</td>\n",
       "      <td>0</td>\n",
       "      <td>0</td>\n",
       "      <td>0</td>\n",
       "      <td>0</td>\n",
       "    </tr>\n",
       "    <tr>\n",
       "      <th>4</th>\n",
       "      <td>1</td>\n",
       "      <td>0</td>\n",
       "      <td>0</td>\n",
       "      <td>0</td>\n",
       "      <td>0</td>\n",
       "      <td>1</td>\n",
       "      <td>0</td>\n",
       "      <td>0</td>\n",
       "      <td>0</td>\n",
       "      <td>0</td>\n",
       "      <td>0</td>\n",
       "      <td>0</td>\n",
       "      <td>0</td>\n",
       "      <td>0</td>\n",
       "      <td>0</td>\n",
       "      <td>0</td>\n",
       "      <td>0</td>\n",
       "      <td>0</td>\n",
       "      <td>0</td>\n",
       "      <td>0</td>\n",
       "    </tr>\n",
       "  </tbody>\n",
       "</table>\n",
       "</div>"
      ],
      "text/plain": [
       "   genre_count  Action  Adventure  Animation  Children  Comedy  Crime  \\\n",
       "0            5       0          1          1         1       1      0   \n",
       "1            3       0          1          0         1       0      0   \n",
       "2            2       0          0          0         0       1      0   \n",
       "3            3       0          0          0         0       1      0   \n",
       "4            1       0          0          0         0       1      0   \n",
       "\n",
       "   Documentary  Drama  Fantasy  Film-Noir  Horror  IMAX  Musical  Mystery  \\\n",
       "0            0      0        1          0       0     0        0        0   \n",
       "1            0      0        1          0       0     0        0        0   \n",
       "2            0      0        0          0       0     0        0        0   \n",
       "3            0      1        0          0       0     0        0        0   \n",
       "4            0      0        0          0       0     0        0        0   \n",
       "\n",
       "   Romance  Sci-Fi  Thriller  War  Western  \n",
       "0        0       0         0    0        0  \n",
       "1        0       0         0    0        0  \n",
       "2        1       0         0    0        0  \n",
       "3        1       0         0    0        0  \n",
       "4        0       0         0    0        0  "
      ]
     },
     "execution_count": 16,
     "metadata": {},
     "output_type": "execute_result"
    }
   ],
   "source": [
    "# Separating genres to count them.\n",
    "movie_genres = movies['genres'].str.get_dummies('|')\n",
    "movie_genres.drop(columns=[\"(no genres listed)\"], inplace=True)\n",
    "\n",
    "# Creating the genre_count column, that calculate how many genres the movie has and gives a numerical value.\n",
    "movie_genres['genre_count'] = movie_genres.iloc[:, 0:19].astype(bool).sum(axis=1)\n",
    "\n",
    "# Moving the column to the front.\n",
    "genre_count_column = movie_genres.pop('genre_count')\n",
    "movie_genres.insert(0, 'genre_count', genre_count_column)\n",
    "movie_genres.head()"
   ]
  },
  {
   "cell_type": "markdown",
   "id": "fdda3ac6-530c-47bf-ba6d-7fec8c242432",
   "metadata": {},
   "source": [
    "Below we just are going to merge these new columns to the main dataset:"
   ]
  },
  {
   "cell_type": "code",
   "execution_count": 17,
   "id": "130a054e-acef-4c11-b87c-996e96e6aa4f",
   "metadata": {},
   "outputs": [
    {
     "data": {
      "text/html": [
       "<div>\n",
       "<style scoped>\n",
       "    .dataframe tbody tr th:only-of-type {\n",
       "        vertical-align: middle;\n",
       "    }\n",
       "\n",
       "    .dataframe tbody tr th {\n",
       "        vertical-align: top;\n",
       "    }\n",
       "\n",
       "    .dataframe thead th {\n",
       "        text-align: right;\n",
       "    }\n",
       "</style>\n",
       "<table border=\"1\" class=\"dataframe\">\n",
       "  <thead>\n",
       "    <tr style=\"text-align: right;\">\n",
       "      <th></th>\n",
       "      <th>movieId</th>\n",
       "      <th>title</th>\n",
       "      <th>genres</th>\n",
       "      <th>genre_count</th>\n",
       "      <th>Action</th>\n",
       "      <th>Adventure</th>\n",
       "      <th>Animation</th>\n",
       "      <th>Children</th>\n",
       "      <th>Comedy</th>\n",
       "      <th>Crime</th>\n",
       "      <th>...</th>\n",
       "      <th>Film-Noir</th>\n",
       "      <th>Horror</th>\n",
       "      <th>IMAX</th>\n",
       "      <th>Musical</th>\n",
       "      <th>Mystery</th>\n",
       "      <th>Romance</th>\n",
       "      <th>Sci-Fi</th>\n",
       "      <th>Thriller</th>\n",
       "      <th>War</th>\n",
       "      <th>Western</th>\n",
       "    </tr>\n",
       "  </thead>\n",
       "  <tbody>\n",
       "    <tr>\n",
       "      <th>0</th>\n",
       "      <td>1</td>\n",
       "      <td>Toy Story (1995)</td>\n",
       "      <td>Adventure|Animation|Children|Comedy|Fantasy</td>\n",
       "      <td>5</td>\n",
       "      <td>0</td>\n",
       "      <td>1</td>\n",
       "      <td>1</td>\n",
       "      <td>1</td>\n",
       "      <td>1</td>\n",
       "      <td>0</td>\n",
       "      <td>...</td>\n",
       "      <td>0</td>\n",
       "      <td>0</td>\n",
       "      <td>0</td>\n",
       "      <td>0</td>\n",
       "      <td>0</td>\n",
       "      <td>0</td>\n",
       "      <td>0</td>\n",
       "      <td>0</td>\n",
       "      <td>0</td>\n",
       "      <td>0</td>\n",
       "    </tr>\n",
       "    <tr>\n",
       "      <th>1</th>\n",
       "      <td>2</td>\n",
       "      <td>Jumanji (1995)</td>\n",
       "      <td>Adventure|Children|Fantasy</td>\n",
       "      <td>3</td>\n",
       "      <td>0</td>\n",
       "      <td>1</td>\n",
       "      <td>0</td>\n",
       "      <td>1</td>\n",
       "      <td>0</td>\n",
       "      <td>0</td>\n",
       "      <td>...</td>\n",
       "      <td>0</td>\n",
       "      <td>0</td>\n",
       "      <td>0</td>\n",
       "      <td>0</td>\n",
       "      <td>0</td>\n",
       "      <td>0</td>\n",
       "      <td>0</td>\n",
       "      <td>0</td>\n",
       "      <td>0</td>\n",
       "      <td>0</td>\n",
       "    </tr>\n",
       "    <tr>\n",
       "      <th>2</th>\n",
       "      <td>3</td>\n",
       "      <td>Grumpier Old Men (1995)</td>\n",
       "      <td>Comedy|Romance</td>\n",
       "      <td>2</td>\n",
       "      <td>0</td>\n",
       "      <td>0</td>\n",
       "      <td>0</td>\n",
       "      <td>0</td>\n",
       "      <td>1</td>\n",
       "      <td>0</td>\n",
       "      <td>...</td>\n",
       "      <td>0</td>\n",
       "      <td>0</td>\n",
       "      <td>0</td>\n",
       "      <td>0</td>\n",
       "      <td>0</td>\n",
       "      <td>1</td>\n",
       "      <td>0</td>\n",
       "      <td>0</td>\n",
       "      <td>0</td>\n",
       "      <td>0</td>\n",
       "    </tr>\n",
       "    <tr>\n",
       "      <th>3</th>\n",
       "      <td>4</td>\n",
       "      <td>Waiting to Exhale (1995)</td>\n",
       "      <td>Comedy|Drama|Romance</td>\n",
       "      <td>3</td>\n",
       "      <td>0</td>\n",
       "      <td>0</td>\n",
       "      <td>0</td>\n",
       "      <td>0</td>\n",
       "      <td>1</td>\n",
       "      <td>0</td>\n",
       "      <td>...</td>\n",
       "      <td>0</td>\n",
       "      <td>0</td>\n",
       "      <td>0</td>\n",
       "      <td>0</td>\n",
       "      <td>0</td>\n",
       "      <td>1</td>\n",
       "      <td>0</td>\n",
       "      <td>0</td>\n",
       "      <td>0</td>\n",
       "      <td>0</td>\n",
       "    </tr>\n",
       "    <tr>\n",
       "      <th>4</th>\n",
       "      <td>5</td>\n",
       "      <td>Father of the Bride Part II (1995)</td>\n",
       "      <td>Comedy</td>\n",
       "      <td>1</td>\n",
       "      <td>0</td>\n",
       "      <td>0</td>\n",
       "      <td>0</td>\n",
       "      <td>0</td>\n",
       "      <td>1</td>\n",
       "      <td>0</td>\n",
       "      <td>...</td>\n",
       "      <td>0</td>\n",
       "      <td>0</td>\n",
       "      <td>0</td>\n",
       "      <td>0</td>\n",
       "      <td>0</td>\n",
       "      <td>0</td>\n",
       "      <td>0</td>\n",
       "      <td>0</td>\n",
       "      <td>0</td>\n",
       "      <td>0</td>\n",
       "    </tr>\n",
       "  </tbody>\n",
       "</table>\n",
       "<p>5 rows × 23 columns</p>\n",
       "</div>"
      ],
      "text/plain": [
       "   movieId                               title  \\\n",
       "0        1                    Toy Story (1995)   \n",
       "1        2                      Jumanji (1995)   \n",
       "2        3             Grumpier Old Men (1995)   \n",
       "3        4            Waiting to Exhale (1995)   \n",
       "4        5  Father of the Bride Part II (1995)   \n",
       "\n",
       "                                        genres  genre_count  Action  \\\n",
       "0  Adventure|Animation|Children|Comedy|Fantasy            5       0   \n",
       "1                   Adventure|Children|Fantasy            3       0   \n",
       "2                               Comedy|Romance            2       0   \n",
       "3                         Comedy|Drama|Romance            3       0   \n",
       "4                                       Comedy            1       0   \n",
       "\n",
       "   Adventure  Animation  Children  Comedy  Crime  ...  Film-Noir  Horror  \\\n",
       "0          1          1         1       1      0  ...          0       0   \n",
       "1          1          0         1       0      0  ...          0       0   \n",
       "2          0          0         0       1      0  ...          0       0   \n",
       "3          0          0         0       1      0  ...          0       0   \n",
       "4          0          0         0       1      0  ...          0       0   \n",
       "\n",
       "   IMAX  Musical  Mystery  Romance  Sci-Fi  Thriller  War  Western  \n",
       "0     0        0        0        0       0         0    0        0  \n",
       "1     0        0        0        0       0         0    0        0  \n",
       "2     0        0        0        1       0         0    0        0  \n",
       "3     0        0        0        1       0         0    0        0  \n",
       "4     0        0        0        0       0         0    0        0  \n",
       "\n",
       "[5 rows x 23 columns]"
      ]
     },
     "execution_count": 17,
     "metadata": {},
     "output_type": "execute_result"
    }
   ],
   "source": [
    "# merge with original dataset.\n",
    "movies_encoded = pd.concat([movies, movie_genres], axis=1)\n",
    "movies_encoded.head()"
   ]
  },
  {
   "cell_type": "code",
   "execution_count": 18,
   "id": "f47284bb-b27d-4d17-9942-e5e2f754838c",
   "metadata": {},
   "outputs": [
    {
     "data": {
      "text/plain": [
       "movieId         int64\n",
       "title          object\n",
       "genres         object\n",
       "genre_count     int64\n",
       "Action          int64\n",
       "Adventure       int64\n",
       "Animation       int64\n",
       "Children        int64\n",
       "Comedy          int64\n",
       "Crime           int64\n",
       "Documentary     int64\n",
       "Drama           int64\n",
       "Fantasy         int64\n",
       "Film-Noir       int64\n",
       "Horror          int64\n",
       "IMAX            int64\n",
       "Musical         int64\n",
       "Mystery         int64\n",
       "Romance         int64\n",
       "Sci-Fi          int64\n",
       "Thriller        int64\n",
       "War             int64\n",
       "Western         int64\n",
       "dtype: object"
      ]
     },
     "execution_count": 18,
     "metadata": {},
     "output_type": "execute_result"
    }
   ],
   "source": [
    "movies_encoded.dtypes"
   ]
  },
  {
   "cell_type": "markdown",
   "id": "cf22b6cc-c46a-471e-9e17-9c3e3af4ea42",
   "metadata": {},
   "source": [
    "### Year Column addition\n",
    "\n",
    "Another numerical value we can insert in this dataset is the year, because all movie names contain their year in parenthesis. In this code below we:\n",
    "\n",
    "- Extracted year values;\n",
    "- Filled NA values with 0 (in case some movies don't have the Year value in the correct format/ don't have the year value);\n",
    "- Moved the column to the third position."
   ]
  },
  {
   "cell_type": "code",
   "execution_count": 19,
   "id": "d4198080-a0de-457a-9c47-634d5d0c21fc",
   "metadata": {},
   "outputs": [
    {
     "data": {
      "text/html": [
       "<div>\n",
       "<style scoped>\n",
       "    .dataframe tbody tr th:only-of-type {\n",
       "        vertical-align: middle;\n",
       "    }\n",
       "\n",
       "    .dataframe tbody tr th {\n",
       "        vertical-align: top;\n",
       "    }\n",
       "\n",
       "    .dataframe thead th {\n",
       "        text-align: right;\n",
       "    }\n",
       "</style>\n",
       "<table border=\"1\" class=\"dataframe\">\n",
       "  <thead>\n",
       "    <tr style=\"text-align: right;\">\n",
       "      <th></th>\n",
       "      <th>movieId</th>\n",
       "      <th>title</th>\n",
       "      <th>year</th>\n",
       "      <th>genres</th>\n",
       "      <th>genre_count</th>\n",
       "      <th>Action</th>\n",
       "      <th>Adventure</th>\n",
       "      <th>Animation</th>\n",
       "      <th>Children</th>\n",
       "      <th>Comedy</th>\n",
       "      <th>...</th>\n",
       "      <th>Film-Noir</th>\n",
       "      <th>Horror</th>\n",
       "      <th>IMAX</th>\n",
       "      <th>Musical</th>\n",
       "      <th>Mystery</th>\n",
       "      <th>Romance</th>\n",
       "      <th>Sci-Fi</th>\n",
       "      <th>Thriller</th>\n",
       "      <th>War</th>\n",
       "      <th>Western</th>\n",
       "    </tr>\n",
       "  </thead>\n",
       "  <tbody>\n",
       "    <tr>\n",
       "      <th>0</th>\n",
       "      <td>1</td>\n",
       "      <td>Toy Story (1995)</td>\n",
       "      <td>1995</td>\n",
       "      <td>Adventure|Animation|Children|Comedy|Fantasy</td>\n",
       "      <td>5</td>\n",
       "      <td>0</td>\n",
       "      <td>1</td>\n",
       "      <td>1</td>\n",
       "      <td>1</td>\n",
       "      <td>1</td>\n",
       "      <td>...</td>\n",
       "      <td>0</td>\n",
       "      <td>0</td>\n",
       "      <td>0</td>\n",
       "      <td>0</td>\n",
       "      <td>0</td>\n",
       "      <td>0</td>\n",
       "      <td>0</td>\n",
       "      <td>0</td>\n",
       "      <td>0</td>\n",
       "      <td>0</td>\n",
       "    </tr>\n",
       "    <tr>\n",
       "      <th>1</th>\n",
       "      <td>2</td>\n",
       "      <td>Jumanji (1995)</td>\n",
       "      <td>1995</td>\n",
       "      <td>Adventure|Children|Fantasy</td>\n",
       "      <td>3</td>\n",
       "      <td>0</td>\n",
       "      <td>1</td>\n",
       "      <td>0</td>\n",
       "      <td>1</td>\n",
       "      <td>0</td>\n",
       "      <td>...</td>\n",
       "      <td>0</td>\n",
       "      <td>0</td>\n",
       "      <td>0</td>\n",
       "      <td>0</td>\n",
       "      <td>0</td>\n",
       "      <td>0</td>\n",
       "      <td>0</td>\n",
       "      <td>0</td>\n",
       "      <td>0</td>\n",
       "      <td>0</td>\n",
       "    </tr>\n",
       "    <tr>\n",
       "      <th>2</th>\n",
       "      <td>3</td>\n",
       "      <td>Grumpier Old Men (1995)</td>\n",
       "      <td>1995</td>\n",
       "      <td>Comedy|Romance</td>\n",
       "      <td>2</td>\n",
       "      <td>0</td>\n",
       "      <td>0</td>\n",
       "      <td>0</td>\n",
       "      <td>0</td>\n",
       "      <td>1</td>\n",
       "      <td>...</td>\n",
       "      <td>0</td>\n",
       "      <td>0</td>\n",
       "      <td>0</td>\n",
       "      <td>0</td>\n",
       "      <td>0</td>\n",
       "      <td>1</td>\n",
       "      <td>0</td>\n",
       "      <td>0</td>\n",
       "      <td>0</td>\n",
       "      <td>0</td>\n",
       "    </tr>\n",
       "    <tr>\n",
       "      <th>3</th>\n",
       "      <td>4</td>\n",
       "      <td>Waiting to Exhale (1995)</td>\n",
       "      <td>1995</td>\n",
       "      <td>Comedy|Drama|Romance</td>\n",
       "      <td>3</td>\n",
       "      <td>0</td>\n",
       "      <td>0</td>\n",
       "      <td>0</td>\n",
       "      <td>0</td>\n",
       "      <td>1</td>\n",
       "      <td>...</td>\n",
       "      <td>0</td>\n",
       "      <td>0</td>\n",
       "      <td>0</td>\n",
       "      <td>0</td>\n",
       "      <td>0</td>\n",
       "      <td>1</td>\n",
       "      <td>0</td>\n",
       "      <td>0</td>\n",
       "      <td>0</td>\n",
       "      <td>0</td>\n",
       "    </tr>\n",
       "    <tr>\n",
       "      <th>4</th>\n",
       "      <td>5</td>\n",
       "      <td>Father of the Bride Part II (1995)</td>\n",
       "      <td>1995</td>\n",
       "      <td>Comedy</td>\n",
       "      <td>1</td>\n",
       "      <td>0</td>\n",
       "      <td>0</td>\n",
       "      <td>0</td>\n",
       "      <td>0</td>\n",
       "      <td>1</td>\n",
       "      <td>...</td>\n",
       "      <td>0</td>\n",
       "      <td>0</td>\n",
       "      <td>0</td>\n",
       "      <td>0</td>\n",
       "      <td>0</td>\n",
       "      <td>0</td>\n",
       "      <td>0</td>\n",
       "      <td>0</td>\n",
       "      <td>0</td>\n",
       "      <td>0</td>\n",
       "    </tr>\n",
       "  </tbody>\n",
       "</table>\n",
       "<p>5 rows × 24 columns</p>\n",
       "</div>"
      ],
      "text/plain": [
       "   movieId                               title  year  \\\n",
       "0        1                    Toy Story (1995)  1995   \n",
       "1        2                      Jumanji (1995)  1995   \n",
       "2        3             Grumpier Old Men (1995)  1995   \n",
       "3        4            Waiting to Exhale (1995)  1995   \n",
       "4        5  Father of the Bride Part II (1995)  1995   \n",
       "\n",
       "                                        genres  genre_count  Action  \\\n",
       "0  Adventure|Animation|Children|Comedy|Fantasy            5       0   \n",
       "1                   Adventure|Children|Fantasy            3       0   \n",
       "2                               Comedy|Romance            2       0   \n",
       "3                         Comedy|Drama|Romance            3       0   \n",
       "4                                       Comedy            1       0   \n",
       "\n",
       "   Adventure  Animation  Children  Comedy  ...  Film-Noir  Horror  IMAX  \\\n",
       "0          1          1         1       1  ...          0       0     0   \n",
       "1          1          0         1       0  ...          0       0     0   \n",
       "2          0          0         0       1  ...          0       0     0   \n",
       "3          0          0         0       1  ...          0       0     0   \n",
       "4          0          0         0       1  ...          0       0     0   \n",
       "\n",
       "   Musical  Mystery  Romance  Sci-Fi  Thriller  War  Western  \n",
       "0        0        0        0       0         0    0        0  \n",
       "1        0        0        0       0         0    0        0  \n",
       "2        0        0        1       0         0    0        0  \n",
       "3        0        0        1       0         0    0        0  \n",
       "4        0        0        0       0         0    0        0  \n",
       "\n",
       "[5 rows x 24 columns]"
      ]
     },
     "execution_count": 19,
     "metadata": {},
     "output_type": "execute_result"
    }
   ],
   "source": [
    "# Extraction of the year, and na filling\n",
    "movies_encoded['year'] = movies_encoded['title'].str.extract(r'\\((\\d{4})\\)')\n",
    "movies_encoded['year'] = movies_encoded['year'].fillna(0).astype('int64')\n",
    "\n",
    "# moving column around to the front\n",
    "year_column = movies_encoded.pop('year')\n",
    "movies_encoded.insert(2, 'year', year_column)\n",
    "\n",
    "movies_encoded.head()"
   ]
  },
  {
   "cell_type": "markdown",
   "id": "747e9c07-ddac-4ffc-b379-ee8e2f3fe922",
   "metadata": {},
   "source": [
    "## Data Understanding for Movies Dataset: Genres and Year\n",
    "\n",
    "After the process of slicing year off of movie names and encoding  we can do some data understanding about genres. The ones we chose to do were:\n",
    "- Which movie has the most genres: Rubber.\n",
    "- How many genres the movie with most genres has: 10 genres.\n",
    "- What is the average number of genres movies have: 1.72.\n",
    "- The average year of movies in the catalogue: 1978.\n",
    "- The top ten years with most movies entries."
   ]
  },
  {
   "cell_type": "code",
   "execution_count": 20,
   "id": "7d696e70-c2c9-4470-9da5-2dfb1d69bc2a",
   "metadata": {},
   "outputs": [
    {
     "name": "stdout",
     "output_type": "stream",
     "text": [
      "The movie with the most number of genres contains: 10 genres\n",
      "The movie moth most genres is:\n"
     ]
    },
    {
     "data": {
      "text/html": [
       "<div>\n",
       "<style scoped>\n",
       "    .dataframe tbody tr th:only-of-type {\n",
       "        vertical-align: middle;\n",
       "    }\n",
       "\n",
       "    .dataframe tbody tr th {\n",
       "        vertical-align: top;\n",
       "    }\n",
       "\n",
       "    .dataframe thead th {\n",
       "        text-align: right;\n",
       "    }\n",
       "</style>\n",
       "<table border=\"1\" class=\"dataframe\">\n",
       "  <thead>\n",
       "    <tr style=\"text-align: right;\">\n",
       "      <th></th>\n",
       "      <th>movieId</th>\n",
       "      <th>title</th>\n",
       "      <th>year</th>\n",
       "      <th>genres</th>\n",
       "      <th>genre_count</th>\n",
       "      <th>Action</th>\n",
       "      <th>Adventure</th>\n",
       "      <th>Animation</th>\n",
       "      <th>Children</th>\n",
       "      <th>Comedy</th>\n",
       "      <th>...</th>\n",
       "      <th>Film-Noir</th>\n",
       "      <th>Horror</th>\n",
       "      <th>IMAX</th>\n",
       "      <th>Musical</th>\n",
       "      <th>Mystery</th>\n",
       "      <th>Romance</th>\n",
       "      <th>Sci-Fi</th>\n",
       "      <th>Thriller</th>\n",
       "      <th>War</th>\n",
       "      <th>Western</th>\n",
       "    </tr>\n",
       "  </thead>\n",
       "  <tbody>\n",
       "    <tr>\n",
       "      <th>15389</th>\n",
       "      <td>81132</td>\n",
       "      <td>Rubber (2010)</td>\n",
       "      <td>2010</td>\n",
       "      <td>Action|Adventure|Comedy|Crime|Drama|Film-Noir|...</td>\n",
       "      <td>10</td>\n",
       "      <td>1</td>\n",
       "      <td>1</td>\n",
       "      <td>0</td>\n",
       "      <td>0</td>\n",
       "      <td>1</td>\n",
       "      <td>...</td>\n",
       "      <td>1</td>\n",
       "      <td>1</td>\n",
       "      <td>0</td>\n",
       "      <td>0</td>\n",
       "      <td>1</td>\n",
       "      <td>0</td>\n",
       "      <td>0</td>\n",
       "      <td>1</td>\n",
       "      <td>0</td>\n",
       "      <td>1</td>\n",
       "    </tr>\n",
       "  </tbody>\n",
       "</table>\n",
       "<p>1 rows × 24 columns</p>\n",
       "</div>"
      ],
      "text/plain": [
       "       movieId          title  year  \\\n",
       "15389    81132  Rubber (2010)  2010   \n",
       "\n",
       "                                                  genres  genre_count  Action  \\\n",
       "15389  Action|Adventure|Comedy|Crime|Drama|Film-Noir|...           10       1   \n",
       "\n",
       "       Adventure  Animation  Children  Comedy  ...  Film-Noir  Horror  IMAX  \\\n",
       "15389          1          0         0       1  ...          1       1     0   \n",
       "\n",
       "       Musical  Mystery  Romance  Sci-Fi  Thriller  War  Western  \n",
       "15389        0        1        0       0         1    0        1  \n",
       "\n",
       "[1 rows x 24 columns]"
      ]
     },
     "execution_count": 20,
     "metadata": {},
     "output_type": "execute_result"
    }
   ],
   "source": [
    "print(\"The movie with the most number of genres contains:\", movies_encoded.genre_count.max(), \"genres\")\n",
    "print(\"The movie moth most genres is:\")\n",
    "movies_max = movies_encoded[movies_encoded['genre_count'] == 10]\n",
    "movies_max"
   ]
  },
  {
   "cell_type": "code",
   "execution_count": 21,
   "id": "2cfaa1da-35ea-45ef-847e-dcf17aa824b7",
   "metadata": {},
   "outputs": [
    {
     "name": "stdout",
     "output_type": "stream",
     "text": [
      "The average number of genres for each movie is: 1.72\n",
      "The average year is: 1978\n",
      "And these are the top 10 years for movies in our system:\n"
     ]
    },
    {
     "data": {
      "text/html": [
       "<div>\n",
       "<style scoped>\n",
       "    .dataframe tbody tr th:only-of-type {\n",
       "        vertical-align: middle;\n",
       "    }\n",
       "\n",
       "    .dataframe tbody tr th {\n",
       "        vertical-align: top;\n",
       "    }\n",
       "\n",
       "    .dataframe thead th {\n",
       "        text-align: right;\n",
       "    }\n",
       "</style>\n",
       "<table border=\"1\" class=\"dataframe\">\n",
       "  <thead>\n",
       "    <tr style=\"text-align: right;\">\n",
       "      <th></th>\n",
       "      <th>year</th>\n",
       "      <th>count</th>\n",
       "    </tr>\n",
       "  </thead>\n",
       "  <tbody>\n",
       "    <tr>\n",
       "      <th>0</th>\n",
       "      <td>2015</td>\n",
       "      <td>2513</td>\n",
       "    </tr>\n",
       "    <tr>\n",
       "      <th>1</th>\n",
       "      <td>2016</td>\n",
       "      <td>2488</td>\n",
       "    </tr>\n",
       "    <tr>\n",
       "      <th>2</th>\n",
       "      <td>2014</td>\n",
       "      <td>2406</td>\n",
       "    </tr>\n",
       "    <tr>\n",
       "      <th>3</th>\n",
       "      <td>2017</td>\n",
       "      <td>2374</td>\n",
       "    </tr>\n",
       "    <tr>\n",
       "      <th>4</th>\n",
       "      <td>2013</td>\n",
       "      <td>2173</td>\n",
       "    </tr>\n",
       "    <tr>\n",
       "      <th>5</th>\n",
       "      <td>2018</td>\n",
       "      <td>2034</td>\n",
       "    </tr>\n",
       "    <tr>\n",
       "      <th>6</th>\n",
       "      <td>2012</td>\n",
       "      <td>1978</td>\n",
       "    </tr>\n",
       "    <tr>\n",
       "      <th>7</th>\n",
       "      <td>2011</td>\n",
       "      <td>1838</td>\n",
       "    </tr>\n",
       "    <tr>\n",
       "      <th>8</th>\n",
       "      <td>2009</td>\n",
       "      <td>1724</td>\n",
       "    </tr>\n",
       "    <tr>\n",
       "      <th>9</th>\n",
       "      <td>2010</td>\n",
       "      <td>1691</td>\n",
       "    </tr>\n",
       "  </tbody>\n",
       "</table>\n",
       "</div>"
      ],
      "text/plain": [
       "   year  count\n",
       "0  2015   2513\n",
       "1  2016   2488\n",
       "2  2014   2406\n",
       "3  2017   2374\n",
       "4  2013   2173\n",
       "5  2018   2034\n",
       "6  2012   1978\n",
       "7  2011   1838\n",
       "8  2009   1724\n",
       "9  2010   1691"
      ]
     },
     "execution_count": 21,
     "metadata": {},
     "output_type": "execute_result"
    }
   ],
   "source": [
    "average_genre_count = round(movies_encoded['genre_count'].mean(), 2)\n",
    "average_year = int(movies_encoded['year'].mean())\n",
    "year_counts = movies_encoded['year'].value_counts().reset_index().head(10)\n",
    "\n",
    "print(\"The average number of genres for each movie is: {:.2f}\\nThe average year is: {}\\nAnd these are the top 10 years for movies in our system:\".format(average_genre_count, average_year))\n",
    "year_counts"
   ]
  },
  {
   "cell_type": "markdown",
   "id": "f42310d3-961f-40c5-84c5-77d6e5a09d65",
   "metadata": {},
   "source": [
    "### Data visualisations for Movies Dataset\n",
    "\n",
    "We did two visualisations:\n",
    "- Genre: A bar plot with genres and their value_counts.\n",
    "- Year: A line plot with years and the counts of them."
   ]
  },
  {
   "cell_type": "markdown",
   "id": "a02feb51-7f98-4a5e-8846-7219289a6d65",
   "metadata": {},
   "source": [
    "#### Genre"
   ]
  },
  {
   "cell_type": "code",
   "execution_count": 22,
   "id": "1d7aaf95-818e-48fe-a2e6-dcdeb04abc6e",
   "metadata": {},
   "outputs": [
    {
     "data": {
      "image/png": "[encoded data removed]",
      "text/plain": [
       "<Figure size 1000x600 with 1 Axes>"
      ]
     },
     "metadata": {},
     "output_type": "display_data"
    }
   ],
   "source": [
    "genres_count = movies_encoded['genres'].str.split('|', expand=True).stack().value_counts().reset_index()\n",
    "genres_count.columns = ['genres', 'count']\n",
    "\n",
    "plt.figure(figsize=(10, 6))\n",
    "sns.barplot(x='genres', y='count', data=genres_count)\n",
    "plt.title('Genre Counter')\n",
    "plt.xlabel('Genre')\n",
    "plt.ylabel('Count')\n",
    "plt.xticks(rotation=45)\n",
    "plt.tight_layout()\n",
    "plt.show()"
   ]
  },
  {
   "cell_type": "markdown",
   "id": "9f1290e5-3a34-48d7-b038-0b5d735cb69f",
   "metadata": {},
   "source": [
    "#### Year"
   ]
  },
  {
   "cell_type": "code",
   "execution_count": 23,
   "id": "03296b7d-9c63-4c6d-8a4f-1585c51511c9",
   "metadata": {},
   "outputs": [
    {
     "name": "stderr",
     "output_type": "stream",
     "text": [
      "C:\\ProgramData\\anaconda3\\Lib\\site-packages\\seaborn\\_oldcore.py:1119: FutureWarning: use_inf_as_na option is deprecated and will be removed in a future version. Convert inf values to NaN before operating instead.\n",
      "  with pd.option_context('mode.use_inf_as_na', True):\n",
      "C:\\ProgramData\\anaconda3\\Lib\\site-packages\\seaborn\\_oldcore.py:1119: FutureWarning: use_inf_as_na option is deprecated and will be removed in a future version. Convert inf values to NaN before operating instead.\n",
      "  with pd.option_context('mode.use_inf_as_na', True):\n"
     ]
    },
    {
     "data": {
      "image/png": "[encoded data removed]",
      "text/plain": [
       "<Figure size 1000x600 with 1 Axes>"
      ]
     },
     "metadata": {},
     "output_type": "display_data"
    }
   ],
   "source": [
    "year_counts = movies_encoded['year'].replace(0, np.NaN)\n",
    "year_counts = year_counts.dropna()\n",
    "year_counts = year_counts.value_counts().reset_index()\n",
    "year_counts\n",
    "\n",
    "plt.figure(figsize=(10, 6))\n",
    "sns.lineplot(x='year', y='count', data=year_counts)\n",
    "plt.title('Number of movies done per year')\n",
    "plt.xlabel('Year')\n",
    "plt.ylabel('Count')\n",
    "plt.xticks(rotation=45)\n",
    "plt.tight_layout()\n",
    "plt.show();"
   ]
  },
  {
   "cell_type": "markdown",
   "id": "da3c1197-a418-4066-bf6a-508763ad3b01",
   "metadata": {},
   "source": [
    "------------------"
   ]
  },
  {
   "cell_type": "markdown",
   "id": "25ec8708-22a5-4853-b5df-28ec8660f45a",
   "metadata": {},
   "source": [
    "## Data Understanding for Ratings Dataset\n",
    "\n",
    "In this dataset we did the following data understanding:\n",
    "- 'Ratings' dataset contains 25.000.095 rows and 4 columns;\n",
    "- Columns are: 'userId' (int64), 'movieId' (int64), 'rating' (float64), 'timestanmp' (int64);\n",
    "- No duplicate values;\n",
    "- No null values;\n",
    "- No NA values;"
   ]
  },
  {
   "cell_type": "code",
   "execution_count": 24,
   "id": "7d9f4a55-a809-465f-b766-50e1c973c1f1",
   "metadata": {},
   "outputs": [
    {
     "data": {
      "text/html": [
       "<div>\n",
       "<style scoped>\n",
       "    .dataframe tbody tr th:only-of-type {\n",
       "        vertical-align: middle;\n",
       "    }\n",
       "\n",
       "    .dataframe tbody tr th {\n",
       "        vertical-align: top;\n",
       "    }\n",
       "\n",
       "    .dataframe thead th {\n",
       "        text-align: right;\n",
       "    }\n",
       "</style>\n",
       "<table border=\"1\" class=\"dataframe\">\n",
       "  <thead>\n",
       "    <tr style=\"text-align: right;\">\n",
       "      <th></th>\n",
       "      <th>userId</th>\n",
       "      <th>movieId</th>\n",
       "      <th>rating</th>\n",
       "      <th>timestamp</th>\n",
       "    </tr>\n",
       "  </thead>\n",
       "  <tbody>\n",
       "    <tr>\n",
       "      <th>0</th>\n",
       "      <td>1</td>\n",
       "      <td>296</td>\n",
       "      <td>5.0</td>\n",
       "      <td>1147880044</td>\n",
       "    </tr>\n",
       "    <tr>\n",
       "      <th>1</th>\n",
       "      <td>1</td>\n",
       "      <td>306</td>\n",
       "      <td>3.5</td>\n",
       "      <td>1147868817</td>\n",
       "    </tr>\n",
       "    <tr>\n",
       "      <th>2</th>\n",
       "      <td>1</td>\n",
       "      <td>307</td>\n",
       "      <td>5.0</td>\n",
       "      <td>1147868828</td>\n",
       "    </tr>\n",
       "    <tr>\n",
       "      <th>3</th>\n",
       "      <td>1</td>\n",
       "      <td>665</td>\n",
       "      <td>5.0</td>\n",
       "      <td>1147878820</td>\n",
       "    </tr>\n",
       "    <tr>\n",
       "      <th>4</th>\n",
       "      <td>1</td>\n",
       "      <td>899</td>\n",
       "      <td>3.5</td>\n",
       "      <td>1147868510</td>\n",
       "    </tr>\n",
       "  </tbody>\n",
       "</table>\n",
       "</div>"
      ],
      "text/plain": [
       "   userId  movieId  rating   timestamp\n",
       "0       1      296     5.0  1147880044\n",
       "1       1      306     3.5  1147868817\n",
       "2       1      307     5.0  1147868828\n",
       "3       1      665     5.0  1147878820\n",
       "4       1      899     3.5  1147868510"
      ]
     },
     "execution_count": 24,
     "metadata": {},
     "output_type": "execute_result"
    }
   ],
   "source": [
    "ratings.head()"
   ]
  },
  {
   "cell_type": "code",
   "execution_count": 25,
   "id": "0efbc163-e279-4237-b173-c6e9f29495e4",
   "metadata": {},
   "outputs": [
    {
     "data": {
      "text/plain": [
       "userId         int64\n",
       "movieId        int64\n",
       "rating       float64\n",
       "timestamp      int64\n",
       "dtype: object"
      ]
     },
     "execution_count": 25,
     "metadata": {},
     "output_type": "execute_result"
    }
   ],
   "source": [
    "ratings.dtypes"
   ]
  },
  {
   "cell_type": "code",
   "execution_count": 26,
   "id": "10c51994-004a-48ca-8310-0a61b91274ee",
   "metadata": {},
   "outputs": [
    {
     "data": {
      "text/plain": [
       "(25000095, 4)"
      ]
     },
     "execution_count": 26,
     "metadata": {},
     "output_type": "execute_result"
    }
   ],
   "source": [
    "ratings.shape"
   ]
  },
  {
   "cell_type": "code",
   "execution_count": 27,
   "id": "1ce93fbe-56a3-4286-8df1-a7b1f7fc1805",
   "metadata": {},
   "outputs": [
    {
     "data": {
      "text/plain": [
       "0"
      ]
     },
     "execution_count": 27,
     "metadata": {},
     "output_type": "execute_result"
    }
   ],
   "source": [
    "ratings.duplicated().sum()"
   ]
  },
  {
   "cell_type": "code",
   "execution_count": 28,
   "id": "87545654-e162-43e3-949c-f5df115450cf",
   "metadata": {},
   "outputs": [
    {
     "name": "stdout",
     "output_type": "stream",
     "text": [
      "<class 'pandas.core.frame.DataFrame'>\n",
      "RangeIndex: 25000095 entries, 0 to 25000094\n",
      "Data columns (total 4 columns):\n",
      " #   Column     Dtype  \n",
      "---  ------     -----  \n",
      " 0   userId     int64  \n",
      " 1   movieId    int64  \n",
      " 2   rating     float64\n",
      " 3   timestamp  int64  \n",
      "dtypes: float64(1), int64(3)\n",
      "memory usage: 762.9 MB\n"
     ]
    }
   ],
   "source": [
    "ratings.info()"
   ]
  },
  {
   "cell_type": "code",
   "execution_count": 29,
   "id": "3946a209-dc52-4b1b-81a7-606ebde02da7",
   "metadata": {},
   "outputs": [
    {
     "data": {
      "text/plain": [
       "userId       0\n",
       "movieId      0\n",
       "rating       0\n",
       "timestamp    0\n",
       "dtype: int64"
      ]
     },
     "execution_count": 29,
     "metadata": {},
     "output_type": "execute_result"
    }
   ],
   "source": [
    "ratings.isnull().sum()"
   ]
  },
  {
   "cell_type": "code",
   "execution_count": 30,
   "id": "492afb19-26a4-4d87-abde-2144802cb017",
   "metadata": {},
   "outputs": [
    {
     "data": {
      "text/plain": [
       "userId       0\n",
       "movieId      0\n",
       "rating       0\n",
       "timestamp    0\n",
       "dtype: int64"
      ]
     },
     "execution_count": 30,
     "metadata": {},
     "output_type": "execute_result"
    }
   ],
   "source": [
    "ratings.isna().sum()"
   ]
  },
  {
   "cell_type": "code",
   "execution_count": 31,
   "id": "46b3eee9-fc14-4289-bc32-8fd5e81eaf5b",
   "metadata": {},
   "outputs": [
    {
     "data": {
      "text/plain": [
       "array([[<Axes: title={'center': 'userId'}>,\n",
       "        <Axes: title={'center': 'movieId'}>],\n",
       "       [<Axes: title={'center': 'rating'}>,\n",
       "        <Axes: title={'center': 'timestamp'}>]], dtype=object)"
      ]
     },
     "execution_count": 31,
     "metadata": {},
     "output_type": "execute_result"
    },
    {
     "data": {
      "image/png": "[encoded data removed]",
      "text/plain": [
       "<Figure size 1000x1000 with 4 Axes>"
      ]
     },
     "metadata": {},
     "output_type": "display_data"
    }
   ],
   "source": [
    "ratings.hist(figsize = (10,10), color=\"#800080\")"
   ]
  },
  {
   "cell_type": "code",
   "execution_count": 32,
   "id": "a7f2d80f-1e56-4714-b59c-949646fef385",
   "metadata": {},
   "outputs": [
    {
     "data": {
      "image/png": "[encoded data removed]",
      "text/plain": [
       "<Figure size 500x300 with 2 Axes>"
      ]
     },
     "metadata": {},
     "output_type": "display_data"
    }
   ],
   "source": [
    "plt.figure(figsize=(5,3))\n",
    "sns.heatmap(ratings.corr(), annot=True, cmap='PiYG')\n",
    "plt.title(\"Feature Correlation Matrix\",fontsize=14)\n",
    "plt.show()"
   ]
  },
  {
   "cell_type": "markdown",
   "id": "d1efb1e7-257d-41e9-acf2-158e03b8d4a7",
   "metadata": {},
   "source": [
    "# Data preparation for Ratings\n",
    "\n",
    "Since there are no missing values or duplicates, we can go on excluding the 'timestamp' column (it is not necessary for what we need)."
   ]
  },
  {
   "cell_type": "code",
   "execution_count": 33,
   "id": "0c94d505-592c-439e-a483-6663a172df78",
   "metadata": {},
   "outputs": [],
   "source": [
    "ratings.drop(columns=\"timestamp\",inplace = True)"
   ]
  },
  {
   "cell_type": "markdown",
   "id": "b1ff3e1e-3eca-428f-a9b1-d27b2982613d",
   "metadata": {},
   "source": [
    "# Merging datasets and dropping genres column\n",
    "\n",
    "To move forward we will use one dataset only, so we need to merge Movies_Encoded and Ratings. We will name this Merged, as in a merged dataframe and exclude the genres column."
   ]
  },
  {
   "cell_type": "code",
   "execution_count": 34,
   "id": "02eac8d2-7c0a-4923-bf0f-a822e5274a20",
   "metadata": {},
   "outputs": [
    {
     "data": {
      "text/html": [
       "<div>\n",
       "<style scoped>\n",
       "    .dataframe tbody tr th:only-of-type {\n",
       "        vertical-align: middle;\n",
       "    }\n",
       "\n",
       "    .dataframe tbody tr th {\n",
       "        vertical-align: top;\n",
       "    }\n",
       "\n",
       "    .dataframe thead th {\n",
       "        text-align: right;\n",
       "    }\n",
       "</style>\n",
       "<table border=\"1\" class=\"dataframe\">\n",
       "  <thead>\n",
       "    <tr style=\"text-align: right;\">\n",
       "      <th></th>\n",
       "      <th>userId</th>\n",
       "      <th>movieId</th>\n",
       "      <th>rating</th>\n",
       "      <th>title</th>\n",
       "      <th>year</th>\n",
       "      <th>genre_count</th>\n",
       "      <th>Action</th>\n",
       "      <th>Adventure</th>\n",
       "      <th>Animation</th>\n",
       "      <th>Children</th>\n",
       "      <th>...</th>\n",
       "      <th>Film-Noir</th>\n",
       "      <th>Horror</th>\n",
       "      <th>IMAX</th>\n",
       "      <th>Musical</th>\n",
       "      <th>Mystery</th>\n",
       "      <th>Romance</th>\n",
       "      <th>Sci-Fi</th>\n",
       "      <th>Thriller</th>\n",
       "      <th>War</th>\n",
       "      <th>Western</th>\n",
       "    </tr>\n",
       "  </thead>\n",
       "  <tbody>\n",
       "    <tr>\n",
       "      <th>0</th>\n",
       "      <td>1</td>\n",
       "      <td>296</td>\n",
       "      <td>5.0</td>\n",
       "      <td>Pulp Fiction (1994)</td>\n",
       "      <td>1994</td>\n",
       "      <td>4</td>\n",
       "      <td>0</td>\n",
       "      <td>0</td>\n",
       "      <td>0</td>\n",
       "      <td>0</td>\n",
       "      <td>...</td>\n",
       "      <td>0</td>\n",
       "      <td>0</td>\n",
       "      <td>0</td>\n",
       "      <td>0</td>\n",
       "      <td>0</td>\n",
       "      <td>0</td>\n",
       "      <td>0</td>\n",
       "      <td>1</td>\n",
       "      <td>0</td>\n",
       "      <td>0</td>\n",
       "    </tr>\n",
       "    <tr>\n",
       "      <th>1</th>\n",
       "      <td>3</td>\n",
       "      <td>296</td>\n",
       "      <td>5.0</td>\n",
       "      <td>Pulp Fiction (1994)</td>\n",
       "      <td>1994</td>\n",
       "      <td>4</td>\n",
       "      <td>0</td>\n",
       "      <td>0</td>\n",
       "      <td>0</td>\n",
       "      <td>0</td>\n",
       "      <td>...</td>\n",
       "      <td>0</td>\n",
       "      <td>0</td>\n",
       "      <td>0</td>\n",
       "      <td>0</td>\n",
       "      <td>0</td>\n",
       "      <td>0</td>\n",
       "      <td>0</td>\n",
       "      <td>1</td>\n",
       "      <td>0</td>\n",
       "      <td>0</td>\n",
       "    </tr>\n",
       "    <tr>\n",
       "      <th>2</th>\n",
       "      <td>4</td>\n",
       "      <td>296</td>\n",
       "      <td>4.0</td>\n",
       "      <td>Pulp Fiction (1994)</td>\n",
       "      <td>1994</td>\n",
       "      <td>4</td>\n",
       "      <td>0</td>\n",
       "      <td>0</td>\n",
       "      <td>0</td>\n",
       "      <td>0</td>\n",
       "      <td>...</td>\n",
       "      <td>0</td>\n",
       "      <td>0</td>\n",
       "      <td>0</td>\n",
       "      <td>0</td>\n",
       "      <td>0</td>\n",
       "      <td>0</td>\n",
       "      <td>0</td>\n",
       "      <td>1</td>\n",
       "      <td>0</td>\n",
       "      <td>0</td>\n",
       "    </tr>\n",
       "    <tr>\n",
       "      <th>3</th>\n",
       "      <td>5</td>\n",
       "      <td>296</td>\n",
       "      <td>4.0</td>\n",
       "      <td>Pulp Fiction (1994)</td>\n",
       "      <td>1994</td>\n",
       "      <td>4</td>\n",
       "      <td>0</td>\n",
       "      <td>0</td>\n",
       "      <td>0</td>\n",
       "      <td>0</td>\n",
       "      <td>...</td>\n",
       "      <td>0</td>\n",
       "      <td>0</td>\n",
       "      <td>0</td>\n",
       "      <td>0</td>\n",
       "      <td>0</td>\n",
       "      <td>0</td>\n",
       "      <td>0</td>\n",
       "      <td>1</td>\n",
       "      <td>0</td>\n",
       "      <td>0</td>\n",
       "    </tr>\n",
       "    <tr>\n",
       "      <th>4</th>\n",
       "      <td>7</td>\n",
       "      <td>296</td>\n",
       "      <td>4.0</td>\n",
       "      <td>Pulp Fiction (1994)</td>\n",
       "      <td>1994</td>\n",
       "      <td>4</td>\n",
       "      <td>0</td>\n",
       "      <td>0</td>\n",
       "      <td>0</td>\n",
       "      <td>0</td>\n",
       "      <td>...</td>\n",
       "      <td>0</td>\n",
       "      <td>0</td>\n",
       "      <td>0</td>\n",
       "      <td>0</td>\n",
       "      <td>0</td>\n",
       "      <td>0</td>\n",
       "      <td>0</td>\n",
       "      <td>1</td>\n",
       "      <td>0</td>\n",
       "      <td>0</td>\n",
       "    </tr>\n",
       "  </tbody>\n",
       "</table>\n",
       "<p>5 rows × 25 columns</p>\n",
       "</div>"
      ],
      "text/plain": [
       "   userId  movieId  rating                title  year  genre_count  Action  \\\n",
       "0       1      296     5.0  Pulp Fiction (1994)  1994            4       0   \n",
       "1       3      296     5.0  Pulp Fiction (1994)  1994            4       0   \n",
       "2       4      296     4.0  Pulp Fiction (1994)  1994            4       0   \n",
       "3       5      296     4.0  Pulp Fiction (1994)  1994            4       0   \n",
       "4       7      296     4.0  Pulp Fiction (1994)  1994            4       0   \n",
       "\n",
       "   Adventure  Animation  Children  ...  Film-Noir  Horror  IMAX  Musical  \\\n",
       "0          0          0         0  ...          0       0     0        0   \n",
       "1          0          0         0  ...          0       0     0        0   \n",
       "2          0          0         0  ...          0       0     0        0   \n",
       "3          0          0         0  ...          0       0     0        0   \n",
       "4          0          0         0  ...          0       0     0        0   \n",
       "\n",
       "   Mystery  Romance  Sci-Fi  Thriller  War  Western  \n",
       "0        0        0       0         1    0        0  \n",
       "1        0        0       0         1    0        0  \n",
       "2        0        0       0         1    0        0  \n",
       "3        0        0       0         1    0        0  \n",
       "4        0        0       0         1    0        0  \n",
       "\n",
       "[5 rows x 25 columns]"
      ]
     },
     "execution_count": 34,
     "metadata": {},
     "output_type": "execute_result"
    }
   ],
   "source": [
    "# Merging movies_encoded and ratings dataframes \n",
    "merged = ratings.merge(movies_encoded,on=\"movieId\")\n",
    "\n",
    "# Dropping genres because we will not need it further\n",
    "merged.drop(columns=\"genres\",inplace = True)\n",
    "\n",
    "# display dataset\n",
    "merged.head()"
   ]
  },
  {
   "cell_type": "code",
   "execution_count": 35,
   "id": "9a24c521-ba52-436f-8b2a-c1ce392cba83",
   "metadata": {},
   "outputs": [
    {
     "data": {
      "text/plain": [
       "(25000095, 25)"
      ]
     },
     "execution_count": 35,
     "metadata": {},
     "output_type": "execute_result"
    }
   ],
   "source": [
    "merged.shape"
   ]
  },
  {
   "cell_type": "code",
   "execution_count": 36,
   "id": "6eb28a50-611f-4eab-89f9-202be5ce49f7",
   "metadata": {},
   "outputs": [
    {
     "data": {
      "text/plain": [
       "userId         0\n",
       "movieId        0\n",
       "rating         0\n",
       "title          0\n",
       "year           0\n",
       "genre_count    0\n",
       "Action         0\n",
       "Adventure      0\n",
       "Animation      0\n",
       "Children       0\n",
       "Comedy         0\n",
       "Crime          0\n",
       "Documentary    0\n",
       "Drama          0\n",
       "Fantasy        0\n",
       "Film-Noir      0\n",
       "Horror         0\n",
       "IMAX           0\n",
       "Musical        0\n",
       "Mystery        0\n",
       "Romance        0\n",
       "Sci-Fi         0\n",
       "Thriller       0\n",
       "War            0\n",
       "Western        0\n",
       "dtype: int64"
      ]
     },
     "execution_count": 36,
     "metadata": {},
     "output_type": "execute_result"
    }
   ],
   "source": [
    "merged.isnull().sum()"
   ]
  },
  {
   "cell_type": "code",
   "execution_count": 37,
   "id": "5641233c-148a-4f99-b495-cd710b79964b",
   "metadata": {},
   "outputs": [
    {
     "data": {
      "text/plain": [
       "userId         0\n",
       "movieId        0\n",
       "rating         0\n",
       "title          0\n",
       "year           0\n",
       "genre_count    0\n",
       "Action         0\n",
       "Adventure      0\n",
       "Animation      0\n",
       "Children       0\n",
       "Comedy         0\n",
       "Crime          0\n",
       "Documentary    0\n",
       "Drama          0\n",
       "Fantasy        0\n",
       "Film-Noir      0\n",
       "Horror         0\n",
       "IMAX           0\n",
       "Musical        0\n",
       "Mystery        0\n",
       "Romance        0\n",
       "Sci-Fi         0\n",
       "Thriller       0\n",
       "War            0\n",
       "Western        0\n",
       "dtype: int64"
      ]
     },
     "execution_count": 37,
     "metadata": {},
     "output_type": "execute_result"
    }
   ],
   "source": [
    "merged.isna().sum()"
   ]
  },
  {
   "cell_type": "code",
   "execution_count": 38,
   "id": "6159c7d7-1e2d-4134-964a-fef68e4214fe",
   "metadata": {},
   "outputs": [
    {
     "data": {
      "text/plain": [
       "0"
      ]
     },
     "execution_count": 38,
     "metadata": {},
     "output_type": "execute_result"
    }
   ],
   "source": [
    "merged.duplicated().sum()"
   ]
  },
  {
   "cell_type": "markdown",
   "id": "df0b4b0f-4877-415c-9ea3-2236e53941db",
   "metadata": {},
   "source": [
    "# Data preparation for Modelling\n",
    "\n",
    "For the data preparation for modelling we need to do some actions to make data proper for model usage. We did this data prep:\n",
    "\n",
    "- Sampled the data: we took a sample of 100 thousand rows from the merged dataset.\n",
    "- Encoded rating values: because the values were float, we encoded the numbers to be integers, not going from 0.5-5, but instead, 1-10.\n",
    "- Selected columns for independent variable X: columns \"rating\" and \"title\" were removed.\n",
    "- Declared X and Y: We declared the dependent (y) and independent variables (X).\n",
    "- Split the data: we split the data into testing and training, with test sizing being 30%.\n",
    "- Scaled data: we scaled the train and test data with the StandardScaler()."
   ]
  },
  {
   "cell_type": "code",
   "execution_count": 39,
   "id": "eae9b489-6b4d-4ea5-9f83-8b6ff3ccf6f4",
   "metadata": {},
   "outputs": [],
   "source": [
    "# take sample of 100k records from merged dataset\n",
    "merged_sample = merged.sample(100000)"
   ]
  },
  {
   "cell_type": "code",
   "execution_count": 40,
   "id": "693ee78b-15b6-4edb-8ca4-193d70602e33",
   "metadata": {},
   "outputs": [],
   "source": [
    "# rating is a float number, to pass it to model, we need integer value\n",
    "encoder = {\n",
    "          0.5: 1,\n",
    "          1 : 2,\n",
    "          1.5: 3,\n",
    "          2:4,\n",
    "          2.5 : 5,\n",
    "          3:6,\n",
    "          3.5:7,\n",
    "          4:8,\n",
    "          4.5:9,\n",
    "          5:10\n",
    "           }\n",
    "merged_sample[\"rating\"] = merged_sample[\"rating\"].map(encoder)"
   ]
  },
  {
   "cell_type": "code",
   "execution_count": 41,
   "id": "34d77cdc-7c55-4d7a-a5c0-bd3c05f33b26",
   "metadata": {},
   "outputs": [
    {
     "data": {
      "text/plain": [
       "['userId',\n",
       " 'movieId',\n",
       " 'year',\n",
       " 'genre_count',\n",
       " 'Action',\n",
       " 'Adventure',\n",
       " 'Animation',\n",
       " 'Children',\n",
       " 'Comedy',\n",
       " 'Crime',\n",
       " 'Documentary',\n",
       " 'Drama',\n",
       " 'Fantasy',\n",
       " 'Film-Noir',\n",
       " 'Horror',\n",
       " 'IMAX',\n",
       " 'Musical',\n",
       " 'Mystery',\n",
       " 'Romance',\n",
       " 'Sci-Fi',\n",
       " 'Thriller',\n",
       " 'War',\n",
       " 'Western']"
      ]
     },
     "execution_count": 41,
     "metadata": {},
     "output_type": "execute_result"
    }
   ],
   "source": [
    "# select predictor columns\n",
    "columns_X = merged_sample.columns.to_list()\n",
    "columns_X.remove(\"rating\")\n",
    "columns_X.remove(\"title\")\n",
    "columns_X  "
   ]
  },
  {
   "cell_type": "code",
   "execution_count": 42,
   "id": "0ac0cf19-3226-4aed-9338-4e235f882a35",
   "metadata": {},
   "outputs": [],
   "source": [
    "# declare X and y values \n",
    "X = merged_sample[columns_X]\n",
    "y = merged_sample[\"rating\"]"
   ]
  },
  {
   "cell_type": "code",
   "execution_count": 43,
   "id": "38fb3e18-a773-488f-aa0c-32f141fa7faa",
   "metadata": {},
   "outputs": [],
   "source": [
    "# split data into training and testing set\n",
    "X_train, X_test, y_train, y_test = train_test_split(X,y , \n",
    "                                   random_state=104,  \n",
    "                                   test_size=0.3,  \n",
    "                                   shuffle=True) "
   ]
  },
  {
   "cell_type": "code",
   "execution_count": 44,
   "id": "39f6d9fc-29a0-4e08-861d-f0652c742d81",
   "metadata": {},
   "outputs": [],
   "source": [
    "# scale training ans testing set \n",
    "scaler = StandardScaler()  \n",
    "scaler.fit(X_train)  \n",
    "X_train_scaled = scaler.transform(X_train)  \n",
    "X_test_scaled = scaler.transform(X_test) "
   ]
  },
  {
   "cell_type": "markdown",
   "id": "e05bd1f8-f931-4b0c-ba5a-db69c16f5f9f",
   "metadata": {},
   "source": [
    "# Models Cross Validation\n",
    "\n",
    "Here we will perform Stratified K-Fold Cross Validation to see which model performs the best. This allows us to measure and compare how accurate each model is and make it onto a graph to show the compared performance."
   ]
  },
  {
   "cell_type": "code",
   "execution_count": 45,
   "id": "d653a5ef-d43d-46da-9e07-29148f1f1e1f",
   "metadata": {},
   "outputs": [],
   "source": [
    "# select few algorithms for comparison \n",
    "models = []\n",
    "models.append(('LDA', LinearDiscriminantAnalysis()))\n",
    "models.append(('DT', DecisionTreeRegressor()))\n",
    "models.append((\"RF\", RandomForestClassifier()))\n",
    "models.append(('NB', GaussianNB()))"
   ]
  },
  {
   "cell_type": "code",
   "execution_count": 46,
   "id": "22ade292-1264-4df3-9bd2-a80bfcc0f0ef",
   "metadata": {},
   "outputs": [
    {
     "name": "stdout",
     "output_type": "stream",
     "text": [
      "LDA: 2.278609 (0.006526)\n",
      "DT: 2.800020 (0.014165)\n",
      "RF: 2.705734 (0.015250)\n",
      "NB: 2.311614 (0.003478)\n"
     ]
    }
   ],
   "source": [
    "results = []\n",
    "names = []\n",
    "for name, model in models:\n",
    "  kfold = StratifiedKFold(n_splits=5, random_state=104, shuffle=True)\n",
    "  cv_results = cross_val_score(model, X_train, y_train, cv=kfold, scoring='neg_root_mean_squared_error')\n",
    "  results.append(cv_results)\n",
    "  names.append(name)\n",
    "  print('%s: %f (%f)' % (name, (cv_results.mean() * -1), cv_results.std())) "
   ]
  },
  {
   "cell_type": "markdown",
   "id": "9e871e98-d3be-4d15-9308-507a6d740941",
   "metadata": {},
   "source": [
    "## Comparison Box Plot\n",
    "\n",
    "Performance comparison for all models."
   ]
  },
  {
   "cell_type": "code",
   "execution_count": 47,
   "id": "8f74f6ba-e290-49a7-80c1-71551c70f9f5",
   "metadata": {},
   "outputs": [
    {
     "data": {
      "image/png": "[encoded data removed]",
      "text/plain": [
       "<Figure size 640x480 with 1 Axes>"
      ]
     },
     "metadata": {},
     "output_type": "display_data"
    }
   ],
   "source": [
    "pyplot.boxplot(results, labels=names)\n",
    "pyplot.title('Algorithm Comparison')\n",
    "pyplot.show() "
   ]
  },
  {
   "cell_type": "code",
   "execution_count": 48,
   "id": "d031119b-1c92-46f0-9514-de697ebcb130",
   "metadata": {},
   "outputs": [],
   "source": [
    "# free up memory \n",
    "models = None"
   ]
  },
  {
   "cell_type": "markdown",
   "id": "b8977bfb-e657-4370-901c-e485df1f2f93",
   "metadata": {},
   "source": [
    "### Model Optimization\n",
    "\n",
    "To optimise, we can use Grid Search, that is a technique to tune hyperparameters of a ML model."
   ]
  },
  {
   "cell_type": "code",
   "execution_count": 49,
   "id": "42dcafbb-0e75-415b-b52e-5bf50bf5c57c",
   "metadata": {},
   "outputs": [
    {
     "data": {
      "text/html": [
       "<style>#sk-container-id-1 {color: black;background-color: white;}#sk-container-id-1 pre{padding: 0;}#sk-container-id-1 div.sk-toggleable {background-color: white;}#sk-container-id-1 label.sk-toggleable__label {cursor: pointer;display: block;width: 100%;margin-bottom: 0;padding: 0.3em;box-sizing: border-box;text-align: center;}#sk-container-id-1 label.sk-toggleable__label-arrow:before {content: \"▸\";float: left;margin-right: 0.25em;color: #696969;}#sk-container-id-1 label.sk-toggleable__label-arrow:hover:before {color: black;}#sk-container-id-1 div.sk-estimator:hover label.sk-toggleable__label-arrow:before {color: black;}#sk-container-id-1 div.sk-toggleable__content {max-height: 0;max-width: 0;overflow: hidden;text-align: left;background-color: #f0f8ff;}#sk-container-id-1 div.sk-toggleable__content pre {margin: 0.2em;color: black;border-radius: 0.25em;background-color: #f0f8ff;}#sk-container-id-1 input.sk-toggleable__control:checked~div.sk-toggleable__content {max-height: 200px;max-width: 100%;overflow: auto;}#sk-container-id-1 input.sk-toggleable__control:checked~label.sk-toggleable__label-arrow:before {content: \"▾\";}#sk-container-id-1 div.sk-estimator input.sk-toggleable__control:checked~label.sk-toggleable__label {background-color: #d4ebff;}#sk-container-id-1 div.sk-label input.sk-toggleable__control:checked~label.sk-toggleable__label {background-color: #d4ebff;}#sk-container-id-1 input.sk-hidden--visually {border: 0;clip: rect(1px 1px 1px 1px);clip: rect(1px, 1px, 1px, 1px);height: 1px;margin: -1px;overflow: hidden;padding: 0;position: absolute;width: 1px;}#sk-container-id-1 div.sk-estimator {font-family: monospace;background-color: #f0f8ff;border: 1px dotted black;border-radius: 0.25em;box-sizing: border-box;margin-bottom: 0.5em;}#sk-container-id-1 div.sk-estimator:hover {background-color: #d4ebff;}#sk-container-id-1 div.sk-parallel-item::after {content: \"\";width: 100%;border-bottom: 1px solid gray;flex-grow: 1;}#sk-container-id-1 div.sk-label:hover label.sk-toggleable__label {background-color: #d4ebff;}#sk-container-id-1 div.sk-serial::before {content: \"\";position: absolute;border-left: 1px solid gray;box-sizing: border-box;top: 0;bottom: 0;left: 50%;z-index: 0;}#sk-container-id-1 div.sk-serial {display: flex;flex-direction: column;align-items: center;background-color: white;padding-right: 0.2em;padding-left: 0.2em;position: relative;}#sk-container-id-1 div.sk-item {position: relative;z-index: 1;}#sk-container-id-1 div.sk-parallel {display: flex;align-items: stretch;justify-content: center;background-color: white;position: relative;}#sk-container-id-1 div.sk-item::before, #sk-container-id-1 div.sk-parallel-item::before {content: \"\";position: absolute;border-left: 1px solid gray;box-sizing: border-box;top: 0;bottom: 0;left: 50%;z-index: -1;}#sk-container-id-1 div.sk-parallel-item {display: flex;flex-direction: column;z-index: 1;position: relative;background-color: white;}#sk-container-id-1 div.sk-parallel-item:first-child::after {align-self: flex-end;width: 50%;}#sk-container-id-1 div.sk-parallel-item:last-child::after {align-self: flex-start;width: 50%;}#sk-container-id-1 div.sk-parallel-item:only-child::after {width: 0;}#sk-container-id-1 div.sk-dashed-wrapped {border: 1px dashed gray;margin: 0 0.4em 0.5em 0.4em;box-sizing: border-box;padding-bottom: 0.4em;background-color: white;}#sk-container-id-1 div.sk-label label {font-family: monospace;font-weight: bold;display: inline-block;line-height: 1.2em;}#sk-container-id-1 div.sk-label-container {text-align: center;}#sk-container-id-1 div.sk-container {/* jupyter's `normalize.less` sets `[hidden] { display: none; }` but bootstrap.min.css set `[hidden] { display: none !important; }` so we also need the `!important` here to be able to override the default hidden behavior on the sphinx rendered scikit-learn.org. See: https://github.com/scikit-learn/scikit-learn/issues/21755 */display: inline-block !important;position: relative;}#sk-container-id-1 div.sk-text-repr-fallback {display: none;}</style><div id=\"sk-container-id-1\" class=\"sk-top-container\"><div class=\"sk-text-repr-fallback\"><pre>GridSearchCV(cv=3, estimator=LinearDiscriminantAnalysis(), n_jobs=-1,\n",
       "             param_grid={&#x27;n_components&#x27;: [None, 1, 2, 3],\n",
       "                         &#x27;store_covariance&#x27;: [True, False],\n",
       "                         &#x27;tol&#x27;: [0.0001, 0.001, 0.01]})</pre><b>In a Jupyter environment, please rerun this cell to show the HTML representation or trust the notebook. <br />On GitHub, the HTML representation is unable to render, please try loading this page with nbviewer.org.</b></div><div class=\"sk-container\" hidden><div class=\"sk-item sk-dashed-wrapped\"><div class=\"sk-label-container\"><div class=\"sk-label sk-toggleable\"><input class=\"sk-toggleable__control sk-hidden--visually\" id=\"sk-estimator-id-1\" type=\"checkbox\" ><label for=\"sk-estimator-id-1\" class=\"sk-toggleable__label sk-toggleable__label-arrow\">GridSearchCV</label><div class=\"sk-toggleable__content\"><pre>GridSearchCV(cv=3, estimator=LinearDiscriminantAnalysis(), n_jobs=-1,\n",
       "             param_grid={&#x27;n_components&#x27;: [None, 1, 2, 3],\n",
       "                         &#x27;store_covariance&#x27;: [True, False],\n",
       "                         &#x27;tol&#x27;: [0.0001, 0.001, 0.01]})</pre></div></div></div><div class=\"sk-parallel\"><div class=\"sk-parallel-item\"><div class=\"sk-item\"><div class=\"sk-label-container\"><div class=\"sk-label sk-toggleable\"><input class=\"sk-toggleable__control sk-hidden--visually\" id=\"sk-estimator-id-2\" type=\"checkbox\" ><label for=\"sk-estimator-id-2\" class=\"sk-toggleable__label sk-toggleable__label-arrow\">estimator: LinearDiscriminantAnalysis</label><div class=\"sk-toggleable__content\"><pre>LinearDiscriminantAnalysis()</pre></div></div></div><div class=\"sk-serial\"><div class=\"sk-item\"><div class=\"sk-estimator sk-toggleable\"><input class=\"sk-toggleable__control sk-hidden--visually\" id=\"sk-estimator-id-3\" type=\"checkbox\" ><label for=\"sk-estimator-id-3\" class=\"sk-toggleable__label sk-toggleable__label-arrow\">LinearDiscriminantAnalysis</label><div class=\"sk-toggleable__content\"><pre>LinearDiscriminantAnalysis()</pre></div></div></div></div></div></div></div></div></div></div>"
      ],
      "text/plain": [
       "GridSearchCV(cv=3, estimator=LinearDiscriminantAnalysis(), n_jobs=-1,\n",
       "             param_grid={'n_components': [None, 1, 2, 3],\n",
       "                         'store_covariance': [True, False],\n",
       "                         'tol': [0.0001, 0.001, 0.01]})"
      ]
     },
     "execution_count": 49,
     "metadata": {},
     "output_type": "execute_result"
    }
   ],
   "source": [
    "# We can see that LDA performed the best, we can now try to optimise it with grid search\n",
    "parameters = {\n",
    "    'n_components': [None, 1, 2, 3],\n",
    "    'tol': [1e-4, 1e-3, 1e-2],\n",
    "    'store_covariance': [True, False],\n",
    "}\n",
    "\n",
    "# Here we initialize LDA\n",
    "lda = LinearDiscriminantAnalysis()\n",
    "\n",
    "# And perform grid search\n",
    "grid_search = GridSearchCV(lda, parameters, cv=3, n_jobs=-1)\n",
    "grid_search.fit(X_train, y_train)"
   ]
  },
  {
   "cell_type": "markdown",
   "id": "035ff72b-6ab3-40df-a4e8-3efcc8f9d6bc",
   "metadata": {},
   "source": [
    "At this point, we have chosen and optimised one of models available in sklearn package. In the next part, we will compare it to algorithm obtained from the Suprise package, which was influenced by SVD algorithm."
   ]
  },
  {
   "cell_type": "markdown",
   "id": "71693670-e8ec-4c7f-a9a8-09f8395b2ff2",
   "metadata": {},
   "source": [
    "# SVD Algorithm\n",
    "\n",
    "SVD, or Singular Value Decomposition, is a dimensionality reduction algorithm, similar to PCA, which aims to obtain a single value from the user item matrix. This algorithm will enable us to calculate user and item biases and calculate general error for each. Then, it adjusts scores and biases, finally merging them together. When making a prediction, estimated score is calculated by adjusting obtained item and user biases.\n",
    "\n",
    "This is the source code by Nicolas Hug (Hug, 2015a)."
   ]
  },
  {
   "cell_type": "code",
   "execution_count": 50,
   "id": "253751c4-98f9-4e7d-9f8d-f44d3019b97e",
   "metadata": {},
   "outputs": [],
   "source": [
    "class SVD():\n",
    "\n",
    "    def __init__(self, n_factors=100, n_epochs=20, biased=True, init_mean=0,\n",
    "                 init_std_dev=.1, lr_all=.005,\n",
    "                 reg_all=.02, lr_bu=None, lr_bi=None, lr_pu=None, lr_qi=None,\n",
    "                 reg_bu=None, reg_bi=None, reg_pu=None, reg_qi=None,\n",
    "                 random_state=None, verbose=False):\n",
    "\n",
    "        self.n_factors = n_factors\n",
    "        self.n_epochs = n_epochs\n",
    "        self.biased = biased\n",
    "        self.init_mean = init_mean\n",
    "        self.init_std_dev = init_std_dev\n",
    "        self.lr_bu = lr_bu if lr_bu is not None else lr_all\n",
    "        self.lr_bi = lr_bi if lr_bi is not None else lr_all\n",
    "        self.lr_pu = lr_pu if lr_pu is not None else lr_all\n",
    "        self.lr_qi = lr_qi if lr_qi is not None else lr_all\n",
    "        self.reg_bu = reg_bu if reg_bu is not None else reg_all\n",
    "        self.reg_bi = reg_bi if reg_bi is not None else reg_all\n",
    "        self.reg_pu = reg_pu if reg_pu is not None else reg_all\n",
    "        self.reg_qi = reg_qi if reg_qi is not None else reg_all\n",
    "        self.random_state = random_state\n",
    "        self.verbose = verbose\n",
    "\n",
    "\n",
    "    def fit(self, X, y):\n",
    "      \n",
    "        data = X.join(y)\n",
    "        self.n_users = data[\"userId\"].unique().max() + 1\n",
    "        self.n_items = data[\"movieId\"].unique().max() + 1\n",
    "        self.global_mean = y.mean()\n",
    "        self.dataset = data\n",
    "        self.train_data = data.to_numpy()\n",
    "\n",
    "        self.sgd(data)\n",
    "\n",
    "        return self\n",
    "\n",
    "    def sgd(self, data):\n",
    "      \n",
    "        rng =  np.random.RandomState()\n",
    "\n",
    "        # user biases\n",
    "        bu = np.zeros(self.n_users, dtype=np.double)\n",
    "        # item biases\n",
    "        bi = np.zeros(self.n_items, dtype=np.double)\n",
    "        # user factors\n",
    "        pu = rng.normal(self.init_mean, self.init_std_dev, size=(self.n_users, self.n_factors))\n",
    "        # item factors\n",
    "        qi = rng.normal(self.init_mean, self.init_std_dev, size=(self.n_items, self.n_factors))\n",
    "\n",
    "        # u, i, f\n",
    "        n_factors = self.n_factors\n",
    "        biased = self.biased\n",
    "\n",
    "        # r, err, dot, puf, qif\n",
    "        global_mean = self.global_mean\n",
    "\n",
    "        lr_bu = self.lr_bu\n",
    "        lr_bi = self.lr_bi\n",
    "        lr_pu = self.lr_pu\n",
    "        lr_qi = self.lr_qi\n",
    "\n",
    "        reg_bu = self.reg_bu\n",
    "        reg_bi = self.reg_bi\n",
    "        reg_pu = self.reg_pu\n",
    "        reg_qi = self.reg_qi\n",
    "\n",
    "        if not biased:\n",
    "            global_mean = 0\n",
    "\n",
    "        for current_epoch in range(self.n_epochs):\n",
    "            if self.verbose:\n",
    "                print(\"Processing epoch {}\".format(current_epoch))\n",
    "\n",
    "            for  u, i, r in self.train_data:\n",
    "                # compute current error\n",
    "                u = int(u)\n",
    "                i = int(i)\n",
    "                r = int(r)\n",
    "                dot = 0  # <q_i, p_u>\n",
    "                for f in range(n_factors):\n",
    "                    dot += qi[i, f] * pu[u, f]\n",
    "                err = r - (global_mean + bu[u] + bi[i] + dot)\n",
    "\n",
    "                # update biases\n",
    "                if biased:\n",
    "                    bu[u] += lr_bu * (err - reg_bu * bu[u])\n",
    "                    bi[i] += lr_bi * (err - reg_bi * bi[i])\n",
    "\n",
    "                # update factors\n",
    "                for f in range(n_factors):\n",
    "                    puf = pu[u, f]\n",
    "                    qif = qi[i, f]\n",
    "                    pu[u, f] += lr_pu * (err * qif - reg_pu * puf)\n",
    "                    qi[i, f] += lr_qi * (err * puf - reg_qi * qif)\n",
    "\n",
    "        self.bu = np.asarray(bu)\n",
    "        self.bi = np.asarray(bi)\n",
    "        self.pu = np.asarray(pu)\n",
    "        self.qi = np.asarray(qi)\n",
    "    \n",
    "    def predict(self,X):\n",
    "      \n",
    "        y= []\n",
    "        X = X.to_numpy()\n",
    "        for u, i in X:\n",
    "            y.append(self.estimate(u,i))\n",
    "        return y\n",
    "\n",
    "        \n",
    "\n",
    "    def estimate(self, u, i):\n",
    "\n",
    "        # known_user = u in self.dataset[\"userId\"].values\n",
    "        # known_item = i in self.dataset[\"movieId\"].values\n",
    "        known_user = False\n",
    "        known_item = False\n",
    "        try: \n",
    "            known_user = self.bu[u] != None\n",
    "        except: \n",
    "            pass\n",
    "        try:\n",
    "            known_item = self.bi[i] != None\n",
    "        except:\n",
    "            pass\n",
    "        \n",
    "        if self.biased:\n",
    "            est = self.global_mean\n",
    "\n",
    "            if known_user:\n",
    "                est += self.bu[u]\n",
    "\n",
    "            if known_item:\n",
    "                est += self.bi[i]\n",
    "\n",
    "            if known_user and known_item:\n",
    "                est += np.dot(self.qi[i], self.pu[u])\n",
    "\n",
    "        else:\n",
    "            if known_user and known_item:\n",
    "                est = np.dot(self.qi[i], self.pu[u])\n",
    "            else:\n",
    "                raise KeyError('User and item are unknown.')\n",
    "\n",
    "        return est"
   ]
  },
  {
   "cell_type": "markdown",
   "id": "a7e2dea4-c42f-4a1b-b39f-3a878d76c065",
   "metadata": {},
   "source": [
    "# Test and Validation\n",
    "\n",
    "For Test and Validation we:\n",
    "- Defined sample sizes;\n",
    "- Saved the Results onto a text file;\n",
    "- Prepped the data to fit into the model (split, train, test);\n",
    "- Compared the results of LDA and SVD;"
   ]
  },
  {
   "cell_type": "code",
   "execution_count": 51,
   "id": "99305618-4dd2-4f27-b089-b594d5fa9acd",
   "metadata": {},
   "outputs": [],
   "source": [
    "# defining number of users for test comparison between custom svd and from sklearn\n",
    "sample_size = [10000, 15000, 30000, 45000, 60000]"
   ]
  },
  {
   "cell_type": "code",
   "execution_count": 52,
   "id": "e9c9c416-263e-45ce-a935-758ab13f23ca",
   "metadata": {},
   "outputs": [],
   "source": [
    "# results\n",
    "algo_sklearn_rmse = []\n",
    "algo_svd_rmse = []"
   ]
  },
  {
   "cell_type": "code",
   "execution_count": 53,
   "id": "7081a896-ef80-4286-80fb-19fd3d07bb07",
   "metadata": {},
   "outputs": [
    {
     "data": {
      "text/plain": [
       "[2.24966664197165,\n",
       " 2.27249251312787,\n",
       " 2.2317158321693995,\n",
       " 2.2518798731200036,\n",
       " 2.2650729691459293]"
      ]
     },
     "execution_count": 53,
     "metadata": {},
     "output_type": "execute_result"
    }
   ],
   "source": [
    "# try and see if sklearn-algo test results are available \n",
    "try: \n",
    "  with open('../results/algo_sklearn_rmse.txt', 'r') as file:\n",
    "    results = file.readline()\n",
    "    algo_sklearn_rmse = json.loads(results)\n",
    "except:\n",
    "  pass\n",
    "\n",
    "algo_sklearn_rmse"
   ]
  },
  {
   "cell_type": "code",
   "execution_count": 54,
   "id": "43159b98-1eef-41c1-a36c-5d6a0d185ac4",
   "metadata": {},
   "outputs": [
    {
     "data": {
      "text/plain": [
       "[2.0453749807679205,\n",
       " 2.043687099228734,\n",
       " 2.0007675075943823,\n",
       " 1.9893037876871429,\n",
       " 1.978542705433406]"
      ]
     },
     "execution_count": 54,
     "metadata": {},
     "output_type": "execute_result"
    }
   ],
   "source": [
    "# try and see if svd-algo test results are available \n",
    "try: \n",
    "  with open('../results/algo_svd_rmse.txt', 'r') as file:\n",
    "    results = file.readline()\n",
    "    algo_svd_rmse = json.loads(results)\n",
    "except:\n",
    "  pass\n",
    "\n",
    "algo_svd_rmse"
   ]
  },
  {
   "cell_type": "markdown",
   "id": "eff4690a-738d-49d3-984e-01ff895b31b0",
   "metadata": {},
   "source": [
    "### Data Preparation to fit the model\n",
    "\n",
    "Here we:\n",
    "- Chose the test size to be 30% and training 70%.\n",
    "- Obtained results for both LDA and SVD algorithms."
   ]
  },
  {
   "cell_type": "code",
   "execution_count": 55,
   "id": "0b6a1eb0-9d2c-48cf-b1d4-83624f0db600",
   "metadata": {},
   "outputs": [],
   "source": [
    "for size in sample_size:\n",
    "    sample_data = merged_sample[:size]\n",
    "    X = sample_data[columns_X]\n",
    "    y = sample_data[\"rating\"]\n",
    "    X_train, X_test, y_train, y_test = train_test_split(X,y , \n",
    "                                   random_state=104,  \n",
    "                                   test_size=0.3,  \n",
    "                                   shuffle=True) \n",
    "\n",
    "\n",
    "    model_sklearn = LinearDiscriminantAnalysis(**grid_search.best_params_)\n",
    "    m1_pred = model_sklearn.fit(X_train,y_train).predict(X_test)\n",
    "    mse_1 = mean_squared_error(y_test, m1_pred)\n",
    "    algo_sklearn_rmse.append(sqrt(mse_1))\n",
    "\n",
    "    X_test = X_test[[\"userId\",\"movieId\"]]\n",
    "    X_train = X_train[[\"userId\",\"movieId\"]]\n",
    "    model_svd = SVD()\n",
    "    m2_pred = model_svd.fit(X_train,y_train).predict(X_test)\n",
    "    mse_2 = mean_squared_error(y_test, m2_pred)\n",
    "    algo_svd_rmse.append(sqrt(mse_2))"
   ]
  },
  {
   "cell_type": "markdown",
   "id": "7a6658b9-a7be-4992-8bd3-a15a184c5253",
   "metadata": {},
   "source": [
    "Saving results:"
   ]
  },
  {
   "cell_type": "code",
   "execution_count": 56,
   "id": "85a13bd0-72ae-4c41-b141-c7f17f9d906b",
   "metadata": {},
   "outputs": [],
   "source": [
    "with open('../results/algo_svd_rmse.txt', 'w') as file:\n",
    "    json.dump(algo_svd_rmse, file)\n",
    "with open('../results/algo_sklearn_rmse.txt', 'w') as file:\n",
    "    json.dump(algo_sklearn_rmse, file)"
   ]
  },
  {
   "cell_type": "code",
   "execution_count": 57,
   "id": "1495cec6-a1a0-4061-be7b-13005c03bd05",
   "metadata": {},
   "outputs": [
    {
     "name": "stdout",
     "output_type": "stream",
     "text": [
      "[2.24966664197165, 2.27249251312787, 2.2317158321693995, 2.2518798731200036, 2.2650729691459293, 2.395551432690742, 2.305018679124122, 2.275985744927044, 2.281503727645269, 2.278583868205084]\n",
      "[2.0453749807679205, 2.043687099228734, 2.0007675075943823, 1.9893037876871429, 1.978542705433406, 2.1195504381144263, 2.0704120923897427, 2.0089530634394195, 2.0235919125586572, 2.0006250405197785]\n"
     ]
    }
   ],
   "source": [
    "print(algo_sklearn_rmse)\n",
    "print(algo_svd_rmse)"
   ]
  },
  {
   "cell_type": "markdown",
   "id": "277e3b82-a245-4059-aa76-18a37ea99544",
   "metadata": {},
   "source": [
    "### Data visualisation of LDA and SVD performance"
   ]
  },
  {
   "cell_type": "code",
   "execution_count": 58,
   "id": "e82f1ab7-1119-4f06-83b2-b9c7031074bf",
   "metadata": {
    "scrolled": true
   },
   "outputs": [
    {
     "ename": "ValueError",
     "evalue": "x and y must have same first dimension, but have shapes (5,) and (10,)",
     "output_type": "error",
     "traceback": [
      "\u001b[1;31m---------------------------------------------------------------------------\u001b[0m",
      "\u001b[1;31mValueError\u001b[0m                                Traceback (most recent call last)",
      "Cell \u001b[1;32mIn[58], line 3\u001b[0m\n\u001b[0;32m      1\u001b[0m plt\u001b[38;5;241m.\u001b[39mfigure(figsize\u001b[38;5;241m=\u001b[39m(\u001b[38;5;241m10\u001b[39m, \u001b[38;5;241m6\u001b[39m))\n\u001b[1;32m----> 3\u001b[0m plt\u001b[38;5;241m.\u001b[39mplot(sample_size, algo_sklearn_rmse, marker\u001b[38;5;241m=\u001b[39m\u001b[38;5;124m'\u001b[39m\u001b[38;5;124mo\u001b[39m\u001b[38;5;124m'\u001b[39m, label\u001b[38;5;241m=\u001b[39m\u001b[38;5;124m'\u001b[39m\u001b[38;5;124mAlgorithm LDA\u001b[39m\u001b[38;5;124m'\u001b[39m)\n\u001b[0;32m      4\u001b[0m plt\u001b[38;5;241m.\u001b[39mplot(sample_size, algo_svd_rmse, marker\u001b[38;5;241m=\u001b[39m\u001b[38;5;124m'\u001b[39m\u001b[38;5;124mo\u001b[39m\u001b[38;5;124m'\u001b[39m, label\u001b[38;5;241m=\u001b[39m\u001b[38;5;124m'\u001b[39m\u001b[38;5;124mAlgorithm SVD\u001b[39m\u001b[38;5;124m'\u001b[39m)\n\u001b[0;32m      6\u001b[0m plt\u001b[38;5;241m.\u001b[39mxlabel(\u001b[38;5;124m'\u001b[39m\u001b[38;5;124mData Size\u001b[39m\u001b[38;5;124m'\u001b[39m)\n",
      "File \u001b[1;32mC:\\ProgramData\\anaconda3\\Lib\\site-packages\\matplotlib\\pyplot.py:3578\u001b[0m, in \u001b[0;36mplot\u001b[1;34m(scalex, scaley, data, *args, **kwargs)\u001b[0m\n\u001b[0;32m   3570\u001b[0m \u001b[38;5;129m@_copy_docstring_and_deprecators\u001b[39m(Axes\u001b[38;5;241m.\u001b[39mplot)\n\u001b[0;32m   3571\u001b[0m \u001b[38;5;28;01mdef\u001b[39;00m \u001b[38;5;21mplot\u001b[39m(\n\u001b[0;32m   3572\u001b[0m     \u001b[38;5;241m*\u001b[39margs: \u001b[38;5;28mfloat\u001b[39m \u001b[38;5;241m|\u001b[39m ArrayLike \u001b[38;5;241m|\u001b[39m \u001b[38;5;28mstr\u001b[39m,\n\u001b[1;32m   (...)\u001b[0m\n\u001b[0;32m   3576\u001b[0m     \u001b[38;5;241m*\u001b[39m\u001b[38;5;241m*\u001b[39mkwargs,\n\u001b[0;32m   3577\u001b[0m ) \u001b[38;5;241m-\u001b[39m\u001b[38;5;241m>\u001b[39m \u001b[38;5;28mlist\u001b[39m[Line2D]:\n\u001b[1;32m-> 3578\u001b[0m     \u001b[38;5;28;01mreturn\u001b[39;00m gca()\u001b[38;5;241m.\u001b[39mplot(\n\u001b[0;32m   3579\u001b[0m         \u001b[38;5;241m*\u001b[39margs,\n\u001b[0;32m   3580\u001b[0m         scalex\u001b[38;5;241m=\u001b[39mscalex,\n\u001b[0;32m   3581\u001b[0m         scaley\u001b[38;5;241m=\u001b[39mscaley,\n\u001b[0;32m   3582\u001b[0m         \u001b[38;5;241m*\u001b[39m\u001b[38;5;241m*\u001b[39m({\u001b[38;5;124m\"\u001b[39m\u001b[38;5;124mdata\u001b[39m\u001b[38;5;124m\"\u001b[39m: data} \u001b[38;5;28;01mif\u001b[39;00m data \u001b[38;5;129;01mis\u001b[39;00m \u001b[38;5;129;01mnot\u001b[39;00m \u001b[38;5;28;01mNone\u001b[39;00m \u001b[38;5;28;01melse\u001b[39;00m {}),\n\u001b[0;32m   3583\u001b[0m         \u001b[38;5;241m*\u001b[39m\u001b[38;5;241m*\u001b[39mkwargs,\n\u001b[0;32m   3584\u001b[0m     )\n",
      "File \u001b[1;32mC:\\ProgramData\\anaconda3\\Lib\\site-packages\\matplotlib\\axes\\_axes.py:1721\u001b[0m, in \u001b[0;36mAxes.plot\u001b[1;34m(self, scalex, scaley, data, *args, **kwargs)\u001b[0m\n\u001b[0;32m   1478\u001b[0m \u001b[38;5;250m\u001b[39m\u001b[38;5;124;03m\"\"\"\u001b[39;00m\n\u001b[0;32m   1479\u001b[0m \u001b[38;5;124;03mPlot y versus x as lines and/or markers.\u001b[39;00m\n\u001b[0;32m   1480\u001b[0m \n\u001b[1;32m   (...)\u001b[0m\n\u001b[0;32m   1718\u001b[0m \u001b[38;5;124;03m(``'green'``) or hex strings (``'#008000'``).\u001b[39;00m\n\u001b[0;32m   1719\u001b[0m \u001b[38;5;124;03m\"\"\"\u001b[39;00m\n\u001b[0;32m   1720\u001b[0m kwargs \u001b[38;5;241m=\u001b[39m cbook\u001b[38;5;241m.\u001b[39mnormalize_kwargs(kwargs, mlines\u001b[38;5;241m.\u001b[39mLine2D)\n\u001b[1;32m-> 1721\u001b[0m lines \u001b[38;5;241m=\u001b[39m [\u001b[38;5;241m*\u001b[39m\u001b[38;5;28mself\u001b[39m\u001b[38;5;241m.\u001b[39m_get_lines(\u001b[38;5;28mself\u001b[39m, \u001b[38;5;241m*\u001b[39margs, data\u001b[38;5;241m=\u001b[39mdata, \u001b[38;5;241m*\u001b[39m\u001b[38;5;241m*\u001b[39mkwargs)]\n\u001b[0;32m   1722\u001b[0m \u001b[38;5;28;01mfor\u001b[39;00m line \u001b[38;5;129;01min\u001b[39;00m lines:\n\u001b[0;32m   1723\u001b[0m     \u001b[38;5;28mself\u001b[39m\u001b[38;5;241m.\u001b[39madd_line(line)\n",
      "File \u001b[1;32mC:\\ProgramData\\anaconda3\\Lib\\site-packages\\matplotlib\\axes\\_base.py:303\u001b[0m, in \u001b[0;36m_process_plot_var_args.__call__\u001b[1;34m(self, axes, data, *args, **kwargs)\u001b[0m\n\u001b[0;32m    301\u001b[0m     this \u001b[38;5;241m+\u001b[39m\u001b[38;5;241m=\u001b[39m args[\u001b[38;5;241m0\u001b[39m],\n\u001b[0;32m    302\u001b[0m     args \u001b[38;5;241m=\u001b[39m args[\u001b[38;5;241m1\u001b[39m:]\n\u001b[1;32m--> 303\u001b[0m \u001b[38;5;28;01myield from\u001b[39;00m \u001b[38;5;28mself\u001b[39m\u001b[38;5;241m.\u001b[39m_plot_args(\n\u001b[0;32m    304\u001b[0m     axes, this, kwargs, ambiguous_fmt_datakey\u001b[38;5;241m=\u001b[39mambiguous_fmt_datakey)\n",
      "File \u001b[1;32mC:\\ProgramData\\anaconda3\\Lib\\site-packages\\matplotlib\\axes\\_base.py:499\u001b[0m, in \u001b[0;36m_process_plot_var_args._plot_args\u001b[1;34m(self, axes, tup, kwargs, return_kwargs, ambiguous_fmt_datakey)\u001b[0m\n\u001b[0;32m    496\u001b[0m     axes\u001b[38;5;241m.\u001b[39myaxis\u001b[38;5;241m.\u001b[39mupdate_units(y)\n\u001b[0;32m    498\u001b[0m \u001b[38;5;28;01mif\u001b[39;00m x\u001b[38;5;241m.\u001b[39mshape[\u001b[38;5;241m0\u001b[39m] \u001b[38;5;241m!=\u001b[39m y\u001b[38;5;241m.\u001b[39mshape[\u001b[38;5;241m0\u001b[39m]:\n\u001b[1;32m--> 499\u001b[0m     \u001b[38;5;28;01mraise\u001b[39;00m \u001b[38;5;167;01mValueError\u001b[39;00m(\u001b[38;5;124mf\u001b[39m\u001b[38;5;124m\"\u001b[39m\u001b[38;5;124mx and y must have same first dimension, but \u001b[39m\u001b[38;5;124m\"\u001b[39m\n\u001b[0;32m    500\u001b[0m                      \u001b[38;5;124mf\u001b[39m\u001b[38;5;124m\"\u001b[39m\u001b[38;5;124mhave shapes \u001b[39m\u001b[38;5;132;01m{\u001b[39;00mx\u001b[38;5;241m.\u001b[39mshape\u001b[38;5;132;01m}\u001b[39;00m\u001b[38;5;124m and \u001b[39m\u001b[38;5;132;01m{\u001b[39;00my\u001b[38;5;241m.\u001b[39mshape\u001b[38;5;132;01m}\u001b[39;00m\u001b[38;5;124m\"\u001b[39m)\n\u001b[0;32m    501\u001b[0m \u001b[38;5;28;01mif\u001b[39;00m x\u001b[38;5;241m.\u001b[39mndim \u001b[38;5;241m>\u001b[39m \u001b[38;5;241m2\u001b[39m \u001b[38;5;129;01mor\u001b[39;00m y\u001b[38;5;241m.\u001b[39mndim \u001b[38;5;241m>\u001b[39m \u001b[38;5;241m2\u001b[39m:\n\u001b[0;32m    502\u001b[0m     \u001b[38;5;28;01mraise\u001b[39;00m \u001b[38;5;167;01mValueError\u001b[39;00m(\u001b[38;5;124mf\u001b[39m\u001b[38;5;124m\"\u001b[39m\u001b[38;5;124mx and y can be no greater than 2D, but have \u001b[39m\u001b[38;5;124m\"\u001b[39m\n\u001b[0;32m    503\u001b[0m                      \u001b[38;5;124mf\u001b[39m\u001b[38;5;124m\"\u001b[39m\u001b[38;5;124mshapes \u001b[39m\u001b[38;5;132;01m{\u001b[39;00mx\u001b[38;5;241m.\u001b[39mshape\u001b[38;5;132;01m}\u001b[39;00m\u001b[38;5;124m and \u001b[39m\u001b[38;5;132;01m{\u001b[39;00my\u001b[38;5;241m.\u001b[39mshape\u001b[38;5;132;01m}\u001b[39;00m\u001b[38;5;124m\"\u001b[39m)\n",
      "\u001b[1;31mValueError\u001b[0m: x and y must have same first dimension, but have shapes (5,) and (10,)"
     ]
    },
    {
     "data": {
      "image/png": "[encoded data removed]",
      "text/plain": [
       "<Figure size 1000x600 with 1 Axes>"
      ]
     },
     "metadata": {},
     "output_type": "display_data"
    }
   ],
   "source": [
    "plt.figure(figsize=(10, 6))\n",
    "\n",
    "plt.plot(sample_size, algo_sklearn_rmse, marker='o', label='Algorithm LDA')\n",
    "plt.plot(sample_size, algo_svd_rmse, marker='o', label='Algorithm SVD')\n",
    "\n",
    "plt.xlabel('Data Size')\n",
    "plt.ylabel('Root Mean Squared Error (RMSE)')\n",
    "plt.title('Comparison of Root Mean Squared Error between Algorithms across Different Data Sizes')\n",
    "plt.legend()\n",
    "plt.grid(True)\n",
    "\n",
    "plt.show()"
   ]
  },
  {
   "cell_type": "code",
   "execution_count": null,
   "id": "d1bea7bb-6c66-4f71-94bd-20085a9527cd",
   "metadata": {},
   "outputs": [],
   "source": [
    "print(len(sample_size), len(algo_sklearn_rmse), len(algo_svd_rmse))"
   ]
  },
  {
   "cell_type": "markdown",
   "id": "23130419-51b5-4011-a7ac-202e952c1a00",
   "metadata": {},
   "source": [
    "## Further testing with Custom SVD Algorithm\n",
    "\n",
    "As observed in the graph above, the bigger the sample, the better the results for the SVD algorithm, so we needed to do further testing to see if the RMSE rate would drop if we feed the momdel with a bigger data sample. This way we:\n",
    "\n",
    "- Created bigger samples;\n",
    "- Set and empty list to save the results;\n",
    "- Checked for the existence of result files;\n",
    "- Prepped and fitted data on model;\n",
    "- Saved results;\n",
    "- Generated a data visualisation of SVD Performance in different data sample sizes;"
   ]
  },
  {
   "cell_type": "code",
   "execution_count": 59,
   "id": "f6e5b1b0-57d7-4b08-867b-948d2d0d8eef",
   "metadata": {},
   "outputs": [],
   "source": [
    "svd_test_sample_sizes = [100000, 150000, 200000, 250000, 300000]"
   ]
  },
  {
   "cell_type": "code",
   "execution_count": 60,
   "id": "b521daec-c93f-44da-9145-3e2cda6956c6",
   "metadata": {},
   "outputs": [],
   "source": [
    "svd_test_results = []"
   ]
  },
  {
   "cell_type": "code",
   "execution_count": 61,
   "id": "b47d9ac3-b0f8-4c39-9547-7911767f4aa9",
   "metadata": {},
   "outputs": [
    {
     "data": {
      "text/plain": [
       "[0.8995662298830802,\n",
       " 0.8883581114443119,\n",
       " 0.8910606901550528,\n",
       " 0.8926529903625712,\n",
       " 0.8822569344560564]"
      ]
     },
     "execution_count": 61,
     "metadata": {},
     "output_type": "execute_result"
    }
   ],
   "source": [
    "# check if svd test results are available \n",
    "try: \n",
    "  with open('../results/svd_test_results.txt', 'r') as file:\n",
    "    results = file.readline()\n",
    "    svd_test_results = json.loads(results)\n",
    "except:\n",
    "  pass\n",
    "\n",
    "svd_test_results"
   ]
  },
  {
   "cell_type": "markdown",
   "id": "bc47b867-1702-49df-a466-403aacb0a464",
   "metadata": {},
   "source": [
    "#### Data Preparation and model fitting\n",
    "\n",
    "Here we: \n",
    "- Set test size to 30% and training to 70%;\n",
    "- checked if we had the trained model available;\n",
    "- If not, we fitted the model with their train and test slices;\n",
    "- Saved it onto our Models folder;"
   ]
  },
  {
   "cell_type": "code",
   "execution_count": 62,
   "id": "0ca6e7e6-92d9-4da5-8d67-15215becda4e",
   "metadata": {},
   "outputs": [],
   "source": [
    "#run tests only if results are not available \n",
    "if len(svd_test_results) == 0:\n",
    "  for n in svd_test_sample_sizes:\n",
    "    sample = ratings[:n]\n",
    "    X = sample[[\"userId\",\"movieId\"]]\n",
    "    y = sample[\"rating\"]\n",
    "    X_train, X_test, y_train, y_test = train_test_split(X,y , \n",
    "                                    random_state=104,  \n",
    "                                    test_size=0.3,  \n",
    "                                    shuffle=True) \n",
    "    \n",
    "    # try to load pre-trained model, random state will assure that model  is trained and tested on the same data \n",
    "    filename = '../models/model_test_' + str(n) + '.sav'\n",
    "    model = None\n",
    "    try:\n",
    "      model = pickle.load(open(filename, 'rb'))\n",
    "    except:\n",
    "      print(\"Pretrained model not found: \" + 'model_test_' + str(n))\n",
    "      pass\n",
    "    # only train model if not available\n",
    "    if model == None:\n",
    "      model = SVD()\n",
    "      model = model.fit(X_train,y_train)\n",
    "      \n",
    "    y_pred_svd = model.predict(X_test)\n",
    "    mse_svd = mean_squared_error(y_test, y_pred_svd)\n",
    "    svd_test_results.append(sqrt(mse_svd))\n",
    "    # save model \n",
    "    pickle.dump(model, open(filename, 'wb'))"
   ]
  },
  {
   "cell_type": "code",
   "execution_count": 63,
   "id": "23330de0-177f-441a-8e4b-bc17c265b424",
   "metadata": {},
   "outputs": [],
   "source": [
    "# save results from svd test  \n",
    "with open('../results/svd_test_results.txt', 'w') as filehandle:\n",
    "    json.dump(svd_test_results, filehandle)"
   ]
  },
  {
   "cell_type": "markdown",
   "id": "425e20d4-4ba2-490e-80cf-178e11785cac",
   "metadata": {},
   "source": [
    "#### Data Visualisation of performance in different sample sizes\n",
    "\n",
    "Here are the results of the RMSE perfomance in different sample sizes."
   ]
  },
  {
   "cell_type": "code",
   "execution_count": 64,
   "id": "c0c7c381-9034-4dbe-ac98-71b60a8dfac9",
   "metadata": {},
   "outputs": [
    {
     "data": {
      "image/png": "[encoded data removed]",
      "text/plain": [
       "<Figure size 1000x600 with 1 Axes>"
      ]
     },
     "metadata": {},
     "output_type": "display_data"
    }
   ],
   "source": [
    "plt.figure(figsize=(10, 6))\n",
    "\n",
    "plt.plot(svd_test_sample_sizes, svd_test_results, marker='o', label='SVD Custom Algorithm')\n",
    "\n",
    "plt.xlabel('Sample Size')\n",
    "plt.ylabel('Root Mean Squared Error (RMSE)')\n",
    "plt.title('Performance of SVD algorithm with increasing data sample size')\n",
    "plt.legend()\n",
    "plt.grid(True)\n",
    "\n",
    "plt.show()"
   ]
  },
  {
   "cell_type": "markdown",
   "id": "7078bb01-e3b6-4117-a235-71dedb911d4a",
   "metadata": {},
   "source": [
    "--------------"
   ]
  },
  {
   "cell_type": "markdown",
   "id": "d0804b18-361a-4d81-a33d-fc0008b0590a",
   "metadata": {},
   "source": [
    "# Training Final Model\n",
    "\n",
    "With this algorithm the more Movie and User data we provide, e.g. rating score, the better it will perform. This happens because it adjusts biases from user and movie and let us filter the dataframe for movies that were rated more than 10000 times. This will help with time required to train the model and will assure that model has enough data to perform well."
   ]
  },
  {
   "cell_type": "markdown",
   "id": "20726f91-3e37-4168-b6e4-4acbe03cfb39",
   "metadata": {},
   "source": [
    "## Data Preparation\n",
    "\n",
    "This is the last data understanding and preparation we will have before the data preparation for modelling and it consisted of:\n",
    "- Filtering movies rated more than 10k times: This step will allow us to prep the data do provide better predictions;\n",
    "- Create another dataset: this filtered dataset is called 'ratings_final' and has 588 movies in it."
   ]
  },
  {
   "cell_type": "code",
   "execution_count": 65,
   "id": "2145f3cf-f0d3-4643-9d0d-37d1f87ba44e",
   "metadata": {},
   "outputs": [
    {
     "name": "stdout",
     "output_type": "stream",
     "text": [
      "<class 'pandas.core.frame.DataFrame'>\n",
      "Index: 588 entries, 0 to 587\n",
      "Data columns (total 2 columns):\n",
      " #   Column   Non-Null Count  Dtype\n",
      "---  ------   --------------  -----\n",
      " 0   movieId  588 non-null    int64\n",
      " 1   count    588 non-null    int64\n",
      "dtypes: int64(2)\n",
      "memory usage: 13.8 KB\n"
     ]
    }
   ],
   "source": [
    "#filter for movies that were rated more than 10k times \n",
    "movie_ratings_count = ratings['movieId'].value_counts().reset_index()\n",
    "ids_10k = movie_ratings_count[movie_ratings_count[\"count\"] > 10000]\n",
    "ids_10k.info()\n",
    "ids = ids_10k[\"movieId\"].values"
   ]
  },
  {
   "cell_type": "code",
   "execution_count": 66,
   "id": "9446fa3c-82bd-430f-9293-59da264819bb",
   "metadata": {},
   "outputs": [],
   "source": [
    "# filter original dataframe for rows that contain selected movieIds \n",
    "ratings_final = ratings[ratings['movieId'].isin(ids)]"
   ]
  },
  {
   "cell_type": "markdown",
   "id": "1a63c3e0-69e8-49e5-a633-d4bca8057fc4",
   "metadata": {},
   "source": [
    "After filtering we have 588 movies in our final dataset."
   ]
  },
  {
   "cell_type": "code",
   "execution_count": 67,
   "id": "f2a8b526-6a58-457f-8e64-bdb349ddeb77",
   "metadata": {},
   "outputs": [
    {
     "data": {
      "text/plain": [
       "588"
      ]
     },
     "execution_count": 67,
     "metadata": {},
     "output_type": "execute_result"
    }
   ],
   "source": [
    "ratings_final[\"movieId\"].nunique()"
   ]
  },
  {
   "cell_type": "code",
   "execution_count": 68,
   "id": "b05bf57a-5757-4260-9eb1-5d36bfd54b2c",
   "metadata": {},
   "outputs": [],
   "source": [
    "movies = None\n",
    "ratings = None"
   ]
  },
  {
   "cell_type": "markdown",
   "id": "f7c1da9c-6bdc-4a8b-9c65-78483a4cf707",
   "metadata": {},
   "source": [
    "We have reduced size of the dataframe by half."
   ]
  },
  {
   "cell_type": "code",
   "execution_count": 69,
   "id": "d55ff3f0-9f09-48e0-8f8e-43bdeece7106",
   "metadata": {},
   "outputs": [
    {
     "name": "stdout",
     "output_type": "stream",
     "text": [
      "<class 'pandas.core.frame.DataFrame'>\n",
      "Index: 11877943 entries, 0 to 25000093\n",
      "Data columns (total 3 columns):\n",
      " #   Column   Dtype  \n",
      "---  ------   -----  \n",
      " 0   userId   int64  \n",
      " 1   movieId  int64  \n",
      " 2   rating   float64\n",
      "dtypes: float64(1), int64(2)\n",
      "memory usage: 362.5 MB\n"
     ]
    }
   ],
   "source": [
    "ratings_final.info()"
   ]
  },
  {
   "cell_type": "code",
   "execution_count": 72,
   "id": "164961f5-4166-464d-b315-7f190df61f83",
   "metadata": {},
   "outputs": [
    {
     "ename": "KeyboardInterrupt",
     "evalue": "",
     "output_type": "error",
     "traceback": [
      "\u001b[1;31m---------------------------------------------------------------------------\u001b[0m",
      "\u001b[1;31mKeyboardInterrupt\u001b[0m                         Traceback (most recent call last)",
      "Cell \u001b[1;32mIn[72], line 2\u001b[0m\n\u001b[0;32m      1\u001b[0m filename \u001b[38;5;241m=\u001b[39m \u001b[38;5;124m\"\u001b[39m\u001b[38;5;124m../datasets/ratings_final.csv\u001b[39m\u001b[38;5;124m\"\u001b[39m\n\u001b[1;32m----> 2\u001b[0m pd\u001b[38;5;241m.\u001b[39mDataFrame(data\u001b[38;5;241m=\u001b[39mratings_final)\u001b[38;5;241m.\u001b[39mto_csv(filename, sep\u001b[38;5;241m=\u001b[39m\u001b[38;5;124m'\u001b[39m\u001b[38;5;124m,\u001b[39m\u001b[38;5;124m'\u001b[39m, index\u001b[38;5;241m=\u001b[39m\u001b[38;5;28;01mFalse\u001b[39;00m, encoding\u001b[38;5;241m=\u001b[39m\u001b[38;5;124m'\u001b[39m\u001b[38;5;124mutf-8\u001b[39m\u001b[38;5;124m'\u001b[39m)\n",
      "File \u001b[1;32mC:\\ProgramData\\anaconda3\\Lib\\site-packages\\pandas\\core\\generic.py:3902\u001b[0m, in \u001b[0;36mNDFrame.to_csv\u001b[1;34m(self, path_or_buf, sep, na_rep, float_format, columns, header, index, index_label, mode, encoding, compression, quoting, quotechar, lineterminator, chunksize, date_format, doublequote, escapechar, decimal, errors, storage_options)\u001b[0m\n\u001b[0;32m   3891\u001b[0m df \u001b[38;5;241m=\u001b[39m \u001b[38;5;28mself\u001b[39m \u001b[38;5;28;01mif\u001b[39;00m \u001b[38;5;28misinstance\u001b[39m(\u001b[38;5;28mself\u001b[39m, ABCDataFrame) \u001b[38;5;28;01melse\u001b[39;00m \u001b[38;5;28mself\u001b[39m\u001b[38;5;241m.\u001b[39mto_frame()\n\u001b[0;32m   3893\u001b[0m formatter \u001b[38;5;241m=\u001b[39m DataFrameFormatter(\n\u001b[0;32m   3894\u001b[0m     frame\u001b[38;5;241m=\u001b[39mdf,\n\u001b[0;32m   3895\u001b[0m     header\u001b[38;5;241m=\u001b[39mheader,\n\u001b[1;32m   (...)\u001b[0m\n\u001b[0;32m   3899\u001b[0m     decimal\u001b[38;5;241m=\u001b[39mdecimal,\n\u001b[0;32m   3900\u001b[0m )\n\u001b[1;32m-> 3902\u001b[0m \u001b[38;5;28;01mreturn\u001b[39;00m DataFrameRenderer(formatter)\u001b[38;5;241m.\u001b[39mto_csv(\n\u001b[0;32m   3903\u001b[0m     path_or_buf,\n\u001b[0;32m   3904\u001b[0m     lineterminator\u001b[38;5;241m=\u001b[39mlineterminator,\n\u001b[0;32m   3905\u001b[0m     sep\u001b[38;5;241m=\u001b[39msep,\n\u001b[0;32m   3906\u001b[0m     encoding\u001b[38;5;241m=\u001b[39mencoding,\n\u001b[0;32m   3907\u001b[0m     errors\u001b[38;5;241m=\u001b[39merrors,\n\u001b[0;32m   3908\u001b[0m     compression\u001b[38;5;241m=\u001b[39mcompression,\n\u001b[0;32m   3909\u001b[0m     quoting\u001b[38;5;241m=\u001b[39mquoting,\n\u001b[0;32m   3910\u001b[0m     columns\u001b[38;5;241m=\u001b[39mcolumns,\n\u001b[0;32m   3911\u001b[0m     index_label\u001b[38;5;241m=\u001b[39mindex_label,\n\u001b[0;32m   3912\u001b[0m     mode\u001b[38;5;241m=\u001b[39mmode,\n\u001b[0;32m   3913\u001b[0m     chunksize\u001b[38;5;241m=\u001b[39mchunksize,\n\u001b[0;32m   3914\u001b[0m     quotechar\u001b[38;5;241m=\u001b[39mquotechar,\n\u001b[0;32m   3915\u001b[0m     date_format\u001b[38;5;241m=\u001b[39mdate_format,\n\u001b[0;32m   3916\u001b[0m     doublequote\u001b[38;5;241m=\u001b[39mdoublequote,\n\u001b[0;32m   3917\u001b[0m     escapechar\u001b[38;5;241m=\u001b[39mescapechar,\n\u001b[0;32m   3918\u001b[0m     storage_options\u001b[38;5;241m=\u001b[39mstorage_options,\n\u001b[0;32m   3919\u001b[0m )\n",
      "File \u001b[1;32mC:\\ProgramData\\anaconda3\\Lib\\site-packages\\pandas\\io\\formats\\format.py:1152\u001b[0m, in \u001b[0;36mDataFrameRenderer.to_csv\u001b[1;34m(self, path_or_buf, encoding, sep, columns, index_label, mode, compression, quoting, quotechar, lineterminator, chunksize, date_format, doublequote, escapechar, errors, storage_options)\u001b[0m\n\u001b[0;32m   1131\u001b[0m     created_buffer \u001b[38;5;241m=\u001b[39m \u001b[38;5;28;01mFalse\u001b[39;00m\n\u001b[0;32m   1133\u001b[0m csv_formatter \u001b[38;5;241m=\u001b[39m CSVFormatter(\n\u001b[0;32m   1134\u001b[0m     path_or_buf\u001b[38;5;241m=\u001b[39mpath_or_buf,\n\u001b[0;32m   1135\u001b[0m     lineterminator\u001b[38;5;241m=\u001b[39mlineterminator,\n\u001b[1;32m   (...)\u001b[0m\n\u001b[0;32m   1150\u001b[0m     formatter\u001b[38;5;241m=\u001b[39m\u001b[38;5;28mself\u001b[39m\u001b[38;5;241m.\u001b[39mfmt,\n\u001b[0;32m   1151\u001b[0m )\n\u001b[1;32m-> 1152\u001b[0m csv_formatter\u001b[38;5;241m.\u001b[39msave()\n\u001b[0;32m   1154\u001b[0m \u001b[38;5;28;01mif\u001b[39;00m created_buffer:\n\u001b[0;32m   1155\u001b[0m     \u001b[38;5;28;01massert\u001b[39;00m \u001b[38;5;28misinstance\u001b[39m(path_or_buf, StringIO)\n",
      "File \u001b[1;32mC:\\ProgramData\\anaconda3\\Lib\\site-packages\\pandas\\io\\formats\\csvs.py:266\u001b[0m, in \u001b[0;36mCSVFormatter.save\u001b[1;34m(self)\u001b[0m\n\u001b[0;32m    247\u001b[0m \u001b[38;5;28;01mwith\u001b[39;00m get_handle(\n\u001b[0;32m    248\u001b[0m     \u001b[38;5;28mself\u001b[39m\u001b[38;5;241m.\u001b[39mfilepath_or_buffer,\n\u001b[0;32m    249\u001b[0m     \u001b[38;5;28mself\u001b[39m\u001b[38;5;241m.\u001b[39mmode,\n\u001b[1;32m   (...)\u001b[0m\n\u001b[0;32m    254\u001b[0m ) \u001b[38;5;28;01mas\u001b[39;00m handles:\n\u001b[0;32m    255\u001b[0m     \u001b[38;5;66;03m# Note: self.encoding is irrelevant here\u001b[39;00m\n\u001b[0;32m    256\u001b[0m     \u001b[38;5;28mself\u001b[39m\u001b[38;5;241m.\u001b[39mwriter \u001b[38;5;241m=\u001b[39m csvlib\u001b[38;5;241m.\u001b[39mwriter(\n\u001b[0;32m    257\u001b[0m         handles\u001b[38;5;241m.\u001b[39mhandle,\n\u001b[0;32m    258\u001b[0m         lineterminator\u001b[38;5;241m=\u001b[39m\u001b[38;5;28mself\u001b[39m\u001b[38;5;241m.\u001b[39mlineterminator,\n\u001b[1;32m   (...)\u001b[0m\n\u001b[0;32m    263\u001b[0m         quotechar\u001b[38;5;241m=\u001b[39m\u001b[38;5;28mself\u001b[39m\u001b[38;5;241m.\u001b[39mquotechar,\n\u001b[0;32m    264\u001b[0m     )\n\u001b[1;32m--> 266\u001b[0m     \u001b[38;5;28mself\u001b[39m\u001b[38;5;241m.\u001b[39m_save()\n",
      "File \u001b[1;32mC:\\ProgramData\\anaconda3\\Lib\\site-packages\\pandas\\io\\formats\\csvs.py:271\u001b[0m, in \u001b[0;36mCSVFormatter._save\u001b[1;34m(self)\u001b[0m\n\u001b[0;32m    269\u001b[0m \u001b[38;5;28;01mif\u001b[39;00m \u001b[38;5;28mself\u001b[39m\u001b[38;5;241m.\u001b[39m_need_to_save_header:\n\u001b[0;32m    270\u001b[0m     \u001b[38;5;28mself\u001b[39m\u001b[38;5;241m.\u001b[39m_save_header()\n\u001b[1;32m--> 271\u001b[0m \u001b[38;5;28mself\u001b[39m\u001b[38;5;241m.\u001b[39m_save_body()\n",
      "File \u001b[1;32mC:\\ProgramData\\anaconda3\\Lib\\site-packages\\pandas\\io\\formats\\csvs.py:309\u001b[0m, in \u001b[0;36mCSVFormatter._save_body\u001b[1;34m(self)\u001b[0m\n\u001b[0;32m    307\u001b[0m \u001b[38;5;28;01mif\u001b[39;00m start_i \u001b[38;5;241m>\u001b[39m\u001b[38;5;241m=\u001b[39m end_i:\n\u001b[0;32m    308\u001b[0m     \u001b[38;5;28;01mbreak\u001b[39;00m\n\u001b[1;32m--> 309\u001b[0m \u001b[38;5;28mself\u001b[39m\u001b[38;5;241m.\u001b[39m_save_chunk(start_i, end_i)\n",
      "File \u001b[1;32mC:\\ProgramData\\anaconda3\\Lib\\site-packages\\pandas\\io\\formats\\csvs.py:320\u001b[0m, in \u001b[0;36mCSVFormatter._save_chunk\u001b[1;34m(self, start_i, end_i)\u001b[0m\n\u001b[0;32m    317\u001b[0m data \u001b[38;5;241m=\u001b[39m [res\u001b[38;5;241m.\u001b[39miget_values(i) \u001b[38;5;28;01mfor\u001b[39;00m i \u001b[38;5;129;01min\u001b[39;00m \u001b[38;5;28mrange\u001b[39m(\u001b[38;5;28mlen\u001b[39m(res\u001b[38;5;241m.\u001b[39mitems))]\n\u001b[0;32m    319\u001b[0m ix \u001b[38;5;241m=\u001b[39m \u001b[38;5;28mself\u001b[39m\u001b[38;5;241m.\u001b[39mdata_index[slicer]\u001b[38;5;241m.\u001b[39m_format_native_types(\u001b[38;5;241m*\u001b[39m\u001b[38;5;241m*\u001b[39m\u001b[38;5;28mself\u001b[39m\u001b[38;5;241m.\u001b[39m_number_format)\n\u001b[1;32m--> 320\u001b[0m libwriters\u001b[38;5;241m.\u001b[39mwrite_csv_rows(\n\u001b[0;32m    321\u001b[0m     data,\n\u001b[0;32m    322\u001b[0m     ix,\n\u001b[0;32m    323\u001b[0m     \u001b[38;5;28mself\u001b[39m\u001b[38;5;241m.\u001b[39mnlevels,\n\u001b[0;32m    324\u001b[0m     \u001b[38;5;28mself\u001b[39m\u001b[38;5;241m.\u001b[39mcols,\n\u001b[0;32m    325\u001b[0m     \u001b[38;5;28mself\u001b[39m\u001b[38;5;241m.\u001b[39mwriter,\n\u001b[0;32m    326\u001b[0m )\n",
      "File \u001b[1;32mwriters.pyx:72\u001b[0m, in \u001b[0;36mpandas._libs.writers.write_csv_rows\u001b[1;34m()\u001b[0m\n",
      "\u001b[1;31mKeyboardInterrupt\u001b[0m: "
     ]
    }
   ],
   "source": [
    "filename = \"../datasets/ratings_final.csv\"\n",
    "pd.DataFrame(data=ratings_final).to_csv(filename, sep=',', index=False, encoding='utf-8')"
   ]
  },
  {
   "cell_type": "markdown",
   "id": "7ee8efbb-8853-4abf-9db7-784b1c2affb5",
   "metadata": {},
   "source": [
    "## Data Preparation for Final Modeling\n",
    "\n",
    "This is the last data preparation done in this project and it does:\n",
    "- X and Y variables are established: here we chose which columns are part of the independent values and which is the dependent one for the dataset 'ratings_final'.\n",
    "- Slices Train and Test: We set it to defaul values: 75% for training and 25% for testing."
   ]
  },
  {
   "cell_type": "code",
   "execution_count": 73,
   "id": "ec0331b3-9448-42c3-99f0-d5355d925e4b",
   "metadata": {},
   "outputs": [],
   "source": [
    "X = ratings_final[[\"userId\", \"movieId\"]]\n",
    "y = ratings_final[\"rating\"]"
   ]
  },
  {
   "cell_type": "code",
   "execution_count": 74,
   "id": "8fc44704-0e87-4bb6-a9e6-22e0fdfe09cb",
   "metadata": {},
   "outputs": [],
   "source": [
    "X_train, X_test, y_train, y_test = train_test_split(X, y, random_state=42)"
   ]
  },
  {
   "cell_type": "code",
   "execution_count": 75,
   "id": "2bd039e2-2eeb-44d7-81e8-41020e6d4234",
   "metadata": {},
   "outputs": [],
   "source": [
    "X = None\n",
    "y = None"
   ]
  },
  {
   "cell_type": "markdown",
   "id": "4632d37f-d3cc-4196-9e51-05442caff778",
   "metadata": {},
   "source": [
    "Checking if trained model exists:"
   ]
  },
  {
   "cell_type": "code",
   "execution_count": 76,
   "id": "85c6896b-d4d4-49fc-89e4-0ec922328c2a",
   "metadata": {},
   "outputs": [],
   "source": [
    "filename = '../models/final_model.sav'\n",
    "final_model = None\n",
    "try:\n",
    "  final_model = pickle.load(open(filename, 'rb'))\n",
    "except:\n",
    "  print(\"Final model not found\")"
   ]
  },
  {
   "cell_type": "markdown",
   "id": "c33639d9-5489-4ebb-babe-d1095864d52d",
   "metadata": {},
   "source": [
    "## Training and Validating Final Model\n",
    "\n",
    "In here test and training sets had their RMSE scores below 0.90."
   ]
  },
  {
   "cell_type": "code",
   "execution_count": 77,
   "id": "accd32d1-e7f5-481e-8ebf-5c7f65567c2c",
   "metadata": {},
   "outputs": [],
   "source": [
    "filename = '../models/final_model.sav'\n",
    "if final_model is None:\n",
    "  final_model = SVD(n_factors=1, n_epochs=1)\n",
    "  final_model.fit(X_train, y_train)\n",
    "# after trained, save final model \n",
    "pickle.dump(final_model, open(filename, 'wb'))"
   ]
  },
  {
   "cell_type": "code",
   "execution_count": 78,
   "id": "6a71ffea-a738-4b3e-98b6-f108f1f9cc26",
   "metadata": {},
   "outputs": [],
   "source": [
    "y_pred_final = None\n",
    "y_train_predict_final = None"
   ]
  },
  {
   "cell_type": "markdown",
   "id": "64bc0a1f-481f-4845-952f-8a9fc1ec71c0",
   "metadata": {},
   "source": [
    "Test prediction against testing set"
   ]
  },
  {
   "cell_type": "code",
   "execution_count": 79,
   "id": "45cb9ddd-fb45-4edd-81e2-8db3cf5a05a8",
   "metadata": {},
   "outputs": [],
   "source": [
    "# import X_test prediction results if available \n",
    "try: \n",
    "  with open('../results/final_results_test.txt', 'r') as file:\n",
    "    results = file.readline()\n",
    "    y_pred_final = json.loads(results)\n",
    "except:\n",
    "  print(\"Results not found\")\n",
    "  pass"
   ]
  },
  {
   "cell_type": "code",
   "execution_count": 80,
   "id": "6f61f42e-f25a-43cd-b908-eb60d0efe43d",
   "metadata": {},
   "outputs": [],
   "source": [
    "if y_pred_final == None:\n",
    "  y_pred_final = final_model.predict(X_test)"
   ]
  },
  {
   "cell_type": "code",
   "execution_count": 81,
   "id": "baa42996-b372-4370-9106-44b49722a957",
   "metadata": {},
   "outputs": [],
   "source": [
    "with open('../results/final_results_test.txt', 'w') as file:\n",
    "    json.dump(y_pred_final, file)"
   ]
  },
  {
   "cell_type": "markdown",
   "id": "678041ec-469a-42dd-ad7f-eb5afeebbf7f",
   "metadata": {},
   "source": [
    "Test against training set"
   ]
  },
  {
   "cell_type": "code",
   "execution_count": 82,
   "id": "db945e6c-dc1f-48f1-9c74-ea4cd62d9675",
   "metadata": {},
   "outputs": [],
   "source": [
    "# import X_train prediction results if available\n",
    "try: \n",
    "  with open('../results/final_results_train.txt', 'r') as file:\n",
    "    results = file.readline()\n",
    "    y_train_predict_final = json.loads(results)\n",
    "except:\n",
    "  print(\"Results not found\")\n",
    "  pass"
   ]
  },
  {
   "cell_type": "code",
   "execution_count": 83,
   "id": "92655b34-3fe4-480a-afdb-067d60f124ed",
   "metadata": {},
   "outputs": [],
   "source": [
    "if y_train_predict_final == None:\n",
    "  y_train_predict_final = final_model.predict(X_train)"
   ]
  },
  {
   "cell_type": "code",
   "execution_count": 84,
   "id": "cee2bc32-9dce-4272-b22a-81c2887f1a12",
   "metadata": {},
   "outputs": [],
   "source": [
    "with open('../results/final_results_train.txt', 'w') as file:\n",
    "    json.dump(y_train_predict_final, file)"
   ]
  },
  {
   "cell_type": "code",
   "execution_count": 85,
   "id": "7e0cba9c-1e00-4e4f-b5ea-00949911aed1",
   "metadata": {},
   "outputs": [
    {
     "name": "stdout",
     "output_type": "stream",
     "text": [
      "Final MRSE for the model is: 0.8958040840872096\n"
     ]
    }
   ],
   "source": [
    "mrse_final = sqrt(mean_squared_error(y_test, y_pred_final))\n",
    "print(\"Final MRSE for the model is: {n}\".format(n = str(mrse_final)))"
   ]
  },
  {
   "cell_type": "code",
   "execution_count": 86,
   "id": "5a7a46a4-423e-4a28-86cc-777a20f58de2",
   "metadata": {},
   "outputs": [
    {
     "name": "stdout",
     "output_type": "stream",
     "text": [
      "Final MRSE for training data the model is: 0.8915327713696947\n"
     ]
    }
   ],
   "source": [
    "mrse_final_train = sqrt(mean_squared_error(y_train, y_train_predict_final))\n",
    "print(\"Final MRSE for training data the model is: {n}\".format(n = str(mrse_final_train)))"
   ]
  },
  {
   "cell_type": "markdown",
   "id": "b777edd1-fe50-4ce3-a90f-c77298f28661",
   "metadata": {},
   "source": [
    "# Deployment"
   ]
  },
  {
   "cell_type": "markdown",
   "id": "2c490304-01ab-404b-99d0-073847e37ea6",
   "metadata": {},
   "source": [
    "### Estimated rating dataframe preprocessing \n",
    "\n",
    "In this step we generated a dataset named 'final_estimated_rating' and renamed it as 'df_estimated' that contains 588 unique movies, 162.109 unique users and 95MI estimated predictions. This works in a way to pre process and generate rating predictions in advance, so when we need to generate a prediction, we have it all trained and done. "
   ]
  },
  {
   "cell_type": "code",
   "execution_count": 87,
   "id": "96278839-e786-488d-8aa9-5bb0e5b45c9a",
   "metadata": {},
   "outputs": [],
   "source": [
    "userId = []\n",
    "movieId = []\n",
    "rating = []"
   ]
  },
  {
   "cell_type": "code",
   "execution_count": 88,
   "id": "f49bdbf8-10e3-4b84-93ae-d914be739a53",
   "metadata": {},
   "outputs": [],
   "source": [
    "unique_user_id = ratings_final[\"userId\"].unique()\n",
    "unique_movie_id = ratings_final[\"movieId\"].unique()"
   ]
  },
  {
   "cell_type": "code",
   "execution_count": 89,
   "id": "54e68acf-1a2b-44b3-965a-e9852d8a51d6",
   "metadata": {},
   "outputs": [
    {
     "ename": "KeyboardInterrupt",
     "evalue": "",
     "output_type": "error",
     "traceback": [
      "\u001b[1;31m---------------------------------------------------------------------------\u001b[0m",
      "\u001b[1;31mKeyboardInterrupt\u001b[0m                         Traceback (most recent call last)",
      "Cell \u001b[1;32mIn[89], line 5\u001b[0m\n\u001b[0;32m      3\u001b[0m userId\u001b[38;5;241m.\u001b[39mappend(u_id)\n\u001b[0;32m      4\u001b[0m movieId\u001b[38;5;241m.\u001b[39mappend(m_id)\n\u001b[1;32m----> 5\u001b[0m rating\u001b[38;5;241m.\u001b[39mappend(final_model\u001b[38;5;241m.\u001b[39mestimate(u_id, m_id))\n",
      "Cell \u001b[1;32mIn[50], line 138\u001b[0m, in \u001b[0;36mSVD.estimate\u001b[1;34m(self, u, i)\u001b[0m\n\u001b[0;32m    135\u001b[0m         est \u001b[38;5;241m+\u001b[39m\u001b[38;5;241m=\u001b[39m \u001b[38;5;28mself\u001b[39m\u001b[38;5;241m.\u001b[39mbi[i]\n\u001b[0;32m    137\u001b[0m     \u001b[38;5;28;01mif\u001b[39;00m known_user \u001b[38;5;129;01mand\u001b[39;00m known_item:\n\u001b[1;32m--> 138\u001b[0m         est \u001b[38;5;241m+\u001b[39m\u001b[38;5;241m=\u001b[39m np\u001b[38;5;241m.\u001b[39mdot(\u001b[38;5;28mself\u001b[39m\u001b[38;5;241m.\u001b[39mqi[i], \u001b[38;5;28mself\u001b[39m\u001b[38;5;241m.\u001b[39mpu[u])\n\u001b[0;32m    140\u001b[0m \u001b[38;5;28;01melse\u001b[39;00m:\n\u001b[0;32m    141\u001b[0m     \u001b[38;5;28;01mif\u001b[39;00m known_user \u001b[38;5;129;01mand\u001b[39;00m known_item:\n",
      "\u001b[1;31mKeyboardInterrupt\u001b[0m: "
     ]
    }
   ],
   "source": [
    "for u_id in unique_user_id:\n",
    "  for m_id in unique_movie_id:\n",
    "    userId.append(u_id)\n",
    "    movieId.append(m_id)\n",
    "    rating.append(final_model.estimate(u_id, m_id))"
   ]
  },
  {
   "cell_type": "code",
   "execution_count": null,
   "id": "77c9e7e0-e52e-4d13-9fac-167c96b3eecd",
   "metadata": {},
   "outputs": [],
   "source": [
    "data = {\n",
    "  \"userId\": userId,\n",
    "  \"movieId\": movieId,\n",
    "  \"rating\" : rating\n",
    "}\n",
    "filename = \"../datasets/final-estimated-rating.csv\"\n",
    "pd.DataFrame(data=data).to_csv(filename, sep=',', index=False, encoding='utf-8')"
   ]
  },
  {
   "cell_type": "code",
   "execution_count": 90,
   "id": "cf2a0f9f-2cac-4494-8f5f-116f88360351",
   "metadata": {},
   "outputs": [],
   "source": [
    "df_estimated = pd.read_csv(\"../datasets/final-estimated-rating.csv\")"
   ]
  },
  {
   "cell_type": "code",
   "execution_count": 91,
   "id": "082f52b2-b5af-456e-811a-aea117cfe2e7",
   "metadata": {},
   "outputs": [
    {
     "data": {
      "text/plain": [
       "588"
      ]
     },
     "execution_count": 91,
     "metadata": {},
     "output_type": "execute_result"
    }
   ],
   "source": [
    "df_estimated[\"movieId\"].nunique()"
   ]
  },
  {
   "cell_type": "code",
   "execution_count": 92,
   "id": "d1a8c4e1-3ada-4850-8883-2677b12c501d",
   "metadata": {},
   "outputs": [
    {
     "data": {
      "text/plain": [
       "162109"
      ]
     },
     "execution_count": 92,
     "metadata": {},
     "output_type": "execute_result"
    }
   ],
   "source": [
    "df_estimated[\"userId\"].nunique()"
   ]
  },
  {
   "cell_type": "code",
   "execution_count": 93,
   "id": "6e9b1565-76f3-474c-87b9-104f091fbb76",
   "metadata": {},
   "outputs": [
    {
     "data": {
      "text/plain": [
       "(95320092, 3)"
      ]
     },
     "execution_count": 93,
     "metadata": {},
     "output_type": "execute_result"
    }
   ],
   "source": [
    "df_estimated.shape"
   ]
  },
  {
   "cell_type": "markdown",
   "id": "866c96c6-e1a8-476f-927a-3a4a0c85adb3",
   "metadata": {},
   "source": [
    "## Cosine Similarity\n",
    "\n",
    "This Cosine Similarity function works in a way that it finds users that rated the movies similarly to the way you rated movies on our GUI. This allows us to access the ratings these users gave to others titles on our catalogue and give movies recommendations back at our user using an estimative."
   ]
  },
  {
   "cell_type": "code",
   "execution_count": 94,
   "id": "5524102a-d241-4866-ace7-68116cf10e13",
   "metadata": {},
   "outputs": [],
   "source": [
    "def find_similar_users(target_user_df, rating_df):\n",
    "  user_rated = target_user_df[\"movieId\"].values\n",
    "  ratings = rating_df[rating_df[\"movieId\"].isin(user_rated)]\n",
    "  similar_users = []\n",
    "  while len(similar_users) < 5:\n",
    "    s = ratings.sample(50000)\n",
    "    df_merged = pd.concat([target_user_df,s])\n",
    "    pivot_df = df_merged.pivot_table(index='userId', columns='movieId', values='rating', aggfunc='mean').fillna(0)\n",
    "    similarity_matrix = cosine_similarity(pivot_df)\n",
    "    similarity_matrix_df = pd.DataFrame(similarity_matrix, index=pivot_df.index, columns=pivot_df.index)\n",
    "    select_user_id = target_user_df[\"userId\"].min()\n",
    "    n = 10 \n",
    "      \n",
    "    #set a threshold for similarity\n",
    "    user_similarity_threshold =  0.8\n",
    "      \n",
    "    similar_users = similarity_matrix_df[similarity_matrix_df[select_user_id]>user_similarity_threshold][select_user_id].sort_values(ascending=False)[:n]\n",
    "  return similar_users "
   ]
  },
  {
   "cell_type": "markdown",
   "id": "08fe038e-e950-4aa8-8686-8284bc3c1890",
   "metadata": {},
   "source": [
    "## Create a Random User as Proof of Concept\n",
    "\n",
    "Here we are doing a simulation with a hypothetical user that rated a random selection of movies in a random selection of ratings and identify this user as user 0. Then we use our function 'find_similar_users' (Cosine Similarity) based on our 'ratings_final' dataset and find a group of 10 users with similar ratings (user 0 + 9 users). We then calculate the average rating and merge with the movie dataset generating 'merged_final' that when sorted becomes 'sorted_df'.\n",
    "\n",
    "'Sorted_df' contains movies sorted in a descending way from highest to smallest estimated ratings for our user 0, meaning those are the estimated ratings that our user 0 would probably give to those 578 movies based on this user similarity with other users that rated 0.8 for more or less equally to that estimated rating."
   ]
  },
  {
   "cell_type": "code",
   "execution_count": 95,
   "id": "029cdff9-2a95-4329-84d2-0642b4d160e3",
   "metadata": {},
   "outputs": [
    {
     "name": "stdout",
     "output_type": "stream",
     "text": [
      "[1080, 58559, 1210, 2791, 17, 1380, 2716, 3527, 912, 2329]\n",
      "[3.0, 4.5, 0.5, 2.0, 0.5, 1.5, 3.0, 2.5, 4.0, 3.5]\n"
     ]
    }
   ],
   "source": [
    "# select 10 random movie ids to rate\n",
    "r = np.random.default_rng()\n",
    "ids = ratings_final[\"movieId\"].values\n",
    "m_ids = []\n",
    "ratings = []\n",
    "for i in range(1,11):\n",
    "  m_ids.append(ids[r.integers(0,(len(ids) -1 ))])\n",
    "  ratings.append(r.integers(1,11) / 2)\n",
    "\n",
    "print(m_ids)\n",
    "print(ratings)"
   ]
  },
  {
   "cell_type": "code",
   "execution_count": 96,
   "id": "8f179191-424b-4615-94d9-efba4eec72b9",
   "metadata": {},
   "outputs": [
    {
     "data": {
      "text/html": [
       "<div>\n",
       "<style scoped>\n",
       "    .dataframe tbody tr th:only-of-type {\n",
       "        vertical-align: middle;\n",
       "    }\n",
       "\n",
       "    .dataframe tbody tr th {\n",
       "        vertical-align: top;\n",
       "    }\n",
       "\n",
       "    .dataframe thead th {\n",
       "        text-align: right;\n",
       "    }\n",
       "</style>\n",
       "<table border=\"1\" class=\"dataframe\">\n",
       "  <thead>\n",
       "    <tr style=\"text-align: right;\">\n",
       "      <th></th>\n",
       "      <th>userId</th>\n",
       "      <th>movieId</th>\n",
       "      <th>rating</th>\n",
       "    </tr>\n",
       "  </thead>\n",
       "  <tbody>\n",
       "    <tr>\n",
       "      <th>0</th>\n",
       "      <td>0</td>\n",
       "      <td>1080</td>\n",
       "      <td>3.0</td>\n",
       "    </tr>\n",
       "    <tr>\n",
       "      <th>1</th>\n",
       "      <td>0</td>\n",
       "      <td>58559</td>\n",
       "      <td>4.5</td>\n",
       "    </tr>\n",
       "    <tr>\n",
       "      <th>2</th>\n",
       "      <td>0</td>\n",
       "      <td>1210</td>\n",
       "      <td>0.5</td>\n",
       "    </tr>\n",
       "    <tr>\n",
       "      <th>3</th>\n",
       "      <td>0</td>\n",
       "      <td>2791</td>\n",
       "      <td>2.0</td>\n",
       "    </tr>\n",
       "    <tr>\n",
       "      <th>4</th>\n",
       "      <td>0</td>\n",
       "      <td>17</td>\n",
       "      <td>0.5</td>\n",
       "    </tr>\n",
       "    <tr>\n",
       "      <th>5</th>\n",
       "      <td>0</td>\n",
       "      <td>1380</td>\n",
       "      <td>1.5</td>\n",
       "    </tr>\n",
       "    <tr>\n",
       "      <th>6</th>\n",
       "      <td>0</td>\n",
       "      <td>2716</td>\n",
       "      <td>3.0</td>\n",
       "    </tr>\n",
       "    <tr>\n",
       "      <th>7</th>\n",
       "      <td>0</td>\n",
       "      <td>3527</td>\n",
       "      <td>2.5</td>\n",
       "    </tr>\n",
       "    <tr>\n",
       "      <th>8</th>\n",
       "      <td>0</td>\n",
       "      <td>912</td>\n",
       "      <td>4.0</td>\n",
       "    </tr>\n",
       "    <tr>\n",
       "      <th>9</th>\n",
       "      <td>0</td>\n",
       "      <td>2329</td>\n",
       "      <td>3.5</td>\n",
       "    </tr>\n",
       "  </tbody>\n",
       "</table>\n",
       "</div>"
      ],
      "text/plain": [
       "   userId  movieId  rating\n",
       "0       0     1080     3.0\n",
       "1       0    58559     4.5\n",
       "2       0     1210     0.5\n",
       "3       0     2791     2.0\n",
       "4       0       17     0.5\n",
       "5       0     1380     1.5\n",
       "6       0     2716     3.0\n",
       "7       0     3527     2.5\n",
       "8       0      912     4.0\n",
       "9       0     2329     3.5"
      ]
     },
     "execution_count": 96,
     "metadata": {},
     "output_type": "execute_result"
    }
   ],
   "source": [
    "# set target user id to 0 and create user dataframe\n",
    "user_id = 0\n",
    "dict = {\n",
    "  \"userId\" : [user_id,user_id,user_id,user_id,user_id,user_id,user_id,user_id,user_id,user_id],\n",
    "  \"movieId\" : m_ids,\n",
    "  \"rating\" : ratings\n",
    "  # \"rating\" : [3,4,1,2,4.5,1.5,1.5,3.5,4.5,0.5]\n",
    "} \n",
    "df_user_0 = pd.DataFrame(dict)\n",
    "df_user_0"
   ]
  },
  {
   "cell_type": "code",
   "execution_count": 97,
   "id": "cf2f583b-796c-4dba-92d2-0edc7ceba3f7",
   "metadata": {},
   "outputs": [
    {
     "name": "stdout",
     "output_type": "stream",
     "text": [
      "userId\n",
      "0         1.000000\n",
      "69578     0.844239\n",
      "102002    0.839996\n",
      "99117     0.831902\n",
      "131102    0.830454\n",
      "17051     0.827801\n",
      "56628     0.827434\n",
      "142226    0.825817\n",
      "8168      0.822262\n",
      "131241    0.810255\n",
      "Name: 0, dtype: float64\n"
     ]
    }
   ],
   "source": [
    "users = find_similar_users(df_user_0,ratings_final )\n",
    "print(users)"
   ]
  },
  {
   "cell_type": "code",
   "execution_count": 98,
   "id": "48bba97c-acb0-4e19-830a-4947e0b6300d",
   "metadata": {},
   "outputs": [
    {
     "name": "stdout",
     "output_type": "stream",
     "text": [
      "69578 0.8442386011735094\n",
      "102002 0.8399956069042694\n",
      "99117 0.831902176794287\n",
      "131102 0.8304539641941445\n",
      "17051 0.8278010029877048\n",
      "56628 0.82743387330996\n",
      "142226 0.8258166719809883\n",
      "8168 0.822262362366802\n",
      "131241 0.8102548017927095\n"
     ]
    }
   ],
   "source": [
    "ids = [] \n",
    "for id, score in users.items():\n",
    "  if id == 0: \n",
    "    continue\n",
    "  ids.append(id)\n",
    "  print(id, score)"
   ]
  },
  {
   "cell_type": "code",
   "execution_count": 99,
   "id": "4a68efde-e765-4b8a-873b-0ff1070845b8",
   "metadata": {},
   "outputs": [
    {
     "name": "stdout",
     "output_type": "stream",
     "text": [
      "     movieId  Estimated Rating\n",
      "0          1          3.727199\n",
      "1          2          3.152765\n",
      "2          3          3.029367\n",
      "3          5          2.989304\n",
      "4          6          3.730845\n",
      "..       ...               ...\n",
      "573   122886          3.415164\n",
      "574   122904          3.545072\n",
      "575   134130          3.875708\n",
      "576   134853          3.749985\n",
      "577   164179          3.818461\n",
      "\n",
      "[578 rows x 2 columns]\n"
     ]
    }
   ],
   "source": [
    "filtered_df = df_estimated[df_estimated['userId'].isin(ids) & ~df_estimated['movieId'].isin(df_user_0['movieId'])]\n",
    "\n",
    "# Group by 'movieId' and calculate average rating\n",
    "average_rating = filtered_df.groupby('movieId')['rating'].mean().reset_index()\n",
    "\n",
    "average_rating.columns = ['movieId', 'Estimated Rating']\n",
    "\n",
    "print(average_rating)"
   ]
  },
  {
   "cell_type": "code",
   "execution_count": 100,
   "id": "c68f2098-dd41-44f7-aebd-2f369b9ceecf",
   "metadata": {},
   "outputs": [
    {
     "data": {
      "text/html": [
       "<div>\n",
       "<style scoped>\n",
       "    .dataframe tbody tr th:only-of-type {\n",
       "        vertical-align: middle;\n",
       "    }\n",
       "\n",
       "    .dataframe tbody tr th {\n",
       "        vertical-align: top;\n",
       "    }\n",
       "\n",
       "    .dataframe thead th {\n",
       "        text-align: right;\n",
       "    }\n",
       "</style>\n",
       "<table border=\"1\" class=\"dataframe\">\n",
       "  <thead>\n",
       "    <tr style=\"text-align: right;\">\n",
       "      <th></th>\n",
       "      <th>movieId</th>\n",
       "      <th>title</th>\n",
       "      <th>genres</th>\n",
       "    </tr>\n",
       "  </thead>\n",
       "  <tbody>\n",
       "    <tr>\n",
       "      <th>0</th>\n",
       "      <td>1</td>\n",
       "      <td>Toy Story (1995)</td>\n",
       "      <td>Adventure|Animation|Children|Comedy|Fantasy</td>\n",
       "    </tr>\n",
       "    <tr>\n",
       "      <th>1</th>\n",
       "      <td>2</td>\n",
       "      <td>Jumanji (1995)</td>\n",
       "      <td>Adventure|Children|Fantasy</td>\n",
       "    </tr>\n",
       "    <tr>\n",
       "      <th>2</th>\n",
       "      <td>3</td>\n",
       "      <td>Grumpier Old Men (1995)</td>\n",
       "      <td>Comedy|Romance</td>\n",
       "    </tr>\n",
       "    <tr>\n",
       "      <th>3</th>\n",
       "      <td>4</td>\n",
       "      <td>Waiting to Exhale (1995)</td>\n",
       "      <td>Comedy|Drama|Romance</td>\n",
       "    </tr>\n",
       "    <tr>\n",
       "      <th>4</th>\n",
       "      <td>5</td>\n",
       "      <td>Father of the Bride Part II (1995)</td>\n",
       "      <td>Comedy</td>\n",
       "    </tr>\n",
       "    <tr>\n",
       "      <th>...</th>\n",
       "      <td>...</td>\n",
       "      <td>...</td>\n",
       "      <td>...</td>\n",
       "    </tr>\n",
       "    <tr>\n",
       "      <th>62418</th>\n",
       "      <td>209157</td>\n",
       "      <td>We (2018)</td>\n",
       "      <td>Drama</td>\n",
       "    </tr>\n",
       "    <tr>\n",
       "      <th>62419</th>\n",
       "      <td>209159</td>\n",
       "      <td>Window of the Soul (2001)</td>\n",
       "      <td>Documentary</td>\n",
       "    </tr>\n",
       "    <tr>\n",
       "      <th>62420</th>\n",
       "      <td>209163</td>\n",
       "      <td>Bad Poems (2018)</td>\n",
       "      <td>Comedy|Drama</td>\n",
       "    </tr>\n",
       "    <tr>\n",
       "      <th>62421</th>\n",
       "      <td>209169</td>\n",
       "      <td>A Girl Thing (2001)</td>\n",
       "      <td>(no genres listed)</td>\n",
       "    </tr>\n",
       "    <tr>\n",
       "      <th>62422</th>\n",
       "      <td>209171</td>\n",
       "      <td>Women of Devil's Island (1962)</td>\n",
       "      <td>Action|Adventure|Drama</td>\n",
       "    </tr>\n",
       "  </tbody>\n",
       "</table>\n",
       "<p>62423 rows × 3 columns</p>\n",
       "</div>"
      ],
      "text/plain": [
       "       movieId                               title  \\\n",
       "0            1                    Toy Story (1995)   \n",
       "1            2                      Jumanji (1995)   \n",
       "2            3             Grumpier Old Men (1995)   \n",
       "3            4            Waiting to Exhale (1995)   \n",
       "4            5  Father of the Bride Part II (1995)   \n",
       "...        ...                                 ...   \n",
       "62418   209157                           We (2018)   \n",
       "62419   209159           Window of the Soul (2001)   \n",
       "62420   209163                    Bad Poems (2018)   \n",
       "62421   209169                 A Girl Thing (2001)   \n",
       "62422   209171      Women of Devil's Island (1962)   \n",
       "\n",
       "                                            genres  \n",
       "0      Adventure|Animation|Children|Comedy|Fantasy  \n",
       "1                       Adventure|Children|Fantasy  \n",
       "2                                   Comedy|Romance  \n",
       "3                             Comedy|Drama|Romance  \n",
       "4                                           Comedy  \n",
       "...                                            ...  \n",
       "62418                                        Drama  \n",
       "62419                                  Documentary  \n",
       "62420                                 Comedy|Drama  \n",
       "62421                           (no genres listed)  \n",
       "62422                       Action|Adventure|Drama  \n",
       "\n",
       "[62423 rows x 3 columns]"
      ]
     },
     "execution_count": 100,
     "metadata": {},
     "output_type": "execute_result"
    }
   ],
   "source": [
    "path_movies ='../Datasets/movies.csv'\n",
    "movies = pd.read_csv(path_movies)\n",
    "\n",
    "movies"
   ]
  },
  {
   "cell_type": "code",
   "execution_count": 101,
   "id": "ffc43e46-5b68-40a7-88ef-da1a789aba0b",
   "metadata": {},
   "outputs": [],
   "source": [
    "merged_final = pd.merge(average_rating, movies, on='movieId', how='left')"
   ]
  },
  {
   "cell_type": "code",
   "execution_count": 102,
   "id": "2c72bea5-4599-44f1-a541-495309fa8dd5",
   "metadata": {},
   "outputs": [
    {
     "data": {
      "text/html": [
       "<div>\n",
       "<style scoped>\n",
       "    .dataframe tbody tr th:only-of-type {\n",
       "        vertical-align: middle;\n",
       "    }\n",
       "\n",
       "    .dataframe tbody tr th {\n",
       "        vertical-align: top;\n",
       "    }\n",
       "\n",
       "    .dataframe thead th {\n",
       "        text-align: right;\n",
       "    }\n",
       "</style>\n",
       "<table border=\"1\" class=\"dataframe\">\n",
       "  <thead>\n",
       "    <tr style=\"text-align: right;\">\n",
       "      <th></th>\n",
       "      <th>movieId</th>\n",
       "      <th>Estimated Rating</th>\n",
       "      <th>title</th>\n",
       "      <th>genres</th>\n",
       "    </tr>\n",
       "  </thead>\n",
       "  <tbody>\n",
       "    <tr>\n",
       "      <th>0</th>\n",
       "      <td>1</td>\n",
       "      <td>3.727199</td>\n",
       "      <td>Toy Story (1995)</td>\n",
       "      <td>Adventure|Animation|Children|Comedy|Fantasy</td>\n",
       "    </tr>\n",
       "    <tr>\n",
       "      <th>1</th>\n",
       "      <td>2</td>\n",
       "      <td>3.152765</td>\n",
       "      <td>Jumanji (1995)</td>\n",
       "      <td>Adventure|Children|Fantasy</td>\n",
       "    </tr>\n",
       "    <tr>\n",
       "      <th>2</th>\n",
       "      <td>3</td>\n",
       "      <td>3.029367</td>\n",
       "      <td>Grumpier Old Men (1995)</td>\n",
       "      <td>Comedy|Romance</td>\n",
       "    </tr>\n",
       "    <tr>\n",
       "      <th>3</th>\n",
       "      <td>5</td>\n",
       "      <td>2.989304</td>\n",
       "      <td>Father of the Bride Part II (1995)</td>\n",
       "      <td>Comedy</td>\n",
       "    </tr>\n",
       "    <tr>\n",
       "      <th>4</th>\n",
       "      <td>6</td>\n",
       "      <td>3.730845</td>\n",
       "      <td>Heat (1995)</td>\n",
       "      <td>Action|Crime|Thriller</td>\n",
       "    </tr>\n",
       "  </tbody>\n",
       "</table>\n",
       "</div>"
      ],
      "text/plain": [
       "   movieId  Estimated Rating                               title  \\\n",
       "0        1          3.727199                    Toy Story (1995)   \n",
       "1        2          3.152765                      Jumanji (1995)   \n",
       "2        3          3.029367             Grumpier Old Men (1995)   \n",
       "3        5          2.989304  Father of the Bride Part II (1995)   \n",
       "4        6          3.730845                         Heat (1995)   \n",
       "\n",
       "                                        genres  \n",
       "0  Adventure|Animation|Children|Comedy|Fantasy  \n",
       "1                   Adventure|Children|Fantasy  \n",
       "2                               Comedy|Romance  \n",
       "3                                       Comedy  \n",
       "4                        Action|Crime|Thriller  "
      ]
     },
     "execution_count": 102,
     "metadata": {},
     "output_type": "execute_result"
    }
   ],
   "source": [
    "merged_final.head()"
   ]
  },
  {
   "cell_type": "code",
   "execution_count": 103,
   "id": "814b8212-5428-43a1-b2a3-531d18bd9504",
   "metadata": {},
   "outputs": [
    {
     "data": {
      "text/html": [
       "<div>\n",
       "<style scoped>\n",
       "    .dataframe tbody tr th:only-of-type {\n",
       "        vertical-align: middle;\n",
       "    }\n",
       "\n",
       "    .dataframe tbody tr th {\n",
       "        vertical-align: top;\n",
       "    }\n",
       "\n",
       "    .dataframe thead th {\n",
       "        text-align: right;\n",
       "    }\n",
       "</style>\n",
       "<table border=\"1\" class=\"dataframe\">\n",
       "  <thead>\n",
       "    <tr style=\"text-align: right;\">\n",
       "      <th></th>\n",
       "      <th>movieId</th>\n",
       "      <th>Estimated Rating</th>\n",
       "      <th>title</th>\n",
       "      <th>genres</th>\n",
       "    </tr>\n",
       "  </thead>\n",
       "  <tbody>\n",
       "    <tr>\n",
       "      <th>63</th>\n",
       "      <td>318</td>\n",
       "      <td>4.243565</td>\n",
       "      <td>Shawshank Redemption, The (1994)</td>\n",
       "      <td>Crime|Drama</td>\n",
       "    </tr>\n",
       "    <tr>\n",
       "      <th>19</th>\n",
       "      <td>50</td>\n",
       "      <td>4.122016</td>\n",
       "      <td>Usual Suspects, The (1995)</td>\n",
       "      <td>Crime|Mystery|Thriller</td>\n",
       "    </tr>\n",
       "    <tr>\n",
       "      <th>190</th>\n",
       "      <td>1221</td>\n",
       "      <td>4.117933</td>\n",
       "      <td>Godfather: Part II, The (1974)</td>\n",
       "      <td>Crime|Drama</td>\n",
       "    </tr>\n",
       "    <tr>\n",
       "      <th>102</th>\n",
       "      <td>527</td>\n",
       "      <td>4.109453</td>\n",
       "      <td>Schindler's List (1993)</td>\n",
       "      <td>Drama|War</td>\n",
       "    </tr>\n",
       "    <tr>\n",
       "      <th>288</th>\n",
       "      <td>2019</td>\n",
       "      <td>4.085282</td>\n",
       "      <td>Seven Samurai (Shichinin no samurai) (1954)</td>\n",
       "      <td>Action|Adventure|Drama</td>\n",
       "    </tr>\n",
       "    <tr>\n",
       "      <th>202</th>\n",
       "      <td>1252</td>\n",
       "      <td>4.071820</td>\n",
       "      <td>Chinatown (1974)</td>\n",
       "      <td>Crime|Film-Noir|Mystery|Thriller</td>\n",
       "    </tr>\n",
       "    <tr>\n",
       "      <th>131</th>\n",
       "      <td>750</td>\n",
       "      <td>4.062869</td>\n",
       "      <td>Dr. Strangelove or: How I Learned to Stop Worr...</td>\n",
       "      <td>Comedy|War</td>\n",
       "    </tr>\n",
       "    <tr>\n",
       "      <th>431</th>\n",
       "      <td>5618</td>\n",
       "      <td>4.058359</td>\n",
       "      <td>Spirited Away (Sen to Chihiro no kamikakushi) ...</td>\n",
       "      <td>Adventure|Animation|Fantasy</td>\n",
       "    </tr>\n",
       "    <tr>\n",
       "      <th>142</th>\n",
       "      <td>858</td>\n",
       "      <td>4.056125</td>\n",
       "      <td>Godfather, The (1972)</td>\n",
       "      <td>Crime|Drama</td>\n",
       "    </tr>\n",
       "    <tr>\n",
       "      <th>180</th>\n",
       "      <td>1203</td>\n",
       "      <td>4.054385</td>\n",
       "      <td>12 Angry Men (1957)</td>\n",
       "      <td>Drama</td>\n",
       "    </tr>\n",
       "    <tr>\n",
       "      <th>174</th>\n",
       "      <td>1196</td>\n",
       "      <td>4.049990</td>\n",
       "      <td>Star Wars: Episode V - The Empire Strikes Back...</td>\n",
       "      <td>Action|Adventure|Sci-Fi</td>\n",
       "    </tr>\n",
       "    <tr>\n",
       "      <th>146</th>\n",
       "      <td>904</td>\n",
       "      <td>4.026482</td>\n",
       "      <td>Rear Window (1954)</td>\n",
       "      <td>Mystery|Thriller</td>\n",
       "    </tr>\n",
       "    <tr>\n",
       "      <th>58</th>\n",
       "      <td>296</td>\n",
       "      <td>4.015257</td>\n",
       "      <td>Pulp Fiction (1994)</td>\n",
       "      <td>Comedy|Crime|Drama|Thriller</td>\n",
       "    </tr>\n",
       "    <tr>\n",
       "      <th>181</th>\n",
       "      <td>1204</td>\n",
       "      <td>4.007879</td>\n",
       "      <td>Lawrence of Arabia (1962)</td>\n",
       "      <td>Adventure|Drama|War</td>\n",
       "    </tr>\n",
       "    <tr>\n",
       "      <th>323</th>\n",
       "      <td>2571</td>\n",
       "      <td>4.004068</td>\n",
       "      <td>Matrix, The (1999)</td>\n",
       "      <td>Action|Sci-Fi|Thriller</td>\n",
       "    </tr>\n",
       "    <tr>\n",
       "      <th>343</th>\n",
       "      <td>2858</td>\n",
       "      <td>4.001367</td>\n",
       "      <td>American Beauty (1999)</td>\n",
       "      <td>Drama|Romance</td>\n",
       "    </tr>\n",
       "    <tr>\n",
       "      <th>147</th>\n",
       "      <td>908</td>\n",
       "      <td>4.000715</td>\n",
       "      <td>North by Northwest (1959)</td>\n",
       "      <td>Action|Adventure|Mystery|Romance|Thriller</td>\n",
       "    </tr>\n",
       "    <tr>\n",
       "      <th>117</th>\n",
       "      <td>593</td>\n",
       "      <td>3.996401</td>\n",
       "      <td>Silence of the Lambs, The (1991)</td>\n",
       "      <td>Crime|Horror|Thriller</td>\n",
       "    </tr>\n",
       "    <tr>\n",
       "      <th>173</th>\n",
       "      <td>1193</td>\n",
       "      <td>3.996376</td>\n",
       "      <td>One Flew Over the Cuckoo's Nest (1975)</td>\n",
       "      <td>Drama</td>\n",
       "    </tr>\n",
       "    <tr>\n",
       "      <th>149</th>\n",
       "      <td>913</td>\n",
       "      <td>3.984850</td>\n",
       "      <td>Maltese Falcon, The (1941)</td>\n",
       "      <td>Film-Noir|Mystery</td>\n",
       "    </tr>\n",
       "    <tr>\n",
       "      <th>179</th>\n",
       "      <td>1201</td>\n",
       "      <td>3.980296</td>\n",
       "      <td>Good, the Bad and the Ugly, The (Buono, il bru...</td>\n",
       "      <td>Action|Adventure|Western</td>\n",
       "    </tr>\n",
       "    <tr>\n",
       "      <th>352</th>\n",
       "      <td>3000</td>\n",
       "      <td>3.979368</td>\n",
       "      <td>Princess Mononoke (Mononoke-hime) (1997)</td>\n",
       "      <td>Action|Adventure|Animation|Drama|Fantasy</td>\n",
       "    </tr>\n",
       "    <tr>\n",
       "      <th>185</th>\n",
       "      <td>1213</td>\n",
       "      <td>3.977498</td>\n",
       "      <td>Goodfellas (1990)</td>\n",
       "      <td>Crime|Drama</td>\n",
       "    </tr>\n",
       "    <tr>\n",
       "      <th>196</th>\n",
       "      <td>1234</td>\n",
       "      <td>3.975521</td>\n",
       "      <td>Sting, The (1973)</td>\n",
       "      <td>Comedy|Crime</td>\n",
       "    </tr>\n",
       "    <tr>\n",
       "      <th>183</th>\n",
       "      <td>1207</td>\n",
       "      <td>3.975136</td>\n",
       "      <td>To Kill a Mockingbird (1962)</td>\n",
       "      <td>Drama</td>\n",
       "    </tr>\n",
       "    <tr>\n",
       "      <th>310</th>\n",
       "      <td>2324</td>\n",
       "      <td>3.970092</td>\n",
       "      <td>Life Is Beautiful (La Vita è bella) (1997)</td>\n",
       "      <td>Comedy|Drama|Romance|War</td>\n",
       "    </tr>\n",
       "    <tr>\n",
       "      <th>105</th>\n",
       "      <td>541</td>\n",
       "      <td>3.968216</td>\n",
       "      <td>Blade Runner (1982)</td>\n",
       "      <td>Action|Sci-Fi|Thriller</td>\n",
       "    </tr>\n",
       "    <tr>\n",
       "      <th>171</th>\n",
       "      <td>1148</td>\n",
       "      <td>3.965327</td>\n",
       "      <td>Wallace &amp; Gromit: The Wrong Trousers (1993)</td>\n",
       "      <td>Animation|Children|Comedy|Crime</td>\n",
       "    </tr>\n",
       "    <tr>\n",
       "      <th>442</th>\n",
       "      <td>6016</td>\n",
       "      <td>3.963580</td>\n",
       "      <td>City of God (Cidade de Deus) (2002)</td>\n",
       "      <td>Action|Adventure|Crime|Drama|Thriller</td>\n",
       "    </tr>\n",
       "    <tr>\n",
       "      <th>175</th>\n",
       "      <td>1197</td>\n",
       "      <td>3.961717</td>\n",
       "      <td>Princess Bride, The (1987)</td>\n",
       "      <td>Action|Adventure|Comedy|Fantasy|Romance</td>\n",
       "    </tr>\n",
       "  </tbody>\n",
       "</table>\n",
       "</div>"
      ],
      "text/plain": [
       "     movieId  Estimated Rating  \\\n",
       "63       318          4.243565   \n",
       "19        50          4.122016   \n",
       "190     1221          4.117933   \n",
       "102      527          4.109453   \n",
       "288     2019          4.085282   \n",
       "202     1252          4.071820   \n",
       "131      750          4.062869   \n",
       "431     5618          4.058359   \n",
       "142      858          4.056125   \n",
       "180     1203          4.054385   \n",
       "174     1196          4.049990   \n",
       "146      904          4.026482   \n",
       "58       296          4.015257   \n",
       "181     1204          4.007879   \n",
       "323     2571          4.004068   \n",
       "343     2858          4.001367   \n",
       "147      908          4.000715   \n",
       "117      593          3.996401   \n",
       "173     1193          3.996376   \n",
       "149      913          3.984850   \n",
       "179     1201          3.980296   \n",
       "352     3000          3.979368   \n",
       "185     1213          3.977498   \n",
       "196     1234          3.975521   \n",
       "183     1207          3.975136   \n",
       "310     2324          3.970092   \n",
       "105      541          3.968216   \n",
       "171     1148          3.965327   \n",
       "442     6016          3.963580   \n",
       "175     1197          3.961717   \n",
       "\n",
       "                                                 title  \\\n",
       "63                    Shawshank Redemption, The (1994)   \n",
       "19                          Usual Suspects, The (1995)   \n",
       "190                     Godfather: Part II, The (1974)   \n",
       "102                            Schindler's List (1993)   \n",
       "288        Seven Samurai (Shichinin no samurai) (1954)   \n",
       "202                                   Chinatown (1974)   \n",
       "131  Dr. Strangelove or: How I Learned to Stop Worr...   \n",
       "431  Spirited Away (Sen to Chihiro no kamikakushi) ...   \n",
       "142                              Godfather, The (1972)   \n",
       "180                                12 Angry Men (1957)   \n",
       "174  Star Wars: Episode V - The Empire Strikes Back...   \n",
       "146                                 Rear Window (1954)   \n",
       "58                                 Pulp Fiction (1994)   \n",
       "181                          Lawrence of Arabia (1962)   \n",
       "323                                 Matrix, The (1999)   \n",
       "343                             American Beauty (1999)   \n",
       "147                          North by Northwest (1959)   \n",
       "117                   Silence of the Lambs, The (1991)   \n",
       "173             One Flew Over the Cuckoo's Nest (1975)   \n",
       "149                         Maltese Falcon, The (1941)   \n",
       "179  Good, the Bad and the Ugly, The (Buono, il bru...   \n",
       "352           Princess Mononoke (Mononoke-hime) (1997)   \n",
       "185                                  Goodfellas (1990)   \n",
       "196                                  Sting, The (1973)   \n",
       "183                       To Kill a Mockingbird (1962)   \n",
       "310         Life Is Beautiful (La Vita è bella) (1997)   \n",
       "105                                Blade Runner (1982)   \n",
       "171        Wallace & Gromit: The Wrong Trousers (1993)   \n",
       "442                City of God (Cidade de Deus) (2002)   \n",
       "175                         Princess Bride, The (1987)   \n",
       "\n",
       "                                        genres  \n",
       "63                                 Crime|Drama  \n",
       "19                      Crime|Mystery|Thriller  \n",
       "190                                Crime|Drama  \n",
       "102                                  Drama|War  \n",
       "288                     Action|Adventure|Drama  \n",
       "202           Crime|Film-Noir|Mystery|Thriller  \n",
       "131                                 Comedy|War  \n",
       "431                Adventure|Animation|Fantasy  \n",
       "142                                Crime|Drama  \n",
       "180                                      Drama  \n",
       "174                    Action|Adventure|Sci-Fi  \n",
       "146                           Mystery|Thriller  \n",
       "58                 Comedy|Crime|Drama|Thriller  \n",
       "181                        Adventure|Drama|War  \n",
       "323                     Action|Sci-Fi|Thriller  \n",
       "343                              Drama|Romance  \n",
       "147  Action|Adventure|Mystery|Romance|Thriller  \n",
       "117                      Crime|Horror|Thriller  \n",
       "173                                      Drama  \n",
       "149                          Film-Noir|Mystery  \n",
       "179                   Action|Adventure|Western  \n",
       "352   Action|Adventure|Animation|Drama|Fantasy  \n",
       "185                                Crime|Drama  \n",
       "196                               Comedy|Crime  \n",
       "183                                      Drama  \n",
       "310                   Comedy|Drama|Romance|War  \n",
       "105                     Action|Sci-Fi|Thriller  \n",
       "171            Animation|Children|Comedy|Crime  \n",
       "442      Action|Adventure|Crime|Drama|Thriller  \n",
       "175    Action|Adventure|Comedy|Fantasy|Romance  "
      ]
     },
     "execution_count": 103,
     "metadata": {},
     "output_type": "execute_result"
    }
   ],
   "source": [
    "sorted_df = merged_final.sort_values(by='Estimated Rating', ascending=False)\n",
    "sorted_df.head(30)"
   ]
  },
  {
   "cell_type": "code",
   "execution_count": 104,
   "id": "de978b46-4686-4014-9393-f644264e80e8",
   "metadata": {},
   "outputs": [
    {
     "name": "stdout",
     "output_type": "stream",
     "text": [
      "<class 'pandas.core.frame.DataFrame'>\n",
      "Index: 578 entries, 63 to 335\n",
      "Data columns (total 4 columns):\n",
      " #   Column            Non-Null Count  Dtype  \n",
      "---  ------            --------------  -----  \n",
      " 0   movieId           578 non-null    int64  \n",
      " 1   Estimated Rating  578 non-null    float64\n",
      " 2   title             578 non-null    object \n",
      " 3   genres            578 non-null    object \n",
      "dtypes: float64(1), int64(1), object(2)\n",
      "memory usage: 22.6+ KB\n"
     ]
    }
   ],
   "source": [
    "sorted_df.info()"
   ]
  },
  {
   "cell_type": "code",
   "execution_count": null,
   "id": "c1c9ade4-03e5-43d9-ab68-0c7c0830b304",
   "metadata": {},
   "outputs": [],
   "source": [
    "sorted_df.shape"
   ]
  },
  {
   "cell_type": "markdown",
   "id": "f41cb7d2-03ed-4bcb-ae3f-e3a3b397d2cf",
   "metadata": {},
   "source": [
    "## Recommender class\n",
    "\n",
    "This class allows us to use our recommendation system on our GUI."
   ]
  },
  {
   "cell_type": "code",
   "execution_count": 105,
   "id": "2a144770-2c60-4ed2-abfc-b9da74470601",
   "metadata": {},
   "outputs": [],
   "source": [
    "class Recommender:\n",
    "  def __init__(self, movies, df_estimated, ratings_final):\n",
    "    self.movies = movies\n",
    "    self.df_estimated = df_estimated\n",
    "    self.ratings_final = ratings_final\n",
    "    self.find_similar_users = find_similar_users\n",
    "  def create_user(self, data):\n",
    "    return pd.DataFrame(data)\n",
    "  \n",
    "  def generate_recommendation(self, user_gui):\n",
    "    users = find_similar_users(user_gui,ratings_final )\n",
    "    ids = [] \n",
    "    for id, score in users.items():\n",
    "      if id == 0: \n",
    "        continue\n",
    "      ids.append(id)\n",
    "    filtered_df = self.df_estimated[self.df_estimated['userId'].isin(ids) & ~self.df_estimated['movieId'].isin(user_gui['movieId'])]\n",
    "\n",
    "    # Group by 'movieId' and calculate average rating\n",
    "    average_rating = filtered_df.groupby('movieId')['rating'].mean().reset_index()\n",
    "\n",
    "    average_rating.columns = ['movieId', 'estimated_rating']\n",
    "\n",
    "    average_rating\n",
    "    merged_final = pd.merge(average_rating, self.movies, on='movieId', how='left')\n",
    "    sorted_df = merged_final.sort_values(by='estimated_rating', ascending=False)\n",
    "    return sorted_df"
   ]
  },
  {
   "cell_type": "code",
   "execution_count": 106,
   "id": "7fef2c50-c344-456a-a21b-05888a26175e",
   "metadata": {},
   "outputs": [],
   "source": [
    "ids = ratings_final[\"movieId\"].values\n",
    "titles_df = movies[movies[\"movieId\"].isin(ids)][[\"movieId\",\"title\"]]"
   ]
  },
  {
   "cell_type": "code",
   "execution_count": 107,
   "id": "a9295dd8-7c15-4e19-847f-e669d8a68f5b",
   "metadata": {},
   "outputs": [],
   "source": [
    "titles_df.reset_index(inplace=True)\n",
    "       # self.recommender = Recommender(movies, df_estimated, ratings_final)\n"
   ]
  },
  {
   "cell_type": "markdown",
   "id": "8c2045c6-5989-4e65-8496-3b537c0f8332",
   "metadata": {},
   "source": [
    "# GUI\n",
    "\n",
    "This Graphical User Interface implements the Recommender Class and gives the user the possibility of trying our system themselves. As an user you can give rating to some titles and that will enable the system to find users that rated those movies in a similar way, and recommend to you the movies those users would judge as 'highly rated productions'. \n",
    "\n",
    "This is a simple prdone and how the prototype, just to show how the use of the system can be done by a user. It is recommended that 10 ratings are given as a way to tune our system, but less or more can also be done if desired be. "
   ]
  },
  {
   "cell_type": "code",
   "execution_count": 109,
   "id": "07f76755-6e21-49e2-b5aa-58efdbd38f2b",
   "metadata": {},
   "outputs": [],
   "source": [
    "class MovieGUI:\n",
    "    def __init__(self, dataset):\n",
    "        self.recommender = Recommender(movies, df_estimated, ratings_final)\n",
    "        self.dataset = dataset\n",
    "        self.root = tk.Tk()\n",
    "        self.root.title(\"Movie Recommender\")\n",
    "        self.root.geometry(\"900x600\")\n",
    "        self.root.configure(bg=\"lightblue\")\n",
    "        self.title_label = tk.Label(self.root, text=\"Movie Recommendation System\", font=(\"Helvetica\", 20), bg=\"lightblue\")\n",
    "        self.title_label.pack()\n",
    "        self.subtitle_label = tk.Label(self.root, text=\"Give a rating between 1-10 to 10 movies to obtain your recommendation:\", font=(\"Helvetica\", 12), bg=\"lightblue\")\n",
    "        self.subtitle_label.pack()\n",
    "        self.main_frame = tk.Frame(self.root, bg=\"white\", borderwidth=2, relief=\"solid\")\n",
    "        self.main_frame.pack(padx=20, pady=20, fill=tk.BOTH, expand=True)\n",
    "        self.main_frame.grid_propagate(False)\n",
    "        self.main_frame.config(width=800)\n",
    "        self.rating_pickers = []  # List to hold rating pickers\n",
    "        self.ratings = {\"userId\": [], \"movieId\": [], \"rating\": []}  # Dictionary to store ratings\n",
    "        self.canvas = tk.Canvas(self.main_frame, bg=\"white\", width=800, height=400)\n",
    "        self.canvas.pack(side=tk.LEFT, fill=tk.BOTH, expand=True)\n",
    "        self.scrollbar = ttk.Scrollbar(self.main_frame, orient=tk.VERTICAL, command=self.canvas.yview)\n",
    "        self.scrollbar.pack(side=tk.RIGHT, fill=tk.Y)\n",
    "        self.canvas.configure(yscrollcommand=self.scrollbar.set)\n",
    "        self.canvas.bind(\"<Configure>\", lambda e: self.canvas.configure(scrollregion=self.canvas.bbox(\"all\")))\n",
    "        self.inner_frame = tk.Frame(self.canvas, bg=\"white\")\n",
    "        self.canvas.create_window((0, 0), window=self.inner_frame, anchor=\"nw\")\n",
    "        for i, row in enumerate(self.dataset.itertuples(), start=1):\n",
    "            title_label = tk.Label(self.inner_frame, text=row.title, bg=\"white\")\n",
    "            title_label.grid(row=i, column=0, padx=(0, 10), pady=5, sticky=\"ns\")\n",
    "            rating_picker = ttk.Combobox(self.inner_frame, values=[\"\"] + [i for i in range(1, 11)], width=3)\n",
    "            rating_picker.grid(row=i, column=1, pady=5, sticky=\"ns\")\n",
    "            self.rating_pickers.append(rating_picker)\n",
    "        self.recommend_button = tk.Button(self.root, text=\"Recommend\", font=(\"Helvetica\", 14), command=self.recommend_movie)\n",
    "        self.recommend_button.pack(pady=10)\n",
    "        self.subtitle_label = tk.Label(self.root, text=\"by Ingrid & Robert\", font=(\"Helvetica\", 10), bg=\"lightblue\")\n",
    "        self.subtitle_label.pack(pady=5)\n",
    "\n",
    "    def recommend_movie(self):\n",
    "        for i, rating_picker in enumerate(self.rating_pickers):\n",
    "            rating = rating_picker.get()\n",
    "            if rating:\n",
    "                self.ratings[\"userId\"].append(\"0\")  # Add placeholder for userId\n",
    "                self.ratings[\"movieId\"].append(self.dataset.iloc[i].movieId)\n",
    "                self.ratings[\"rating\"].append(float(rating)/2)\n",
    "        user = self.recommender.create_user(self.ratings)\n",
    "        # print(user)\n",
    "        self.recommendation_df = self.recommender.generate_recommendation(user)\n",
    "        # print(self.recommendation_df.head(5))\n",
    "        self.display_recommendation(self.recommendation_df)\n",
    "        \n",
    "    def display_recommendation(self, recommendation_df):\n",
    "        # Clear existing content in the inner_frame\n",
    "        for widget in self.inner_frame.winfo_children():\n",
    "            widget.destroy()\n",
    "\n",
    "        # Display loading message\n",
    "        loading_label = tk.Label(self.inner_frame, text=\"Loading recommendations...\", bg=\"white\")\n",
    "        loading_label.grid(row=0, columnspan=2, pady=10)    \n",
    "\n",
    "        # Remove loading message\n",
    "        loading_label.grid_forget()    \n",
    "\n",
    "        # Display recommendation dataframe in main_frame\n",
    "        recommendation_text = tk.Text(self.inner_frame, wrap=\"word\", width=120, height=80, bg=\"white\", font=(\"Helvetica\", 12))\n",
    "        recommendation_text.insert(tk.END, \"Recommended Movies:\\n\\n\")\n",
    "        for row in recommendation_df.itertuples():\n",
    "            recommendation_text.insert(tk.END, f\"\\tTitle: {row.title} \\t Estimated Rating: {round(row.estimated_rating,1)} \\t Genres:{row.genres}\\n\\n\")\n",
    "        recommendation_text.grid(row=1, columnspan=2, pady=5, sticky=\"nsew\")\n",
    "\n",
    "\n",
    "        recommendation_text.tag_configure(\"center\", justify=\"center\")\n",
    "        # Update scroll region\n",
    "        self.canvas.update_idletasks()  # Update widgets to get accurate scroll region\n",
    "        self.canvas.configure(scrollregion=self.canvas.bbox(\"all\"))\n",
    "\n",
    "    def run(self):\n",
    "        self.root.mainloop()\n",
    "\n",
    "# Load the dataset\n",
    "\n",
    "# Create GUI instance with dataset\n",
    "gui = MovieGUI(titles_df)\n",
    "gui.run()"
   ]
  },
  {
   "cell_type": "code",
   "execution_count": null,
   "id": "f4dc184c-85c5-4ca7-bcb1-801812993d58",
   "metadata": {},
   "outputs": [],
   "source": []
  }
 ],
 "metadata": {
  "kernelspec": {
   "display_name": "Python 3 (ipykernel)",
   "language": "python",
   "name": "python3"
  },
  "language_info": {
   "codemirror_mode": {
    "name": "ipython",
    "version": 3
   },
   "file_extension": ".py",
   "mimetype": "text/x-python",
   "name": "python",
   "nbconvert_exporter": "python",
   "pygments_lexer": "ipython3",
   "version": "3.11.7"
  }
 },
 "nbformat": 4,
 "nbformat_minor": 5
}
